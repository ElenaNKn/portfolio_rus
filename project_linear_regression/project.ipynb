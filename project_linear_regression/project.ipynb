{
 "cells": [
  {
   "cell_type": "markdown",
   "metadata": {
    "id": "S-Nk7D6JSrS4"
   },
   "source": [
    "# Линейная регрессия. Работа с признаками"
   ]
  },
  {
   "cell_type": "code",
   "execution_count": 1,
   "metadata": {
    "id": "30SvusWoSrS9"
   },
   "outputs": [],
   "source": [
    "import numpy as np\n",
    "import pandas as pd\n",
    "\n",
    "from sklearn.metrics import mutual_info_score\n",
    "from sklearn.model_selection import train_test_split\n",
    "from sklearn.preprocessing import StandardScaler\n",
    "from sklearn.preprocessing import OneHotEncoder\n",
    "from sklearn.compose import make_column_transformer\n",
    "\n",
    "from sklearn.linear_model import LinearRegression\n",
    "from sklearn.metrics import r2_score\n",
    "\n",
    "import matplotlib.pyplot as plt"
   ]
  },
  {
   "cell_type": "markdown",
   "metadata": {
    "id": "8XVxYkdydhAi"
   },
   "source": [
    "## Загрузка данных"
   ]
  },
  {
   "cell_type": "code",
   "execution_count": 2,
   "metadata": {
    "id": "-HIO2yliSrS-"
   },
   "outputs": [
    {
     "data": {
      "text/html": [
       "<div>\n",
       "<style scoped>\n",
       "    .dataframe tbody tr th:only-of-type {\n",
       "        vertical-align: middle;\n",
       "    }\n",
       "\n",
       "    .dataframe tbody tr th {\n",
       "        vertical-align: top;\n",
       "    }\n",
       "\n",
       "    .dataframe thead th {\n",
       "        text-align: right;\n",
       "    }\n",
       "</style>\n",
       "<table border=\"1\" class=\"dataframe\">\n",
       "  <thead>\n",
       "    <tr style=\"text-align: right;\">\n",
       "      <th></th>\n",
       "      <th>Unnamed: 0</th>\n",
       "      <th>carat</th>\n",
       "      <th>cut</th>\n",
       "      <th>color</th>\n",
       "      <th>clarity</th>\n",
       "      <th>depth</th>\n",
       "      <th>table</th>\n",
       "      <th>price</th>\n",
       "      <th>x</th>\n",
       "      <th>y</th>\n",
       "      <th>z</th>\n",
       "    </tr>\n",
       "  </thead>\n",
       "  <tbody>\n",
       "    <tr>\n",
       "      <th>0</th>\n",
       "      <td>1</td>\n",
       "      <td>0.23</td>\n",
       "      <td>Ideal</td>\n",
       "      <td>E</td>\n",
       "      <td>SI2</td>\n",
       "      <td>61.5</td>\n",
       "      <td>55.0</td>\n",
       "      <td>326</td>\n",
       "      <td>3.95</td>\n",
       "      <td>3.98</td>\n",
       "      <td>2.43</td>\n",
       "    </tr>\n",
       "    <tr>\n",
       "      <th>1</th>\n",
       "      <td>2</td>\n",
       "      <td>0.21</td>\n",
       "      <td>Premium</td>\n",
       "      <td>E</td>\n",
       "      <td>SI1</td>\n",
       "      <td>59.8</td>\n",
       "      <td>61.0</td>\n",
       "      <td>326</td>\n",
       "      <td>3.89</td>\n",
       "      <td>3.84</td>\n",
       "      <td>2.31</td>\n",
       "    </tr>\n",
       "    <tr>\n",
       "      <th>2</th>\n",
       "      <td>3</td>\n",
       "      <td>0.23</td>\n",
       "      <td>Good</td>\n",
       "      <td>E</td>\n",
       "      <td>VS1</td>\n",
       "      <td>56.9</td>\n",
       "      <td>65.0</td>\n",
       "      <td>327</td>\n",
       "      <td>4.05</td>\n",
       "      <td>4.07</td>\n",
       "      <td>2.31</td>\n",
       "    </tr>\n",
       "    <tr>\n",
       "      <th>3</th>\n",
       "      <td>4</td>\n",
       "      <td>0.29</td>\n",
       "      <td>Premium</td>\n",
       "      <td>I</td>\n",
       "      <td>VS2</td>\n",
       "      <td>62.4</td>\n",
       "      <td>58.0</td>\n",
       "      <td>334</td>\n",
       "      <td>4.20</td>\n",
       "      <td>4.23</td>\n",
       "      <td>2.63</td>\n",
       "    </tr>\n",
       "    <tr>\n",
       "      <th>4</th>\n",
       "      <td>5</td>\n",
       "      <td>0.31</td>\n",
       "      <td>Good</td>\n",
       "      <td>J</td>\n",
       "      <td>SI2</td>\n",
       "      <td>63.3</td>\n",
       "      <td>58.0</td>\n",
       "      <td>335</td>\n",
       "      <td>4.34</td>\n",
       "      <td>4.35</td>\n",
       "      <td>2.75</td>\n",
       "    </tr>\n",
       "  </tbody>\n",
       "</table>\n",
       "</div>"
      ],
      "text/plain": [
       "   Unnamed: 0  carat      cut color clarity  depth  table  price     x     y  \\\n",
       "0           1   0.23    Ideal     E     SI2   61.5   55.0    326  3.95  3.98   \n",
       "1           2   0.21  Premium     E     SI1   59.8   61.0    326  3.89  3.84   \n",
       "2           3   0.23     Good     E     VS1   56.9   65.0    327  4.05  4.07   \n",
       "3           4   0.29  Premium     I     VS2   62.4   58.0    334  4.20  4.23   \n",
       "4           5   0.31     Good     J     SI2   63.3   58.0    335  4.34  4.35   \n",
       "\n",
       "      z  \n",
       "0  2.43  \n",
       "1  2.31  \n",
       "2  2.31  \n",
       "3  2.63  \n",
       "4  2.75  "
      ]
     },
     "execution_count": 2,
     "metadata": {},
     "output_type": "execute_result"
    }
   ],
   "source": [
    "data = pd.read_csv('https://raw.githubusercontent.com/ElenaNKn/portfolio_rus/master/project_linear_regression/diamonds.csv')\n",
    "data.head(5)"
   ]
  },
  {
   "cell_type": "markdown",
   "metadata": {
    "id": "rUL_m2KVK39v"
   },
   "source": [
    "Посмотрим на типы столбцов."
   ]
  },
  {
   "cell_type": "code",
   "execution_count": 3,
   "metadata": {
    "id": "xcJlwyrgUUE3"
   },
   "outputs": [
    {
     "data": {
      "text/plain": [
       "Unnamed: 0      int64\n",
       "carat         float64\n",
       "cut            object\n",
       "color          object\n",
       "clarity        object\n",
       "depth         float64\n",
       "table         float64\n",
       "price           int64\n",
       "x             float64\n",
       "y             float64\n",
       "z             float64\n",
       "dtype: object"
      ]
     },
     "execution_count": 3,
     "metadata": {},
     "output_type": "execute_result"
    }
   ],
   "source": [
    "data.dtypes"
   ]
  },
  {
   "cell_type": "markdown",
   "metadata": {
    "id": "Ro9c3tbbSrS-"
   },
   "source": [
    "Таким образом, целевая переменная задается столбцом `price`. Остальные столбцы могут рассматриваться как признаки объекта"
   ]
  },
  {
   "cell_type": "markdown",
   "metadata": {
    "id": "hdVZhwpBSrS_"
   },
   "source": [
    "## EDA и проектирование признаков"
   ]
  },
  {
   "cell_type": "markdown",
   "metadata": {
    "id": "rI5PnSLtdp3B"
   },
   "source": [
    "Проверим количество пропусков в каждом столбце."
   ]
  },
  {
   "cell_type": "code",
   "execution_count": 4,
   "metadata": {
    "id": "ebV5X3S9SrS_"
   },
   "outputs": [
    {
     "data": {
      "text/plain": [
       "Unnamed: 0    0\n",
       "carat         0\n",
       "cut           0\n",
       "color         0\n",
       "clarity       0\n",
       "depth         0\n",
       "table         0\n",
       "price         0\n",
       "x             0\n",
       "y             0\n",
       "z             0\n",
       "dtype: int64"
      ]
     },
     "execution_count": 4,
     "metadata": {},
     "output_type": "execute_result"
    }
   ],
   "source": [
    "data.isna().sum()"
   ]
  },
  {
   "cell_type": "markdown",
   "metadata": {
    "id": "0Y9xswurduRh"
   },
   "source": [
    "Столбец `Unnamed: 0` не несет смысловой информации. Поэтому удалим его"
   ]
  },
  {
   "cell_type": "code",
   "execution_count": 5,
   "metadata": {
    "id": "7DX20kQiSrTA"
   },
   "outputs": [
    {
     "data": {
      "text/html": [
       "<div>\n",
       "<style scoped>\n",
       "    .dataframe tbody tr th:only-of-type {\n",
       "        vertical-align: middle;\n",
       "    }\n",
       "\n",
       "    .dataframe tbody tr th {\n",
       "        vertical-align: top;\n",
       "    }\n",
       "\n",
       "    .dataframe thead th {\n",
       "        text-align: right;\n",
       "    }\n",
       "</style>\n",
       "<table border=\"1\" class=\"dataframe\">\n",
       "  <thead>\n",
       "    <tr style=\"text-align: right;\">\n",
       "      <th></th>\n",
       "      <th>carat</th>\n",
       "      <th>cut</th>\n",
       "      <th>color</th>\n",
       "      <th>clarity</th>\n",
       "      <th>depth</th>\n",
       "      <th>table</th>\n",
       "      <th>price</th>\n",
       "      <th>x</th>\n",
       "      <th>y</th>\n",
       "      <th>z</th>\n",
       "    </tr>\n",
       "  </thead>\n",
       "  <tbody>\n",
       "    <tr>\n",
       "      <th>0</th>\n",
       "      <td>0.23</td>\n",
       "      <td>Ideal</td>\n",
       "      <td>E</td>\n",
       "      <td>SI2</td>\n",
       "      <td>61.5</td>\n",
       "      <td>55.0</td>\n",
       "      <td>326</td>\n",
       "      <td>3.95</td>\n",
       "      <td>3.98</td>\n",
       "      <td>2.43</td>\n",
       "    </tr>\n",
       "    <tr>\n",
       "      <th>1</th>\n",
       "      <td>0.21</td>\n",
       "      <td>Premium</td>\n",
       "      <td>E</td>\n",
       "      <td>SI1</td>\n",
       "      <td>59.8</td>\n",
       "      <td>61.0</td>\n",
       "      <td>326</td>\n",
       "      <td>3.89</td>\n",
       "      <td>3.84</td>\n",
       "      <td>2.31</td>\n",
       "    </tr>\n",
       "    <tr>\n",
       "      <th>2</th>\n",
       "      <td>0.23</td>\n",
       "      <td>Good</td>\n",
       "      <td>E</td>\n",
       "      <td>VS1</td>\n",
       "      <td>56.9</td>\n",
       "      <td>65.0</td>\n",
       "      <td>327</td>\n",
       "      <td>4.05</td>\n",
       "      <td>4.07</td>\n",
       "      <td>2.31</td>\n",
       "    </tr>\n",
       "    <tr>\n",
       "      <th>3</th>\n",
       "      <td>0.29</td>\n",
       "      <td>Premium</td>\n",
       "      <td>I</td>\n",
       "      <td>VS2</td>\n",
       "      <td>62.4</td>\n",
       "      <td>58.0</td>\n",
       "      <td>334</td>\n",
       "      <td>4.20</td>\n",
       "      <td>4.23</td>\n",
       "      <td>2.63</td>\n",
       "    </tr>\n",
       "    <tr>\n",
       "      <th>4</th>\n",
       "      <td>0.31</td>\n",
       "      <td>Good</td>\n",
       "      <td>J</td>\n",
       "      <td>SI2</td>\n",
       "      <td>63.3</td>\n",
       "      <td>58.0</td>\n",
       "      <td>335</td>\n",
       "      <td>4.34</td>\n",
       "      <td>4.35</td>\n",
       "      <td>2.75</td>\n",
       "    </tr>\n",
       "  </tbody>\n",
       "</table>\n",
       "</div>"
      ],
      "text/plain": [
       "   carat      cut color clarity  depth  table  price     x     y     z\n",
       "0   0.23    Ideal     E     SI2   61.5   55.0    326  3.95  3.98  2.43\n",
       "1   0.21  Premium     E     SI1   59.8   61.0    326  3.89  3.84  2.31\n",
       "2   0.23     Good     E     VS1   56.9   65.0    327  4.05  4.07  2.31\n",
       "3   0.29  Premium     I     VS2   62.4   58.0    334  4.20  4.23  2.63\n",
       "4   0.31     Good     J     SI2   63.3   58.0    335  4.34  4.35  2.75"
      ]
     },
     "execution_count": 5,
     "metadata": {},
     "output_type": "execute_result"
    }
   ],
   "source": [
    "data.drop('Unnamed: 0', axis=1, inplace=True)\n",
    "data.head()"
   ]
  },
  {
   "cell_type": "markdown",
   "metadata": {
    "id": "-zTj1CK4dzw2"
   },
   "source": [
    "Линейная регрессия основана на предположении о линейной связи между признаками и целевой переменной.  Проверим, насколько эта связь выполняется. Для этого построим матрицу корреляций между всеми вещественными признаками и целевой переменной."
   ]
  },
  {
   "cell_type": "code",
   "execution_count": 6,
   "metadata": {
    "id": "wVq4XjF0SrTA"
   },
   "outputs": [
    {
     "name": "stdout",
     "output_type": "stream",
     "text": [
      "carat    0.921591\n",
      "x        0.884435\n",
      "y        0.865421\n",
      "z        0.861249\n",
      "table    0.127134\n",
      "depth    0.010647\n",
      "dtype: float64\n"
     ]
    }
   ],
   "source": [
    "list_num = ['carat', 'depth', 'table', 'x', 'y', 'z']\n",
    "\n",
    "corr = data[list_num].corrwith(data['price']).abs().sort_values(ascending=False)\n",
    "print(corr)"
   ]
  },
  {
   "cell_type": "markdown",
   "metadata": {},
   "source": [
    "Как видно  из полученных коэффициентов корреляции Пирсона, цена бриллианта преимущественно определяется его весом в каратах и ленейными размерами."
   ]
  },
  {
   "cell_type": "markdown",
   "metadata": {},
   "source": [
    "Для моделей линейной регрессии нежелательно наличие сильной линейной связи между признаками. Проверим попарные коэффициенты корреляции числовых признаков"
   ]
  },
  {
   "cell_type": "code",
   "execution_count": 7,
   "metadata": {},
   "outputs": [
    {
     "data": {
      "text/html": [
       "<div>\n",
       "<style scoped>\n",
       "    .dataframe tbody tr th:only-of-type {\n",
       "        vertical-align: middle;\n",
       "    }\n",
       "\n",
       "    .dataframe tbody tr th {\n",
       "        vertical-align: top;\n",
       "    }\n",
       "\n",
       "    .dataframe thead th {\n",
       "        text-align: right;\n",
       "    }\n",
       "</style>\n",
       "<table border=\"1\" class=\"dataframe\">\n",
       "  <thead>\n",
       "    <tr style=\"text-align: right;\">\n",
       "      <th></th>\n",
       "      <th>carat</th>\n",
       "      <th>depth</th>\n",
       "      <th>table</th>\n",
       "      <th>x</th>\n",
       "      <th>y</th>\n",
       "      <th>z</th>\n",
       "    </tr>\n",
       "  </thead>\n",
       "  <tbody>\n",
       "    <tr>\n",
       "      <th>carat</th>\n",
       "      <td>1.000000</td>\n",
       "      <td>0.028224</td>\n",
       "      <td>0.181618</td>\n",
       "      <td>0.975094</td>\n",
       "      <td>0.951722</td>\n",
       "      <td>0.953387</td>\n",
       "    </tr>\n",
       "    <tr>\n",
       "      <th>depth</th>\n",
       "      <td>0.028224</td>\n",
       "      <td>1.000000</td>\n",
       "      <td>-0.295779</td>\n",
       "      <td>-0.025289</td>\n",
       "      <td>-0.029341</td>\n",
       "      <td>0.094924</td>\n",
       "    </tr>\n",
       "    <tr>\n",
       "      <th>table</th>\n",
       "      <td>0.181618</td>\n",
       "      <td>-0.295779</td>\n",
       "      <td>1.000000</td>\n",
       "      <td>0.195344</td>\n",
       "      <td>0.183760</td>\n",
       "      <td>0.150929</td>\n",
       "    </tr>\n",
       "    <tr>\n",
       "      <th>x</th>\n",
       "      <td>0.975094</td>\n",
       "      <td>-0.025289</td>\n",
       "      <td>0.195344</td>\n",
       "      <td>1.000000</td>\n",
       "      <td>0.974701</td>\n",
       "      <td>0.970772</td>\n",
       "    </tr>\n",
       "    <tr>\n",
       "      <th>y</th>\n",
       "      <td>0.951722</td>\n",
       "      <td>-0.029341</td>\n",
       "      <td>0.183760</td>\n",
       "      <td>0.974701</td>\n",
       "      <td>1.000000</td>\n",
       "      <td>0.952006</td>\n",
       "    </tr>\n",
       "    <tr>\n",
       "      <th>z</th>\n",
       "      <td>0.953387</td>\n",
       "      <td>0.094924</td>\n",
       "      <td>0.150929</td>\n",
       "      <td>0.970772</td>\n",
       "      <td>0.952006</td>\n",
       "      <td>1.000000</td>\n",
       "    </tr>\n",
       "  </tbody>\n",
       "</table>\n",
       "</div>"
      ],
      "text/plain": [
       "          carat     depth     table         x         y         z\n",
       "carat  1.000000  0.028224  0.181618  0.975094  0.951722  0.953387\n",
       "depth  0.028224  1.000000 -0.295779 -0.025289 -0.029341  0.094924\n",
       "table  0.181618 -0.295779  1.000000  0.195344  0.183760  0.150929\n",
       "x      0.975094 -0.025289  0.195344  1.000000  0.974701  0.970772\n",
       "y      0.951722 -0.029341  0.183760  0.974701  1.000000  0.952006\n",
       "z      0.953387  0.094924  0.150929  0.970772  0.952006  1.000000"
      ]
     },
     "execution_count": 7,
     "metadata": {},
     "output_type": "execute_result"
    }
   ],
   "source": [
    "corr_matr = data[list_num].corr()\n",
    "corr_matr"
   ]
  },
  {
   "cell_type": "markdown",
   "metadata": {},
   "source": [
    "Из полученных результатов видно, что линейные размеры (`x`, `y`, `z`) сильно коррелируют между собой, а также с признаком веса (`carat`). То есть мы столкнулись с проблемой мультиколлинеарности. При этом, ранее было показано, что целевая переменная `price` лучше коррелирует с признаком `carat`, чем с линейными размерами.\n",
    "\n",
    "В данной ситуации можно удалить признаки `x`, `y` и `z`"
   ]
  },
  {
   "cell_type": "code",
   "execution_count": 8,
   "metadata": {},
   "outputs": [],
   "source": [
    "data.drop(['x', 'y', 'z'], axis=1, inplace=True)"
   ]
  },
  {
   "cell_type": "markdown",
   "metadata": {},
   "source": [
    "Посмотрим, как изменилась матрица корреляций числовых признаков и коэффициенты корреляции с целевой переменной"
   ]
  },
  {
   "cell_type": "code",
   "execution_count": 9,
   "metadata": {},
   "outputs": [
    {
     "data": {
      "text/html": [
       "<div>\n",
       "<style scoped>\n",
       "    .dataframe tbody tr th:only-of-type {\n",
       "        vertical-align: middle;\n",
       "    }\n",
       "\n",
       "    .dataframe tbody tr th {\n",
       "        vertical-align: top;\n",
       "    }\n",
       "\n",
       "    .dataframe thead th {\n",
       "        text-align: right;\n",
       "    }\n",
       "</style>\n",
       "<table border=\"1\" class=\"dataframe\">\n",
       "  <thead>\n",
       "    <tr style=\"text-align: right;\">\n",
       "      <th></th>\n",
       "      <th>carat</th>\n",
       "      <th>depth</th>\n",
       "      <th>table</th>\n",
       "    </tr>\n",
       "  </thead>\n",
       "  <tbody>\n",
       "    <tr>\n",
       "      <th>carat</th>\n",
       "      <td>1.000000</td>\n",
       "      <td>0.028224</td>\n",
       "      <td>0.181618</td>\n",
       "    </tr>\n",
       "    <tr>\n",
       "      <th>depth</th>\n",
       "      <td>0.028224</td>\n",
       "      <td>1.000000</td>\n",
       "      <td>-0.295779</td>\n",
       "    </tr>\n",
       "    <tr>\n",
       "      <th>table</th>\n",
       "      <td>0.181618</td>\n",
       "      <td>-0.295779</td>\n",
       "      <td>1.000000</td>\n",
       "    </tr>\n",
       "  </tbody>\n",
       "</table>\n",
       "</div>"
      ],
      "text/plain": [
       "          carat     depth     table\n",
       "carat  1.000000  0.028224  0.181618\n",
       "depth  0.028224  1.000000 -0.295779\n",
       "table  0.181618 -0.295779  1.000000"
      ]
     },
     "execution_count": 9,
     "metadata": {},
     "output_type": "execute_result"
    }
   ],
   "source": [
    "list_num = ['carat', 'depth', 'table']\n",
    "\n",
    "corr_matr = data[list_num].corr()\n",
    "corr_matr"
   ]
  },
  {
   "cell_type": "code",
   "execution_count": 10,
   "metadata": {},
   "outputs": [
    {
     "name": "stdout",
     "output_type": "stream",
     "text": [
      "carat    0.921591\n",
      "table    0.127134\n",
      "depth    0.010647\n",
      "dtype: float64\n"
     ]
    }
   ],
   "source": [
    "corr = data[list_num].corrwith(data['price']).abs().sort_values(ascending=False)\n",
    "print(corr)"
   ]
  },
  {
   "cell_type": "markdown",
   "metadata": {},
   "source": [
    "Теперь посмотрим, как влияют категориальные признаки на цену бриллиантов. Для этого рассчитаем взаимную информацию"
   ]
  },
  {
   "cell_type": "code",
   "execution_count": 11,
   "metadata": {},
   "outputs": [],
   "source": [
    "def mutual_info(series):\n",
    "    return mutual_info_score(series, data['price'])"
   ]
  },
  {
   "cell_type": "code",
   "execution_count": 12,
   "metadata": {},
   "outputs": [
    {
     "data": {
      "text/plain": [
       "clarity    0.883855\n",
       "color      0.849440\n",
       "cut        0.483690\n",
       "dtype: float64"
      ]
     },
     "execution_count": 12,
     "metadata": {},
     "output_type": "execute_result"
    }
   ],
   "source": [
    "list_categorical = ['cut', 'color', 'clarity']\n",
    "mi = data[list_categorical].apply(mutual_info)\n",
    "mi.sort_values(ascending=False)"
   ]
  },
  {
   "cell_type": "markdown",
   "metadata": {},
   "source": [
    "Таким образом, мы видим, что чистота и цвет влияют значительно больше на конечную цену бриллианта, чем способ его огранки "
   ]
  },
  {
   "cell_type": "markdown",
   "metadata": {},
   "source": [
    "Посмотрим, как распределена целевая переменная, чтобы оценить есть ли необходимость дополнительного преобразования целевой переменной (например, в случае наличия \"длинного хвоста\")"
   ]
  },
  {
   "cell_type": "code",
   "execution_count": 13,
   "metadata": {},
   "outputs": [
    {
     "data": {
      "image/png": "[encoded data removed]",
      "text/plain": [
       "<Figure size 600x400 with 1 Axes>"
      ]
     },
     "metadata": {},
     "output_type": "display_data"
    }
   ],
   "source": [
    "plt.figure(figsize=(6, 4))\n",
    "\n",
    "plt.hist(data['price'], bins=40, color='blue')\n",
    "plt.xlabel('Price')\n",
    "plt.title('Distribution of price')\n",
    "\n",
    "plt.show()"
   ]
  },
  {
   "cell_type": "markdown",
   "metadata": {},
   "source": [
    "Визуально распределение цены напоминает экспоненциальное распределение, необходимости в дополнительных преобразованиях не наблюдается"
   ]
  },
  {
   "cell_type": "markdown",
   "metadata": {},
   "source": [
    "## Подготовка данных"
   ]
  },
  {
   "cell_type": "markdown",
   "metadata": {
    "id": "nv-XrWeAV_zh"
   },
   "source": [
    "Формируем матрицу признаков Х и вектор целевой переменной у (для `price`)."
   ]
  },
  {
   "cell_type": "code",
   "execution_count": 14,
   "metadata": {
    "id": "UpGgtH_EWCON"
   },
   "outputs": [],
   "source": [
    "X = data.drop('price', axis=1)\n",
    "y = data.price"
   ]
  },
  {
   "cell_type": "markdown",
   "metadata": {
    "id": "Qky2En52eDPj"
   },
   "source": [
    "Разбиваем выборку на тренировочную и тестовую часть."
   ]
  },
  {
   "cell_type": "code",
   "execution_count": 15,
   "metadata": {
    "id": "gMwY5R_aSrTB"
   },
   "outputs": [],
   "source": [
    "Xtrain, Xtest, ytrain, ytest = train_test_split(X, y, test_size=0.3, random_state = 42)"
   ]
  },
  {
   "cell_type": "markdown",
   "metadata": {},
   "source": [
    "Закодируем категориальные переменные при помощи OneHot-кодирования. Для исключения возникновения линейной зависимости между закодированными признаками ставим drop_first= True."
   ]
  },
  {
   "cell_type": "code",
   "execution_count": 16,
   "metadata": {},
   "outputs": [],
   "source": [
    "transformer = make_column_transformer((OneHotEncoder(drop='first'), list_categorical), remainder=\"passthrough\")\n",
    "transformed = transformer.fit_transform(Xtrain).toarray()\n",
    "Xtrain = pd.DataFrame(transformed, columns=transformer.get_feature_names_out())\n",
    "\n",
    "transformed_test=transformer.transform(Xtest).toarray()\n",
    "Xtest=pd.DataFrame(transformed_test, columns=transformer.get_feature_names_out())"
   ]
  },
  {
   "cell_type": "markdown",
   "metadata": {
    "id": "pfSlapoAeIIl"
   },
   "source": [
    "Линейные модели чувствительны к масштабам. Поэтому отнормируем выборки с применением StandardScaler"
   ]
  },
  {
   "cell_type": "code",
   "execution_count": 17,
   "metadata": {
    "id": "9aOjwTvmSrTB"
   },
   "outputs": [
    {
     "data": {
      "text/html": [
       "<div>\n",
       "<style scoped>\n",
       "    .dataframe tbody tr th:only-of-type {\n",
       "        vertical-align: middle;\n",
       "    }\n",
       "\n",
       "    .dataframe tbody tr th {\n",
       "        vertical-align: top;\n",
       "    }\n",
       "\n",
       "    .dataframe thead th {\n",
       "        text-align: right;\n",
       "    }\n",
       "</style>\n",
       "<table border=\"1\" class=\"dataframe\">\n",
       "  <thead>\n",
       "    <tr style=\"text-align: right;\">\n",
       "      <th></th>\n",
       "      <th>onehotencoder__cut_Good</th>\n",
       "      <th>onehotencoder__cut_Ideal</th>\n",
       "      <th>onehotencoder__cut_Premium</th>\n",
       "      <th>onehotencoder__cut_Very Good</th>\n",
       "      <th>onehotencoder__color_E</th>\n",
       "      <th>onehotencoder__color_F</th>\n",
       "      <th>onehotencoder__color_G</th>\n",
       "      <th>onehotencoder__color_H</th>\n",
       "      <th>onehotencoder__color_I</th>\n",
       "      <th>onehotencoder__color_J</th>\n",
       "      <th>onehotencoder__clarity_IF</th>\n",
       "      <th>onehotencoder__clarity_SI1</th>\n",
       "      <th>onehotencoder__clarity_SI2</th>\n",
       "      <th>onehotencoder__clarity_VS1</th>\n",
       "      <th>onehotencoder__clarity_VS2</th>\n",
       "      <th>onehotencoder__clarity_VVS1</th>\n",
       "      <th>onehotencoder__clarity_VVS2</th>\n",
       "      <th>remainder__carat</th>\n",
       "      <th>remainder__depth</th>\n",
       "      <th>remainder__table</th>\n",
       "    </tr>\n",
       "  </thead>\n",
       "  <tbody>\n",
       "    <tr>\n",
       "      <th>0</th>\n",
       "      <td>-0.314881</td>\n",
       "      <td>1.227398</td>\n",
       "      <td>-0.585893</td>\n",
       "      <td>-0.539653</td>\n",
       "      <td>-0.470813</td>\n",
       "      <td>-0.465474</td>\n",
       "      <td>-0.511867</td>\n",
       "      <td>2.329335</td>\n",
       "      <td>-0.333294</td>\n",
       "      <td>-0.234494</td>\n",
       "      <td>-0.184885</td>\n",
       "      <td>-0.568277</td>\n",
       "      <td>-0.451216</td>\n",
       "      <td>-0.422668</td>\n",
       "      <td>-0.542475</td>\n",
       "      <td>-0.270252</td>\n",
       "      <td>3.121212</td>\n",
       "      <td>0.862659</td>\n",
       "      <td>-0.311437</td>\n",
       "      <td>-0.207099</td>\n",
       "    </tr>\n",
       "    <tr>\n",
       "      <th>1</th>\n",
       "      <td>-0.314881</td>\n",
       "      <td>1.227398</td>\n",
       "      <td>-0.585893</td>\n",
       "      <td>-0.539653</td>\n",
       "      <td>2.123985</td>\n",
       "      <td>-0.465474</td>\n",
       "      <td>-0.511867</td>\n",
       "      <td>-0.429307</td>\n",
       "      <td>-0.333294</td>\n",
       "      <td>-0.234494</td>\n",
       "      <td>-0.184885</td>\n",
       "      <td>-0.568277</td>\n",
       "      <td>-0.451216</td>\n",
       "      <td>-0.422668</td>\n",
       "      <td>1.843403</td>\n",
       "      <td>-0.270252</td>\n",
       "      <td>-0.320388</td>\n",
       "      <td>-1.029889</td>\n",
       "      <td>0.178549</td>\n",
       "      <td>-0.656213</td>\n",
       "    </tr>\n",
       "    <tr>\n",
       "      <th>2</th>\n",
       "      <td>-0.314881</td>\n",
       "      <td>1.227398</td>\n",
       "      <td>-0.585893</td>\n",
       "      <td>-0.539653</td>\n",
       "      <td>2.123985</td>\n",
       "      <td>-0.465474</td>\n",
       "      <td>-0.511867</td>\n",
       "      <td>-0.429307</td>\n",
       "      <td>-0.333294</td>\n",
       "      <td>-0.234494</td>\n",
       "      <td>-0.184885</td>\n",
       "      <td>-0.568277</td>\n",
       "      <td>-0.451216</td>\n",
       "      <td>2.365922</td>\n",
       "      <td>-0.542475</td>\n",
       "      <td>-0.270252</td>\n",
       "      <td>-0.320388</td>\n",
       "      <td>0.862659</td>\n",
       "      <td>0.458541</td>\n",
       "      <td>-0.207099</td>\n",
       "    </tr>\n",
       "    <tr>\n",
       "      <th>3</th>\n",
       "      <td>-0.314881</td>\n",
       "      <td>1.227398</td>\n",
       "      <td>-0.585893</td>\n",
       "      <td>-0.539653</td>\n",
       "      <td>-0.470813</td>\n",
       "      <td>2.148350</td>\n",
       "      <td>-0.511867</td>\n",
       "      <td>-0.429307</td>\n",
       "      <td>-0.333294</td>\n",
       "      <td>-0.234494</td>\n",
       "      <td>-0.184885</td>\n",
       "      <td>-0.568277</td>\n",
       "      <td>2.216235</td>\n",
       "      <td>-0.422668</td>\n",
       "      <td>-0.542475</td>\n",
       "      <td>-0.270252</td>\n",
       "      <td>-0.320388</td>\n",
       "      <td>0.021527</td>\n",
       "      <td>0.598537</td>\n",
       "      <td>-1.105327</td>\n",
       "    </tr>\n",
       "    <tr>\n",
       "      <th>4</th>\n",
       "      <td>-0.314881</td>\n",
       "      <td>1.227398</td>\n",
       "      <td>-0.585893</td>\n",
       "      <td>-0.539653</td>\n",
       "      <td>-0.470813</td>\n",
       "      <td>-0.465474</td>\n",
       "      <td>-0.511867</td>\n",
       "      <td>-0.429307</td>\n",
       "      <td>3.000353</td>\n",
       "      <td>-0.234494</td>\n",
       "      <td>-0.184885</td>\n",
       "      <td>-0.568277</td>\n",
       "      <td>-0.451216</td>\n",
       "      <td>-0.422668</td>\n",
       "      <td>-0.542475</td>\n",
       "      <td>-0.270252</td>\n",
       "      <td>3.121212</td>\n",
       "      <td>-0.020530</td>\n",
       "      <td>-0.031445</td>\n",
       "      <td>-0.656213</td>\n",
       "    </tr>\n",
       "  </tbody>\n",
       "</table>\n",
       "</div>"
      ],
      "text/plain": [
       "   onehotencoder__cut_Good  onehotencoder__cut_Ideal  \\\n",
       "0                -0.314881                  1.227398   \n",
       "1                -0.314881                  1.227398   \n",
       "2                -0.314881                  1.227398   \n",
       "3                -0.314881                  1.227398   \n",
       "4                -0.314881                  1.227398   \n",
       "\n",
       "   onehotencoder__cut_Premium  onehotencoder__cut_Very Good  \\\n",
       "0                   -0.585893                     -0.539653   \n",
       "1                   -0.585893                     -0.539653   \n",
       "2                   -0.585893                     -0.539653   \n",
       "3                   -0.585893                     -0.539653   \n",
       "4                   -0.585893                     -0.539653   \n",
       "\n",
       "   onehotencoder__color_E  onehotencoder__color_F  onehotencoder__color_G  \\\n",
       "0               -0.470813               -0.465474               -0.511867   \n",
       "1                2.123985               -0.465474               -0.511867   \n",
       "2                2.123985               -0.465474               -0.511867   \n",
       "3               -0.470813                2.148350               -0.511867   \n",
       "4               -0.470813               -0.465474               -0.511867   \n",
       "\n",
       "   onehotencoder__color_H  onehotencoder__color_I  onehotencoder__color_J  \\\n",
       "0                2.329335               -0.333294               -0.234494   \n",
       "1               -0.429307               -0.333294               -0.234494   \n",
       "2               -0.429307               -0.333294               -0.234494   \n",
       "3               -0.429307               -0.333294               -0.234494   \n",
       "4               -0.429307                3.000353               -0.234494   \n",
       "\n",
       "   onehotencoder__clarity_IF  onehotencoder__clarity_SI1  \\\n",
       "0                  -0.184885                   -0.568277   \n",
       "1                  -0.184885                   -0.568277   \n",
       "2                  -0.184885                   -0.568277   \n",
       "3                  -0.184885                   -0.568277   \n",
       "4                  -0.184885                   -0.568277   \n",
       "\n",
       "   onehotencoder__clarity_SI2  onehotencoder__clarity_VS1  \\\n",
       "0                   -0.451216                   -0.422668   \n",
       "1                   -0.451216                   -0.422668   \n",
       "2                   -0.451216                    2.365922   \n",
       "3                    2.216235                   -0.422668   \n",
       "4                   -0.451216                   -0.422668   \n",
       "\n",
       "   onehotencoder__clarity_VS2  onehotencoder__clarity_VVS1  \\\n",
       "0                   -0.542475                    -0.270252   \n",
       "1                    1.843403                    -0.270252   \n",
       "2                   -0.542475                    -0.270252   \n",
       "3                   -0.542475                    -0.270252   \n",
       "4                   -0.542475                    -0.270252   \n",
       "\n",
       "   onehotencoder__clarity_VVS2  remainder__carat  remainder__depth  \\\n",
       "0                     3.121212          0.862659         -0.311437   \n",
       "1                    -0.320388         -1.029889          0.178549   \n",
       "2                    -0.320388          0.862659          0.458541   \n",
       "3                    -0.320388          0.021527          0.598537   \n",
       "4                     3.121212         -0.020530         -0.031445   \n",
       "\n",
       "   remainder__table  \n",
       "0         -0.207099  \n",
       "1         -0.656213  \n",
       "2         -0.207099  \n",
       "3         -1.105327  \n",
       "4         -0.656213  "
      ]
     },
     "execution_count": 17,
     "metadata": {},
     "output_type": "execute_result"
    }
   ],
   "source": [
    "scaler = StandardScaler()\n",
    "\n",
    "Xtrain = pd.DataFrame(scaler.fit_transform(Xtrain), columns=Xtrain.columns, index=Xtrain.index)\n",
    "Xtest = pd.DataFrame(scaler.transform(Xtest), columns=Xtest.columns, index=Xtest.index)\n",
    "Xtrain.head()"
   ]
  },
  {
   "cell_type": "markdown",
   "metadata": {},
   "source": [
    "## Построение модели"
   ]
  },
  {
   "cell_type": "markdown",
   "metadata": {
    "id": "LIZ8MooheRPK"
   },
   "source": [
    "Обучим линейную регрессию на тренировочной выборке. Проверим качество модели с помощью *r2-score* на тренировочной и тестовой выборках."
   ]
  },
  {
   "cell_type": "code",
   "execution_count": 18,
   "metadata": {
    "id": "OCMNtmamSrTB"
   },
   "outputs": [
    {
     "data": {
      "text/html": [
       "<style>#sk-container-id-1 {color: black;}#sk-container-id-1 pre{padding: 0;}#sk-container-id-1 div.sk-toggleable {background-color: white;}#sk-container-id-1 label.sk-toggleable__label {cursor: pointer;display: block;width: 100%;margin-bottom: 0;padding: 0.3em;box-sizing: border-box;text-align: center;}#sk-container-id-1 label.sk-toggleable__label-arrow:before {content: \"▸\";float: left;margin-right: 0.25em;color: #696969;}#sk-container-id-1 label.sk-toggleable__label-arrow:hover:before {color: black;}#sk-container-id-1 div.sk-estimator:hover label.sk-toggleable__label-arrow:before {color: black;}#sk-container-id-1 div.sk-toggleable__content {max-height: 0;max-width: 0;overflow: hidden;text-align: left;background-color: #f0f8ff;}#sk-container-id-1 div.sk-toggleable__content pre {margin: 0.2em;color: black;border-radius: 0.25em;background-color: #f0f8ff;}#sk-container-id-1 input.sk-toggleable__control:checked~div.sk-toggleable__content {max-height: 200px;max-width: 100%;overflow: auto;}#sk-container-id-1 input.sk-toggleable__control:checked~label.sk-toggleable__label-arrow:before {content: \"▾\";}#sk-container-id-1 div.sk-estimator input.sk-toggleable__control:checked~label.sk-toggleable__label {background-color: #d4ebff;}#sk-container-id-1 div.sk-label input.sk-toggleable__control:checked~label.sk-toggleable__label {background-color: #d4ebff;}#sk-container-id-1 input.sk-hidden--visually {border: 0;clip: rect(1px 1px 1px 1px);clip: rect(1px, 1px, 1px, 1px);height: 1px;margin: -1px;overflow: hidden;padding: 0;position: absolute;width: 1px;}#sk-container-id-1 div.sk-estimator {font-family: monospace;background-color: #f0f8ff;border: 1px dotted black;border-radius: 0.25em;box-sizing: border-box;margin-bottom: 0.5em;}#sk-container-id-1 div.sk-estimator:hover {background-color: #d4ebff;}#sk-container-id-1 div.sk-parallel-item::after {content: \"\";width: 100%;border-bottom: 1px solid gray;flex-grow: 1;}#sk-container-id-1 div.sk-label:hover label.sk-toggleable__label {background-color: #d4ebff;}#sk-container-id-1 div.sk-serial::before {content: \"\";position: absolute;border-left: 1px solid gray;box-sizing: border-box;top: 0;bottom: 0;left: 50%;z-index: 0;}#sk-container-id-1 div.sk-serial {display: flex;flex-direction: column;align-items: center;background-color: white;padding-right: 0.2em;padding-left: 0.2em;position: relative;}#sk-container-id-1 div.sk-item {position: relative;z-index: 1;}#sk-container-id-1 div.sk-parallel {display: flex;align-items: stretch;justify-content: center;background-color: white;position: relative;}#sk-container-id-1 div.sk-item::before, #sk-container-id-1 div.sk-parallel-item::before {content: \"\";position: absolute;border-left: 1px solid gray;box-sizing: border-box;top: 0;bottom: 0;left: 50%;z-index: -1;}#sk-container-id-1 div.sk-parallel-item {display: flex;flex-direction: column;z-index: 1;position: relative;background-color: white;}#sk-container-id-1 div.sk-parallel-item:first-child::after {align-self: flex-end;width: 50%;}#sk-container-id-1 div.sk-parallel-item:last-child::after {align-self: flex-start;width: 50%;}#sk-container-id-1 div.sk-parallel-item:only-child::after {width: 0;}#sk-container-id-1 div.sk-dashed-wrapped {border: 1px dashed gray;margin: 0 0.4em 0.5em 0.4em;box-sizing: border-box;padding-bottom: 0.4em;background-color: white;}#sk-container-id-1 div.sk-label label {font-family: monospace;font-weight: bold;display: inline-block;line-height: 1.2em;}#sk-container-id-1 div.sk-label-container {text-align: center;}#sk-container-id-1 div.sk-container {/* jupyter's `normalize.less` sets `[hidden] { display: none; }` but bootstrap.min.css set `[hidden] { display: none !important; }` so we also need the `!important` here to be able to override the default hidden behavior on the sphinx rendered scikit-learn.org. See: https://github.com/scikit-learn/scikit-learn/issues/21755 */display: inline-block !important;position: relative;}#sk-container-id-1 div.sk-text-repr-fallback {display: none;}</style><div id=\"sk-container-id-1\" class=\"sk-top-container\"><div class=\"sk-text-repr-fallback\"><pre>LinearRegression()</pre><b>In a Jupyter environment, please rerun this cell to show the HTML representation or trust the notebook. <br />On GitHub, the HTML representation is unable to render, please try loading this page with nbviewer.org.</b></div><div class=\"sk-container\" hidden><div class=\"sk-item\"><div class=\"sk-estimator sk-toggleable\"><input class=\"sk-toggleable__control sk-hidden--visually\" id=\"sk-estimator-id-1\" type=\"checkbox\" checked><label for=\"sk-estimator-id-1\" class=\"sk-toggleable__label sk-toggleable__label-arrow\">LinearRegression</label><div class=\"sk-toggleable__content\"><pre>LinearRegression()</pre></div></div></div></div></div>"
      ],
      "text/plain": [
       "LinearRegression()"
      ]
     },
     "execution_count": 18,
     "metadata": {},
     "output_type": "execute_result"
    }
   ],
   "source": [
    "model = LinearRegression()\n",
    "model.fit(Xtrain, ytrain)"
   ]
  },
  {
   "cell_type": "code",
   "execution_count": 19,
   "metadata": {},
   "outputs": [
    {
     "name": "stdout",
     "output_type": "stream",
     "text": [
      "0.9082617514220505\n"
     ]
    }
   ],
   "source": [
    "prediction = model.predict(Xtrain)\n",
    "r2_train = r2_score(prediction, ytrain)\n",
    "\n",
    "print(r2_train)"
   ]
  },
  {
   "cell_type": "code",
   "execution_count": 20,
   "metadata": {},
   "outputs": [
    {
     "name": "stdout",
     "output_type": "stream",
     "text": [
      "0.9087636758594968\n"
     ]
    }
   ],
   "source": [
    "prediction = model.predict(Xtest)\n",
    "r2_test = r2_score(prediction, ytest)\n",
    "\n",
    "print(r2_test)"
   ]
  },
  {
   "cell_type": "markdown",
   "metadata": {
    "id": "FQ54nIwteZR9"
   },
   "source": [
    "Выведем на экран веса, которые линейная регрессия присвоила признакам."
   ]
  },
  {
   "cell_type": "code",
   "execution_count": 21,
   "metadata": {
    "id": "CMAjqVIYSrTC"
   },
   "outputs": [
    {
     "data": {
      "text/html": [
       "<div>\n",
       "<style scoped>\n",
       "    .dataframe tbody tr th:only-of-type {\n",
       "        vertical-align: middle;\n",
       "    }\n",
       "\n",
       "    .dataframe tbody tr th {\n",
       "        vertical-align: top;\n",
       "    }\n",
       "\n",
       "    .dataframe thead th {\n",
       "        text-align: right;\n",
       "    }\n",
       "</style>\n",
       "<table border=\"1\" class=\"dataframe\">\n",
       "  <thead>\n",
       "    <tr style=\"text-align: right;\">\n",
       "      <th></th>\n",
       "      <th>Feature</th>\n",
       "      <th>Weight</th>\n",
       "    </tr>\n",
       "  </thead>\n",
       "  <tbody>\n",
       "    <tr>\n",
       "      <th>0</th>\n",
       "      <td>onehotencoder__cut_Good</td>\n",
       "      <td>178.492234</td>\n",
       "    </tr>\n",
       "    <tr>\n",
       "      <th>1</th>\n",
       "      <td>onehotencoder__cut_Ideal</td>\n",
       "      <td>431.385520</td>\n",
       "    </tr>\n",
       "    <tr>\n",
       "      <th>2</th>\n",
       "      <td>onehotencoder__cut_Premium</td>\n",
       "      <td>355.343915</td>\n",
       "    </tr>\n",
       "    <tr>\n",
       "      <th>3</th>\n",
       "      <td>onehotencoder__cut_Very Good</td>\n",
       "      <td>328.657369</td>\n",
       "    </tr>\n",
       "    <tr>\n",
       "      <th>4</th>\n",
       "      <td>onehotencoder__color_E</td>\n",
       "      <td>-84.371022</td>\n",
       "    </tr>\n",
       "    <tr>\n",
       "      <th>5</th>\n",
       "      <td>onehotencoder__color_F</td>\n",
       "      <td>-117.291229</td>\n",
       "    </tr>\n",
       "    <tr>\n",
       "      <th>6</th>\n",
       "      <td>onehotencoder__color_G</td>\n",
       "      <td>-213.029774</td>\n",
       "    </tr>\n",
       "    <tr>\n",
       "      <th>7</th>\n",
       "      <td>onehotencoder__color_H</td>\n",
       "      <td>-359.719840</td>\n",
       "    </tr>\n",
       "    <tr>\n",
       "      <th>8</th>\n",
       "      <td>onehotencoder__color_I</td>\n",
       "      <td>-434.463167</td>\n",
       "    </tr>\n",
       "    <tr>\n",
       "      <th>9</th>\n",
       "      <td>onehotencoder__color_J</td>\n",
       "      <td>-519.441073</td>\n",
       "    </tr>\n",
       "    <tr>\n",
       "      <th>10</th>\n",
       "      <td>onehotencoder__clarity_IF</td>\n",
       "      <td>984.996758</td>\n",
       "    </tr>\n",
       "    <tr>\n",
       "      <th>11</th>\n",
       "      <td>onehotencoder__clarity_SI1</td>\n",
       "      <td>1567.518886</td>\n",
       "    </tr>\n",
       "    <tr>\n",
       "      <th>12</th>\n",
       "      <td>onehotencoder__clarity_SI2</td>\n",
       "      <td>1010.233654</td>\n",
       "    </tr>\n",
       "    <tr>\n",
       "      <th>13</th>\n",
       "      <td>onehotencoder__clarity_VS1</td>\n",
       "      <td>1648.457991</td>\n",
       "    </tr>\n",
       "    <tr>\n",
       "      <th>14</th>\n",
       "      <td>onehotencoder__clarity_VS2</td>\n",
       "      <td>1790.617217</td>\n",
       "    </tr>\n",
       "    <tr>\n",
       "      <th>15</th>\n",
       "      <td>onehotencoder__clarity_VVS1</td>\n",
       "      <td>1296.042226</td>\n",
       "    </tr>\n",
       "    <tr>\n",
       "      <th>16</th>\n",
       "      <td>onehotencoder__clarity_VVS2</td>\n",
       "      <td>1460.909004</td>\n",
       "    </tr>\n",
       "    <tr>\n",
       "      <th>17</th>\n",
       "      <td>remainder__carat</td>\n",
       "      <td>4232.833963</td>\n",
       "    </tr>\n",
       "    <tr>\n",
       "      <th>18</th>\n",
       "      <td>remainder__depth</td>\n",
       "      <td>-29.600664</td>\n",
       "    </tr>\n",
       "    <tr>\n",
       "      <th>19</th>\n",
       "      <td>remainder__table</td>\n",
       "      <td>-59.007485</td>\n",
       "    </tr>\n",
       "  </tbody>\n",
       "</table>\n",
       "</div>"
      ],
      "text/plain": [
       "                         Feature       Weight\n",
       "0        onehotencoder__cut_Good   178.492234\n",
       "1       onehotencoder__cut_Ideal   431.385520\n",
       "2     onehotencoder__cut_Premium   355.343915\n",
       "3   onehotencoder__cut_Very Good   328.657369\n",
       "4         onehotencoder__color_E   -84.371022\n",
       "5         onehotencoder__color_F  -117.291229\n",
       "6         onehotencoder__color_G  -213.029774\n",
       "7         onehotencoder__color_H  -359.719840\n",
       "8         onehotencoder__color_I  -434.463167\n",
       "9         onehotencoder__color_J  -519.441073\n",
       "10     onehotencoder__clarity_IF   984.996758\n",
       "11    onehotencoder__clarity_SI1  1567.518886\n",
       "12    onehotencoder__clarity_SI2  1010.233654\n",
       "13    onehotencoder__clarity_VS1  1648.457991\n",
       "14    onehotencoder__clarity_VS2  1790.617217\n",
       "15   onehotencoder__clarity_VVS1  1296.042226\n",
       "16   onehotencoder__clarity_VVS2  1460.909004\n",
       "17              remainder__carat  4232.833963\n",
       "18              remainder__depth   -29.600664\n",
       "19              remainder__table   -59.007485"
      ]
     },
     "execution_count": 21,
     "metadata": {},
     "output_type": "execute_result"
    }
   ],
   "source": [
    "features = Xtrain.columns\n",
    "weights = model.coef_\n",
    "feature_weights = pd.DataFrame({'Feature': features, 'Weight': weights})\n",
    "feature_weights"
   ]
  },
  {
   "cell_type": "markdown",
   "metadata": {},
   "source": [
    "Модель линейной регрессии позволяет оценить, насколько значим каждый признак для определения значения целевой переменной. Анализируя коэффициенты полученной модели  линейной регрессии мы видим, что цена бриллианта определяется преимущественно его весом в каратах и чистотой. Остальные признаки гораздо менее значимы"
   ]
  },
  {
   "cell_type": "markdown",
   "metadata": {},
   "source": [
    "## Получение предсказания"
   ]
  },
  {
   "cell_type": "code",
   "execution_count": 22,
   "metadata": {},
   "outputs": [],
   "source": [
    "obj = {'carat': 0.28, 'cut': 'Ideal', 'color': 'I', 'clarity': 'VS2', 'depth': 63.5, 'table': 63.0, 'index':[0]}"
   ]
  },
  {
   "cell_type": "markdown",
   "metadata": {},
   "source": [
    "Зададим функцию для обработки входных данных для произвольного объекта"
   ]
  },
  {
   "cell_type": "code",
   "execution_count": 23,
   "metadata": {},
   "outputs": [],
   "source": [
    "def obj_preproc(obj, transformer, scaler):\n",
    "    \"\"\"\n",
    "    This function preprocess input object characteristics to sent them to the model\n",
    "    obj - dictionary with object characteristics;\n",
    "    transformer - ColumnTransformer object to apply OneHotEncoding\n",
    "    scaler - StandardScaler object to standatrize features of the input object\n",
    "    \"\"\"\n",
    "    \n",
    "    obj = pd.DataFrame.from_dict(obj, orient='columns')\n",
    "\n",
    "    transformed_object = transformer.transform(obj).toarray()\n",
    "    obj = pd.DataFrame(transformed_object, columns=transformer.get_feature_names_out())\n",
    "\n",
    "    obj = pd.DataFrame(scaler.fit_transform(obj), columns=obj.columns, index=obj.index)\n",
    "    \n",
    "    return obj"
   ]
  },
  {
   "cell_type": "markdown",
   "metadata": {},
   "source": [
    "Применим функцию к нашему произвольному объекту и на основе вышепостроенной модели линейной регрессии предскажем значение целевой переменной"
   ]
  },
  {
   "cell_type": "code",
   "execution_count": 24,
   "metadata": {},
   "outputs": [],
   "source": [
    "obj = obj_preproc(obj, transformer, scaler)"
   ]
  },
  {
   "cell_type": "code",
   "execution_count": 25,
   "metadata": {},
   "outputs": [
    {
     "name": "stdout",
     "output_type": "stream",
     "text": [
      "3951.5\n"
     ]
    }
   ],
   "source": [
    "prediction = model.predict(obj)\n",
    "print(round(prediction[0], 1))"
   ]
  },
  {
   "cell_type": "markdown",
   "metadata": {},
   "source": [
    "# Выводы"
   ]
  },
  {
   "cell_type": "markdown",
   "metadata": {},
   "source": [
    "В рамках данного проекта был рассмотрен датасет с характеристиками и стоимостью бриллиантов.\n",
    "\n",
    "Выполненный анализ датасета (EDA) показал присутствие в нем сильно коррелирующих признаков, а именно линейных размеров и веса. Для избежания проблемы мультиколлениарности линейные размеры были исключены из числа признаков.\n",
    "\n",
    "Выполнена обработка датасета: one-hot-encoding категориальных признаков и стандартизация всех признаков датасета (возможен был вариант раздельной обработки, а именно кодирования категориальных признаков и стандартизации числовых, но в большинстве источников рекомендуется все-таки для закодированных признаков также применять стандартизацию).\n",
    "\n",
    "Построена модель линейной регрессии. R2-score для модели составил 0,908 на обучающей и тестовой выборках, что для линейной модели достаточно неплохо. В целом построенная модель может использоваться в качестве baseline при построении более сложных моделей.\n",
    "\n",
    "Анализ весовых коэфффициентов модели показал, что цена бриллианта определяется преимущественно его весом в каратах и чистотой. Остальные признаки гораздо менее значимы.\n",
    "\n",
    "Получено предсказание для объекта (бриллианта) с произвольными характеристиками, что может стать основой для разработки веб-сервиса на основе модели."
   ]
  },
  {
   "cell_type": "code",
   "execution_count": null,
   "metadata": {},
   "outputs": [],
   "source": []
  }
 ],
 "metadata": {
  "colab": {
   "provenance": []
  },
  "kernelspec": {
   "display_name": "Python 3 (ipykernel)",
   "language": "python",
   "name": "python3"
  },
  "language_info": {
   "codemirror_mode": {
    "name": "ipython",
    "version": 3
   },
   "file_extension": ".py",
   "mimetype": "text/x-python",
   "name": "python",
   "nbconvert_exporter": "python",
   "pygments_lexer": "ipython3",
   "version": "3.10.9"
  }
 },
 "nbformat": 4,
 "nbformat_minor": 4
}
