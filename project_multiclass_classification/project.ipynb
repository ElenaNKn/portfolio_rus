{
 "cells": [
  {
   "cell_type": "markdown",
   "metadata": {
    "id": "AkS7Lxm8nTLB"
   },
   "source": [
    "# Многоклассовая классификация при дисбалансе классов"
   ]
  },
  {
   "cell_type": "code",
   "execution_count": 1,
   "metadata": {
    "id": "shgV5ZT-oLG2"
   },
   "outputs": [],
   "source": [
    "import pandas as pd\n",
    "import numpy as np\n",
    "\n",
    "from sklearn.model_selection import train_test_split\n",
    "from sklearn.preprocessing import StandardScaler\n",
    "\n",
    "from sklearn.model_selection import cross_val_score\n",
    "from sklearn.metrics import roc_auc_score\n",
    "from sklearn.model_selection import GridSearchCV\n",
    "from sklearn.model_selection import StratifiedKFold\n",
    "\n",
    "from sklearn.linear_model import LogisticRegression\n",
    "from sklearn.neighbors import KNeighborsClassifier\n",
    "from sklearn.multiclass import OneVsRestClassifier\n",
    "from sklearn.multiclass import OneVsOneClassifier\n",
    "from sklearn.tree import DecisionTreeClassifier\n",
    "from sklearn.svm import SVC\n",
    "\n",
    "from sklearn.metrics import f1_score\n",
    "from sklearn.metrics import confusion_matrix\n",
    "from sklearn.metrics import classification_report\n",
    "\n",
    "from tqdm import tqdm"
   ]
  },
  {
   "cell_type": "code",
   "execution_count": 2,
   "metadata": {},
   "outputs": [],
   "source": [
    "pd.options.mode.chained_assignment = None "
   ]
  },
  {
   "cell_type": "code",
   "execution_count": 3,
   "metadata": {
    "id": "85Rgp6ivyvZq"
   },
   "outputs": [],
   "source": [
    "RANDOM_STATE = 42\n",
    "TRAIN_SIZE = 0.75\n",
    "rng = np.random.default_rng(RANDOM_STATE)"
   ]
  },
  {
   "cell_type": "markdown",
   "metadata": {
    "id": "uOk2Swygyxho"
   },
   "source": [
    "## 1. Загрузка и предварительный анализ данных"
   ]
  },
  {
   "cell_type": "code",
   "execution_count": 4,
   "metadata": {
    "id": "_8RhxtHwwzTG"
   },
   "outputs": [],
   "source": [
    "from sklearn.datasets import load_wine\n",
    "\n",
    "data = load_wine(as_frame=True)\n",
    "\n",
    "X = data.data\n",
    "y = data.target"
   ]
  },
  {
   "cell_type": "markdown",
   "metadata": {},
   "source": [
    "Посмотрим, какие признаки содержит датасет, а также тип данных и наличие пропусков"
   ]
  },
  {
   "cell_type": "code",
   "execution_count": 5,
   "metadata": {},
   "outputs": [
    {
     "data": {
      "text/html": [
       "<div>\n",
       "<style scoped>\n",
       "    .dataframe tbody tr th:only-of-type {\n",
       "        vertical-align: middle;\n",
       "    }\n",
       "\n",
       "    .dataframe tbody tr th {\n",
       "        vertical-align: top;\n",
       "    }\n",
       "\n",
       "    .dataframe thead th {\n",
       "        text-align: right;\n",
       "    }\n",
       "</style>\n",
       "<table border=\"1\" class=\"dataframe\">\n",
       "  <thead>\n",
       "    <tr style=\"text-align: right;\">\n",
       "      <th></th>\n",
       "      <th>alcohol</th>\n",
       "      <th>malic_acid</th>\n",
       "      <th>ash</th>\n",
       "      <th>alcalinity_of_ash</th>\n",
       "      <th>magnesium</th>\n",
       "      <th>total_phenols</th>\n",
       "      <th>flavanoids</th>\n",
       "      <th>nonflavanoid_phenols</th>\n",
       "      <th>proanthocyanins</th>\n",
       "      <th>color_intensity</th>\n",
       "      <th>hue</th>\n",
       "      <th>od280/od315_of_diluted_wines</th>\n",
       "      <th>proline</th>\n",
       "    </tr>\n",
       "  </thead>\n",
       "  <tbody>\n",
       "    <tr>\n",
       "      <th>0</th>\n",
       "      <td>14.23</td>\n",
       "      <td>1.71</td>\n",
       "      <td>2.43</td>\n",
       "      <td>15.6</td>\n",
       "      <td>127.0</td>\n",
       "      <td>2.80</td>\n",
       "      <td>3.06</td>\n",
       "      <td>0.28</td>\n",
       "      <td>2.29</td>\n",
       "      <td>5.64</td>\n",
       "      <td>1.04</td>\n",
       "      <td>3.92</td>\n",
       "      <td>1065.0</td>\n",
       "    </tr>\n",
       "    <tr>\n",
       "      <th>1</th>\n",
       "      <td>13.20</td>\n",
       "      <td>1.78</td>\n",
       "      <td>2.14</td>\n",
       "      <td>11.2</td>\n",
       "      <td>100.0</td>\n",
       "      <td>2.65</td>\n",
       "      <td>2.76</td>\n",
       "      <td>0.26</td>\n",
       "      <td>1.28</td>\n",
       "      <td>4.38</td>\n",
       "      <td>1.05</td>\n",
       "      <td>3.40</td>\n",
       "      <td>1050.0</td>\n",
       "    </tr>\n",
       "    <tr>\n",
       "      <th>2</th>\n",
       "      <td>13.16</td>\n",
       "      <td>2.36</td>\n",
       "      <td>2.67</td>\n",
       "      <td>18.6</td>\n",
       "      <td>101.0</td>\n",
       "      <td>2.80</td>\n",
       "      <td>3.24</td>\n",
       "      <td>0.30</td>\n",
       "      <td>2.81</td>\n",
       "      <td>5.68</td>\n",
       "      <td>1.03</td>\n",
       "      <td>3.17</td>\n",
       "      <td>1185.0</td>\n",
       "    </tr>\n",
       "    <tr>\n",
       "      <th>3</th>\n",
       "      <td>14.37</td>\n",
       "      <td>1.95</td>\n",
       "      <td>2.50</td>\n",
       "      <td>16.8</td>\n",
       "      <td>113.0</td>\n",
       "      <td>3.85</td>\n",
       "      <td>3.49</td>\n",
       "      <td>0.24</td>\n",
       "      <td>2.18</td>\n",
       "      <td>7.80</td>\n",
       "      <td>0.86</td>\n",
       "      <td>3.45</td>\n",
       "      <td>1480.0</td>\n",
       "    </tr>\n",
       "    <tr>\n",
       "      <th>4</th>\n",
       "      <td>13.24</td>\n",
       "      <td>2.59</td>\n",
       "      <td>2.87</td>\n",
       "      <td>21.0</td>\n",
       "      <td>118.0</td>\n",
       "      <td>2.80</td>\n",
       "      <td>2.69</td>\n",
       "      <td>0.39</td>\n",
       "      <td>1.82</td>\n",
       "      <td>4.32</td>\n",
       "      <td>1.04</td>\n",
       "      <td>2.93</td>\n",
       "      <td>735.0</td>\n",
       "    </tr>\n",
       "  </tbody>\n",
       "</table>\n",
       "</div>"
      ],
      "text/plain": [
       "   alcohol  malic_acid   ash  alcalinity_of_ash  magnesium  total_phenols  \\\n",
       "0    14.23        1.71  2.43               15.6      127.0           2.80   \n",
       "1    13.20        1.78  2.14               11.2      100.0           2.65   \n",
       "2    13.16        2.36  2.67               18.6      101.0           2.80   \n",
       "3    14.37        1.95  2.50               16.8      113.0           3.85   \n",
       "4    13.24        2.59  2.87               21.0      118.0           2.80   \n",
       "\n",
       "   flavanoids  nonflavanoid_phenols  proanthocyanins  color_intensity   hue  \\\n",
       "0        3.06                  0.28             2.29             5.64  1.04   \n",
       "1        2.76                  0.26             1.28             4.38  1.05   \n",
       "2        3.24                  0.30             2.81             5.68  1.03   \n",
       "3        3.49                  0.24             2.18             7.80  0.86   \n",
       "4        2.69                  0.39             1.82             4.32  1.04   \n",
       "\n",
       "   od280/od315_of_diluted_wines  proline  \n",
       "0                          3.92   1065.0  \n",
       "1                          3.40   1050.0  \n",
       "2                          3.17   1185.0  \n",
       "3                          3.45   1480.0  \n",
       "4                          2.93    735.0  "
      ]
     },
     "execution_count": 5,
     "metadata": {},
     "output_type": "execute_result"
    }
   ],
   "source": [
    "X.head()"
   ]
  },
  {
   "cell_type": "markdown",
   "metadata": {},
   "source": [
    "Переименуем некоторые колонки со слишком длинными названиями"
   ]
  },
  {
   "cell_type": "code",
   "execution_count": 6,
   "metadata": {},
   "outputs": [],
   "source": [
    "X.rename(columns={'alcalinity_of_ash': 'alk_ash', 'nonflavanoid_phenols': 'nonfl_phen', 'color_intensity': 'color_int',\n",
    "                  'proanthocyanins': 'pr_an_cyan', 'od280/od315_of_diluted_wines': 'od280_od315'}, inplace=True)"
   ]
  },
  {
   "cell_type": "code",
   "execution_count": 7,
   "metadata": {},
   "outputs": [
    {
     "data": {
      "text/html": [
       "<div>\n",
       "<style scoped>\n",
       "    .dataframe tbody tr th:only-of-type {\n",
       "        vertical-align: middle;\n",
       "    }\n",
       "\n",
       "    .dataframe tbody tr th {\n",
       "        vertical-align: top;\n",
       "    }\n",
       "\n",
       "    .dataframe thead th {\n",
       "        text-align: right;\n",
       "    }\n",
       "</style>\n",
       "<table border=\"1\" class=\"dataframe\">\n",
       "  <thead>\n",
       "    <tr style=\"text-align: right;\">\n",
       "      <th></th>\n",
       "      <th>alcohol</th>\n",
       "      <th>malic_acid</th>\n",
       "      <th>ash</th>\n",
       "      <th>alk_ash</th>\n",
       "      <th>magnesium</th>\n",
       "      <th>total_phenols</th>\n",
       "      <th>flavanoids</th>\n",
       "      <th>nonfl_phen</th>\n",
       "      <th>pr_an_cyan</th>\n",
       "      <th>color_int</th>\n",
       "      <th>hue</th>\n",
       "      <th>od280_od315</th>\n",
       "      <th>proline</th>\n",
       "    </tr>\n",
       "  </thead>\n",
       "  <tbody>\n",
       "    <tr>\n",
       "      <th>0</th>\n",
       "      <td>14.23</td>\n",
       "      <td>1.71</td>\n",
       "      <td>2.43</td>\n",
       "      <td>15.6</td>\n",
       "      <td>127.0</td>\n",
       "      <td>2.80</td>\n",
       "      <td>3.06</td>\n",
       "      <td>0.28</td>\n",
       "      <td>2.29</td>\n",
       "      <td>5.64</td>\n",
       "      <td>1.04</td>\n",
       "      <td>3.92</td>\n",
       "      <td>1065.0</td>\n",
       "    </tr>\n",
       "    <tr>\n",
       "      <th>1</th>\n",
       "      <td>13.20</td>\n",
       "      <td>1.78</td>\n",
       "      <td>2.14</td>\n",
       "      <td>11.2</td>\n",
       "      <td>100.0</td>\n",
       "      <td>2.65</td>\n",
       "      <td>2.76</td>\n",
       "      <td>0.26</td>\n",
       "      <td>1.28</td>\n",
       "      <td>4.38</td>\n",
       "      <td>1.05</td>\n",
       "      <td>3.40</td>\n",
       "      <td>1050.0</td>\n",
       "    </tr>\n",
       "    <tr>\n",
       "      <th>2</th>\n",
       "      <td>13.16</td>\n",
       "      <td>2.36</td>\n",
       "      <td>2.67</td>\n",
       "      <td>18.6</td>\n",
       "      <td>101.0</td>\n",
       "      <td>2.80</td>\n",
       "      <td>3.24</td>\n",
       "      <td>0.30</td>\n",
       "      <td>2.81</td>\n",
       "      <td>5.68</td>\n",
       "      <td>1.03</td>\n",
       "      <td>3.17</td>\n",
       "      <td>1185.0</td>\n",
       "    </tr>\n",
       "    <tr>\n",
       "      <th>3</th>\n",
       "      <td>14.37</td>\n",
       "      <td>1.95</td>\n",
       "      <td>2.50</td>\n",
       "      <td>16.8</td>\n",
       "      <td>113.0</td>\n",
       "      <td>3.85</td>\n",
       "      <td>3.49</td>\n",
       "      <td>0.24</td>\n",
       "      <td>2.18</td>\n",
       "      <td>7.80</td>\n",
       "      <td>0.86</td>\n",
       "      <td>3.45</td>\n",
       "      <td>1480.0</td>\n",
       "    </tr>\n",
       "    <tr>\n",
       "      <th>4</th>\n",
       "      <td>13.24</td>\n",
       "      <td>2.59</td>\n",
       "      <td>2.87</td>\n",
       "      <td>21.0</td>\n",
       "      <td>118.0</td>\n",
       "      <td>2.80</td>\n",
       "      <td>2.69</td>\n",
       "      <td>0.39</td>\n",
       "      <td>1.82</td>\n",
       "      <td>4.32</td>\n",
       "      <td>1.04</td>\n",
       "      <td>2.93</td>\n",
       "      <td>735.0</td>\n",
       "    </tr>\n",
       "  </tbody>\n",
       "</table>\n",
       "</div>"
      ],
      "text/plain": [
       "   alcohol  malic_acid   ash  alk_ash  magnesium  total_phenols  flavanoids  \\\n",
       "0    14.23        1.71  2.43     15.6      127.0           2.80        3.06   \n",
       "1    13.20        1.78  2.14     11.2      100.0           2.65        2.76   \n",
       "2    13.16        2.36  2.67     18.6      101.0           2.80        3.24   \n",
       "3    14.37        1.95  2.50     16.8      113.0           3.85        3.49   \n",
       "4    13.24        2.59  2.87     21.0      118.0           2.80        2.69   \n",
       "\n",
       "   nonfl_phen  pr_an_cyan  color_int   hue  od280_od315  proline  \n",
       "0        0.28        2.29       5.64  1.04         3.92   1065.0  \n",
       "1        0.26        1.28       4.38  1.05         3.40   1050.0  \n",
       "2        0.30        2.81       5.68  1.03         3.17   1185.0  \n",
       "3        0.24        2.18       7.80  0.86         3.45   1480.0  \n",
       "4        0.39        1.82       4.32  1.04         2.93    735.0  "
      ]
     },
     "execution_count": 7,
     "metadata": {},
     "output_type": "execute_result"
    }
   ],
   "source": [
    "X.head()"
   ]
  },
  {
   "cell_type": "code",
   "execution_count": 8,
   "metadata": {},
   "outputs": [
    {
     "data": {
      "text/plain": [
       "alcohol          float64\n",
       "malic_acid       float64\n",
       "ash              float64\n",
       "alk_ash          float64\n",
       "magnesium        float64\n",
       "total_phenols    float64\n",
       "flavanoids       float64\n",
       "nonfl_phen       float64\n",
       "pr_an_cyan       float64\n",
       "color_int        float64\n",
       "hue              float64\n",
       "od280_od315      float64\n",
       "proline          float64\n",
       "dtype: object"
      ]
     },
     "execution_count": 8,
     "metadata": {},
     "output_type": "execute_result"
    }
   ],
   "source": [
    "# тип данных\n",
    "X.dtypes"
   ]
  },
  {
   "cell_type": "markdown",
   "metadata": {},
   "source": [
    "Все признаки являются вещественными числами. Таким образом, нет необходимости в кодировке"
   ]
  },
  {
   "cell_type": "code",
   "execution_count": 9,
   "metadata": {},
   "outputs": [
    {
     "data": {
      "text/plain": [
       "alcohol          0\n",
       "malic_acid       0\n",
       "ash              0\n",
       "alk_ash          0\n",
       "magnesium        0\n",
       "total_phenols    0\n",
       "flavanoids       0\n",
       "nonfl_phen       0\n",
       "pr_an_cyan       0\n",
       "color_int        0\n",
       "hue              0\n",
       "od280_od315      0\n",
       "proline          0\n",
       "dtype: int64"
      ]
     },
     "execution_count": 9,
     "metadata": {},
     "output_type": "execute_result"
    }
   ],
   "source": [
    "# наличие пропусков\n",
    "X.isna().sum()"
   ]
  },
  {
   "cell_type": "markdown",
   "metadata": {},
   "source": [
    "Датасет содержит только числовые данные. Пропуски отсутствуют"
   ]
  },
  {
   "cell_type": "markdown",
   "metadata": {
    "id": "1O1xV6KWzW8e"
   },
   "source": [
    "Проверим количество классов в целевой переменной"
   ]
  },
  {
   "cell_type": "code",
   "execution_count": 10,
   "metadata": {
    "id": "vnIXJMT9nh78"
   },
   "outputs": [
    {
     "data": {
      "text/plain": [
       "target\n",
       "1    71\n",
       "0    59\n",
       "2    48\n",
       "Name: count, dtype: int64"
      ]
     },
     "execution_count": 10,
     "metadata": {},
     "output_type": "execute_result"
    }
   ],
   "source": [
    "y.value_counts()"
   ]
  },
  {
   "cell_type": "markdown",
   "metadata": {},
   "source": [
    "Таким образом, мы работаем с задачей **многоклассовой классификации**.\n",
    "\n",
    "Следует также отметить, что в целевой переменной **классы не очень сбалансированы**. Поэтому accuracy будет плохо работать как метрика качества модели. Поскольку у нас нет конкретных требований, чему уделить внимание (precision или recall), то в качестве метрики будем использовать `f1-score`. "
   ]
  },
  {
   "cell_type": "markdown",
   "metadata": {
    "id": "jk9RqS69z6af"
   },
   "source": [
    "## 2. EDA и подготовка данных"
   ]
  },
  {
   "cell_type": "markdown",
   "metadata": {},
   "source": [
    "Разбиваем данные на тренировочную и тестовую выборки. Так как классы несбалансированы, задаем атрибут `stratify`, чтобы при разбиении сохранилось соотношение классов"
   ]
  },
  {
   "cell_type": "code",
   "execution_count": 11,
   "metadata": {},
   "outputs": [],
   "source": [
    "X_train, X_test, y_train, y_test = train_test_split(X, y, test_size=0.25, random_state = RANDOM_STATE, stratify=y)"
   ]
  },
  {
   "cell_type": "markdown",
   "metadata": {},
   "source": [
    "Дальнейший анализ будем выполнять для обучающей выборки"
   ]
  },
  {
   "cell_type": "markdown",
   "metadata": {
    "id": "S8dnUB81nkG0"
   },
   "source": [
    "Проверим попарную корреляцию признаков"
   ]
  },
  {
   "cell_type": "code",
   "execution_count": 12,
   "metadata": {},
   "outputs": [
    {
     "data": {
      "text/html": [
       "<style type=\"text/css\">\n",
       "#T_d88a6_row0_col0, #T_d88a6_row1_col1, #T_d88a6_row2_col2, #T_d88a6_row3_col3, #T_d88a6_row4_col4, #T_d88a6_row5_col5, #T_d88a6_row6_col6, #T_d88a6_row7_col7, #T_d88a6_row8_col8, #T_d88a6_row9_col9, #T_d88a6_row10_col10, #T_d88a6_row11_col11, #T_d88a6_row12_col12 {\n",
       "  background-color: #b40426;\n",
       "  color: #f1f1f1;\n",
       "}\n",
       "#T_d88a6_row0_col1 {\n",
       "  background-color: #bcd2f7;\n",
       "  color: #000000;\n",
       "}\n",
       "#T_d88a6_row0_col2 {\n",
       "  background-color: #abc8fd;\n",
       "  color: #000000;\n",
       "}\n",
       "#T_d88a6_row0_col3, #T_d88a6_row6_col1, #T_d88a6_row11_col3 {\n",
       "  background-color: #5f7fe8;\n",
       "  color: #f1f1f1;\n",
       "}\n",
       "#T_d88a6_row0_col4 {\n",
       "  background-color: #c9d7f0;\n",
       "  color: #000000;\n",
       "}\n",
       "#T_d88a6_row0_col5 {\n",
       "  background-color: #dfdbd9;\n",
       "  color: #000000;\n",
       "}\n",
       "#T_d88a6_row0_col6 {\n",
       "  background-color: #e4d9d2;\n",
       "  color: #000000;\n",
       "}\n",
       "#T_d88a6_row0_col7 {\n",
       "  background-color: #89acfd;\n",
       "  color: #000000;\n",
       "}\n",
       "#T_d88a6_row0_col8, #T_d88a6_row0_col10 {\n",
       "  background-color: #a5c3fe;\n",
       "  color: #000000;\n",
       "}\n",
       "#T_d88a6_row0_col9 {\n",
       "  background-color: #f7ad90;\n",
       "  color: #000000;\n",
       "}\n",
       "#T_d88a6_row0_col11 {\n",
       "  background-color: #bfd3f6;\n",
       "  color: #000000;\n",
       "}\n",
       "#T_d88a6_row0_col12 {\n",
       "  background-color: #f39577;\n",
       "  color: #000000;\n",
       "}\n",
       "#T_d88a6_row1_col0, #T_d88a6_row10_col4 {\n",
       "  background-color: #90b2fe;\n",
       "  color: #000000;\n",
       "}\n",
       "#T_d88a6_row1_col2, #T_d88a6_row7_col10 {\n",
       "  background-color: #80a3fa;\n",
       "  color: #f1f1f1;\n",
       "}\n",
       "#T_d88a6_row1_col3 {\n",
       "  background-color: #dedcdb;\n",
       "  color: #000000;\n",
       "}\n",
       "#T_d88a6_row1_col4 {\n",
       "  background-color: #7597f6;\n",
       "  color: #f1f1f1;\n",
       "}\n",
       "#T_d88a6_row1_col5 {\n",
       "  background-color: #4e68d8;\n",
       "  color: #f1f1f1;\n",
       "}\n",
       "#T_d88a6_row1_col6, #T_d88a6_row3_col6 {\n",
       "  background-color: #5673e0;\n",
       "  color: #f1f1f1;\n",
       "}\n",
       "#T_d88a6_row1_col7, #T_d88a6_row3_col2 {\n",
       "  background-color: #d8dce2;\n",
       "  color: #000000;\n",
       "}\n",
       "#T_d88a6_row1_col8, #T_d88a6_row3_col5 {\n",
       "  background-color: #5470de;\n",
       "  color: #f1f1f1;\n",
       "}\n",
       "#T_d88a6_row1_col9 {\n",
       "  background-color: #dadce0;\n",
       "  color: #000000;\n",
       "}\n",
       "#T_d88a6_row1_col10, #T_d88a6_row3_col0, #T_d88a6_row3_col12, #T_d88a6_row6_col7, #T_d88a6_row7_col4, #T_d88a6_row7_col5, #T_d88a6_row7_col6, #T_d88a6_row7_col8, #T_d88a6_row7_col11, #T_d88a6_row10_col1, #T_d88a6_row10_col2, #T_d88a6_row10_col9, #T_d88a6_row12_col3 {\n",
       "  background-color: #3b4cc0;\n",
       "  color: #f1f1f1;\n",
       "}\n",
       "#T_d88a6_row1_col11 {\n",
       "  background-color: #5572df;\n",
       "  color: #f1f1f1;\n",
       "}\n",
       "#T_d88a6_row1_col12 {\n",
       "  background-color: #7396f5;\n",
       "  color: #f1f1f1;\n",
       "}\n",
       "#T_d88a6_row2_col0, #T_d88a6_row4_col6, #T_d88a6_row6_col0 {\n",
       "  background-color: #cedaeb;\n",
       "  color: #000000;\n",
       "}\n",
       "#T_d88a6_row2_col1 {\n",
       "  background-color: #d2dbe8;\n",
       "  color: #000000;\n",
       "}\n",
       "#T_d88a6_row2_col3 {\n",
       "  background-color: #f4c6af;\n",
       "  color: #000000;\n",
       "}\n",
       "#T_d88a6_row2_col4 {\n",
       "  background-color: #c0d4f5;\n",
       "  color: #000000;\n",
       "}\n",
       "#T_d88a6_row2_col5 {\n",
       "  background-color: #bbd1f8;\n",
       "  color: #000000;\n",
       "}\n",
       "#T_d88a6_row2_col6, #T_d88a6_row4_col10 {\n",
       "  background-color: #bed2f6;\n",
       "  color: #000000;\n",
       "}\n",
       "#T_d88a6_row2_col7, #T_d88a6_row5_col0 {\n",
       "  background-color: #d3dbe7;\n",
       "  color: #000000;\n",
       "}\n",
       "#T_d88a6_row2_col8, #T_d88a6_row6_col9 {\n",
       "  background-color: #88abfd;\n",
       "  color: #000000;\n",
       "}\n",
       "#T_d88a6_row2_col9, #T_d88a6_row12_col4 {\n",
       "  background-color: #e5d8d1;\n",
       "  color: #000000;\n",
       "}\n",
       "#T_d88a6_row2_col10, #T_d88a6_row8_col9 {\n",
       "  background-color: #a2c1ff;\n",
       "  color: #000000;\n",
       "}\n",
       "#T_d88a6_row2_col11 {\n",
       "  background-color: #9dbdff;\n",
       "  color: #000000;\n",
       "}\n",
       "#T_d88a6_row2_col12 {\n",
       "  background-color: #d6dce4;\n",
       "  color: #000000;\n",
       "}\n",
       "#T_d88a6_row3_col1 {\n",
       "  background-color: #e6d7cf;\n",
       "  color: #000000;\n",
       "}\n",
       "#T_d88a6_row3_col4, #T_d88a6_row6_col2 {\n",
       "  background-color: #688aef;\n",
       "  color: #f1f1f1;\n",
       "}\n",
       "#T_d88a6_row3_col7 {\n",
       "  background-color: #ead4c8;\n",
       "  color: #000000;\n",
       "}\n",
       "#T_d88a6_row3_col8, #T_d88a6_row5_col3 {\n",
       "  background-color: #5e7de7;\n",
       "  color: #f1f1f1;\n",
       "}\n",
       "#T_d88a6_row3_col9, #T_d88a6_row6_col4 {\n",
       "  background-color: #aec9fc;\n",
       "  color: #000000;\n",
       "}\n",
       "#T_d88a6_row3_col10, #T_d88a6_row8_col3 {\n",
       "  background-color: #7a9df8;\n",
       "  color: #f1f1f1;\n",
       "}\n",
       "#T_d88a6_row3_col11 {\n",
       "  background-color: #6687ed;\n",
       "  color: #f1f1f1;\n",
       "}\n",
       "#T_d88a6_row4_col0, #T_d88a6_row4_col5 {\n",
       "  background-color: #cad8ef;\n",
       "  color: #000000;\n",
       "}\n",
       "#T_d88a6_row4_col1 {\n",
       "  background-color: #a9c6fd;\n",
       "  color: #000000;\n",
       "}\n",
       "#T_d88a6_row4_col2 {\n",
       "  background-color: #9bbcff;\n",
       "  color: #000000;\n",
       "}\n",
       "#T_d88a6_row4_col3 {\n",
       "  background-color: #8fb1fe;\n",
       "  color: #000000;\n",
       "}\n",
       "#T_d88a6_row4_col7, #T_d88a6_row5_col1 {\n",
       "  background-color: #6b8df0;\n",
       "  color: #f1f1f1;\n",
       "}\n",
       "#T_d88a6_row4_col8 {\n",
       "  background-color: #ccd9ed;\n",
       "  color: #000000;\n",
       "}\n",
       "#T_d88a6_row4_col9 {\n",
       "  background-color: #d7dce3;\n",
       "  color: #000000;\n",
       "}\n",
       "#T_d88a6_row4_col11 {\n",
       "  background-color: #afcafc;\n",
       "  color: #000000;\n",
       "}\n",
       "#T_d88a6_row4_col12 {\n",
       "  background-color: #f1cdba;\n",
       "  color: #000000;\n",
       "}\n",
       "#T_d88a6_row5_col2, #T_d88a6_row9_col8 {\n",
       "  background-color: #799cf8;\n",
       "  color: #f1f1f1;\n",
       "}\n",
       "#T_d88a6_row5_col4 {\n",
       "  background-color: #b7cff9;\n",
       "  color: #000000;\n",
       "}\n",
       "#T_d88a6_row5_col6 {\n",
       "  background-color: #d44e41;\n",
       "  color: #f1f1f1;\n",
       "}\n",
       "#T_d88a6_row5_col7 {\n",
       "  background-color: #4f69d9;\n",
       "  color: #f1f1f1;\n",
       "}\n",
       "#T_d88a6_row5_col8 {\n",
       "  background-color: #f7af91;\n",
       "  color: #000000;\n",
       "}\n",
       "#T_d88a6_row5_col9, #T_d88a6_row9_col2 {\n",
       "  background-color: #a6c4fe;\n",
       "  color: #000000;\n",
       "}\n",
       "#T_d88a6_row5_col10 {\n",
       "  background-color: #f5c0a7;\n",
       "  color: #000000;\n",
       "}\n",
       "#T_d88a6_row5_col11 {\n",
       "  background-color: #ee8669;\n",
       "  color: #f1f1f1;\n",
       "}\n",
       "#T_d88a6_row5_col12 {\n",
       "  background-color: #f7bca1;\n",
       "  color: #000000;\n",
       "}\n",
       "#T_d88a6_row6_col3, #T_d88a6_row8_col2 {\n",
       "  background-color: #4c66d6;\n",
       "  color: #f1f1f1;\n",
       "}\n",
       "#T_d88a6_row6_col5 {\n",
       "  background-color: #d65244;\n",
       "  color: #f1f1f1;\n",
       "}\n",
       "#T_d88a6_row6_col8 {\n",
       "  background-color: #f59d7e;\n",
       "  color: #000000;\n",
       "}\n",
       "#T_d88a6_row6_col10 {\n",
       "  background-color: #f7a688;\n",
       "  color: #000000;\n",
       "}\n",
       "#T_d88a6_row6_col11, #T_d88a6_row11_col6 {\n",
       "  background-color: #e26952;\n",
       "  color: #f1f1f1;\n",
       "}\n",
       "#T_d88a6_row6_col12 {\n",
       "  background-color: #f7ba9f;\n",
       "  color: #000000;\n",
       "}\n",
       "#T_d88a6_row7_col0 {\n",
       "  background-color: #5b7ae5;\n",
       "  color: #f1f1f1;\n",
       "}\n",
       "#T_d88a6_row7_col1, #T_d88a6_row10_col8 {\n",
       "  background-color: #dcdddd;\n",
       "  color: #000000;\n",
       "}\n",
       "#T_d88a6_row7_col2, #T_d88a6_row11_col4 {\n",
       "  background-color: #8badfd;\n",
       "  color: #000000;\n",
       "}\n",
       "#T_d88a6_row7_col3, #T_d88a6_row11_col12 {\n",
       "  background-color: #e7d7ce;\n",
       "  color: #000000;\n",
       "}\n",
       "#T_d88a6_row7_col9 {\n",
       "  background-color: #cbd8ee;\n",
       "  color: #000000;\n",
       "}\n",
       "#T_d88a6_row7_col12 {\n",
       "  background-color: #5d7ce6;\n",
       "  color: #f1f1f1;\n",
       "}\n",
       "#T_d88a6_row8_col0, #T_d88a6_row11_col0 {\n",
       "  background-color: #9ebeff;\n",
       "  color: #000000;\n",
       "}\n",
       "#T_d88a6_row8_col1 {\n",
       "  background-color: #82a6fb;\n",
       "  color: #f1f1f1;\n",
       "}\n",
       "#T_d88a6_row8_col4, #T_d88a6_row9_col7 {\n",
       "  background-color: #c5d6f2;\n",
       "  color: #000000;\n",
       "}\n",
       "#T_d88a6_row8_col5, #T_d88a6_row10_col6 {\n",
       "  background-color: #f7a98b;\n",
       "  color: #000000;\n",
       "}\n",
       "#T_d88a6_row8_col6 {\n",
       "  background-color: #f29072;\n",
       "  color: #f1f1f1;\n",
       "}\n",
       "#T_d88a6_row8_col7 {\n",
       "  background-color: #6180e9;\n",
       "  color: #f1f1f1;\n",
       "}\n",
       "#T_d88a6_row8_col10 {\n",
       "  background-color: #edd1c2;\n",
       "  color: #000000;\n",
       "}\n",
       "#T_d88a6_row8_col11, #T_d88a6_row12_col6 {\n",
       "  background-color: #f7b79b;\n",
       "  color: #000000;\n",
       "}\n",
       "#T_d88a6_row8_col12 {\n",
       "  background-color: #e1dad6;\n",
       "  color: #000000;\n",
       "}\n",
       "#T_d88a6_row9_col0, #T_d88a6_row11_col8 {\n",
       "  background-color: #f5c2aa;\n",
       "  color: #000000;\n",
       "}\n",
       "#T_d88a6_row9_col1 {\n",
       "  background-color: #dbdcde;\n",
       "  color: #000000;\n",
       "}\n",
       "#T_d88a6_row9_col3 {\n",
       "  background-color: #a1c0ff;\n",
       "  color: #000000;\n",
       "}\n",
       "#T_d88a6_row9_col4 {\n",
       "  background-color: #b5cdfa;\n",
       "  color: #000000;\n",
       "}\n",
       "#T_d88a6_row9_col5 {\n",
       "  background-color: #8db0fe;\n",
       "  color: #000000;\n",
       "}\n",
       "#T_d88a6_row9_col6 {\n",
       "  background-color: #81a4fb;\n",
       "  color: #f1f1f1;\n",
       "}\n",
       "#T_d88a6_row9_col10 {\n",
       "  background-color: #3c4ec2;\n",
       "  color: #f1f1f1;\n",
       "}\n",
       "#T_d88a6_row9_col11 {\n",
       "  background-color: #455cce;\n",
       "  color: #f1f1f1;\n",
       "}\n",
       "#T_d88a6_row9_col12 {\n",
       "  background-color: #e2dad5;\n",
       "  color: #000000;\n",
       "}\n",
       "#T_d88a6_row10_col0 {\n",
       "  background-color: #7093f3;\n",
       "  color: #f1f1f1;\n",
       "}\n",
       "#T_d88a6_row10_col3, #T_d88a6_row12_col7 {\n",
       "  background-color: #6788ee;\n",
       "  color: #f1f1f1;\n",
       "}\n",
       "#T_d88a6_row10_col5 {\n",
       "  background-color: #f2cbb7;\n",
       "  color: #000000;\n",
       "}\n",
       "#T_d88a6_row10_col7 {\n",
       "  background-color: #7699f6;\n",
       "  color: #f1f1f1;\n",
       "}\n",
       "#T_d88a6_row10_col11 {\n",
       "  background-color: #f6a586;\n",
       "  color: #000000;\n",
       "}\n",
       "#T_d88a6_row10_col12, #T_d88a6_row12_col8 {\n",
       "  background-color: #d4dbe6;\n",
       "  color: #000000;\n",
       "}\n",
       "#T_d88a6_row11_col1 {\n",
       "  background-color: #6282ea;\n",
       "  color: #f1f1f1;\n",
       "}\n",
       "#T_d88a6_row11_col2 {\n",
       "  background-color: #4055c8;\n",
       "  color: #f1f1f1;\n",
       "}\n",
       "#T_d88a6_row11_col5 {\n",
       "  background-color: #f08b6e;\n",
       "  color: #f1f1f1;\n",
       "}\n",
       "#T_d88a6_row11_col7 {\n",
       "  background-color: #3e51c5;\n",
       "  color: #f1f1f1;\n",
       "}\n",
       "#T_d88a6_row11_col9 {\n",
       "  background-color: #516ddb;\n",
       "  color: #f1f1f1;\n",
       "}\n",
       "#T_d88a6_row11_col10 {\n",
       "  background-color: #f5a081;\n",
       "  color: #000000;\n",
       "}\n",
       "#T_d88a6_row12_col0 {\n",
       "  background-color: #f6a385;\n",
       "  color: #000000;\n",
       "}\n",
       "#T_d88a6_row12_col1 {\n",
       "  background-color: #86a9fc;\n",
       "  color: #f1f1f1;\n",
       "}\n",
       "#T_d88a6_row12_col2 {\n",
       "  background-color: #98b9ff;\n",
       "  color: #000000;\n",
       "}\n",
       "#T_d88a6_row12_col5 {\n",
       "  background-color: #f6bfa6;\n",
       "  color: #000000;\n",
       "}\n",
       "#T_d88a6_row12_col9 {\n",
       "  background-color: #ead5c9;\n",
       "  color: #000000;\n",
       "}\n",
       "#T_d88a6_row12_col10 {\n",
       "  background-color: #dddcdc;\n",
       "  color: #000000;\n",
       "}\n",
       "#T_d88a6_row12_col11 {\n",
       "  background-color: #e9d5cb;\n",
       "  color: #000000;\n",
       "}\n",
       "</style>\n",
       "<table id=\"T_d88a6\">\n",
       "  <thead>\n",
       "    <tr>\n",
       "      <th class=\"blank level0\" >&nbsp;</th>\n",
       "      <th id=\"T_d88a6_level0_col0\" class=\"col_heading level0 col0\" >alcohol</th>\n",
       "      <th id=\"T_d88a6_level0_col1\" class=\"col_heading level0 col1\" >malic_acid</th>\n",
       "      <th id=\"T_d88a6_level0_col2\" class=\"col_heading level0 col2\" >ash</th>\n",
       "      <th id=\"T_d88a6_level0_col3\" class=\"col_heading level0 col3\" >alk_ash</th>\n",
       "      <th id=\"T_d88a6_level0_col4\" class=\"col_heading level0 col4\" >magnesium</th>\n",
       "      <th id=\"T_d88a6_level0_col5\" class=\"col_heading level0 col5\" >total_phenols</th>\n",
       "      <th id=\"T_d88a6_level0_col6\" class=\"col_heading level0 col6\" >flavanoids</th>\n",
       "      <th id=\"T_d88a6_level0_col7\" class=\"col_heading level0 col7\" >nonfl_phen</th>\n",
       "      <th id=\"T_d88a6_level0_col8\" class=\"col_heading level0 col8\" >pr_an_cyan</th>\n",
       "      <th id=\"T_d88a6_level0_col9\" class=\"col_heading level0 col9\" >color_int</th>\n",
       "      <th id=\"T_d88a6_level0_col10\" class=\"col_heading level0 col10\" >hue</th>\n",
       "      <th id=\"T_d88a6_level0_col11\" class=\"col_heading level0 col11\" >od280_od315</th>\n",
       "      <th id=\"T_d88a6_level0_col12\" class=\"col_heading level0 col12\" >proline</th>\n",
       "    </tr>\n",
       "  </thead>\n",
       "  <tbody>\n",
       "    <tr>\n",
       "      <th id=\"T_d88a6_level0_row0\" class=\"row_heading level0 row0\" >alcohol</th>\n",
       "      <td id=\"T_d88a6_row0_col0\" class=\"data row0 col0\" >1.000000</td>\n",
       "      <td id=\"T_d88a6_row0_col1\" class=\"data row0 col1\" >0.048448</td>\n",
       "      <td id=\"T_d88a6_row0_col2\" class=\"data row0 col2\" >0.288015</td>\n",
       "      <td id=\"T_d88a6_row0_col3\" class=\"data row0 col3\" >-0.286914</td>\n",
       "      <td id=\"T_d88a6_row0_col4\" class=\"data row0 col4\" >0.268460</td>\n",
       "      <td id=\"T_d88a6_row0_col5\" class=\"data row0 col5\" >0.311278</td>\n",
       "      <td id=\"T_d88a6_row0_col6\" class=\"data row0 col6\" >0.287921</td>\n",
       "      <td id=\"T_d88a6_row0_col7\" class=\"data row0 col7\" >-0.147389</td>\n",
       "      <td id=\"T_d88a6_row0_col8\" class=\"data row0 col8\" >0.095828</td>\n",
       "      <td id=\"T_d88a6_row0_col9\" class=\"data row0 col9\" >0.526565</td>\n",
       "      <td id=\"T_d88a6_row0_col10\" class=\"data row0 col10\" >-0.067012</td>\n",
       "      <td id=\"T_d88a6_row0_col11\" class=\"data row0 col11\" >0.097818</td>\n",
       "      <td id=\"T_d88a6_row0_col12\" class=\"data row0 col12\" >0.646587</td>\n",
       "    </tr>\n",
       "    <tr>\n",
       "      <th id=\"T_d88a6_level0_row1\" class=\"row_heading level0 row1\" >malic_acid</th>\n",
       "      <td id=\"T_d88a6_row1_col0\" class=\"data row1 col0\" >0.048448</td>\n",
       "      <td id=\"T_d88a6_row1_col1\" class=\"data row1 col1\" >1.000000</td>\n",
       "      <td id=\"T_d88a6_row1_col2\" class=\"data row1 col2\" >0.154892</td>\n",
       "      <td id=\"T_d88a6_row1_col3\" class=\"data row1 col3\" >0.275699</td>\n",
       "      <td id=\"T_d88a6_row1_col4\" class=\"data row1 col4\" >-0.045455</td>\n",
       "      <td id=\"T_d88a6_row1_col5\" class=\"data row1 col5\" >-0.317934</td>\n",
       "      <td id=\"T_d88a6_row1_col6\" class=\"data row1 col6\" >-0.375415</td>\n",
       "      <td id=\"T_d88a6_row1_col7\" class=\"data row1 col7\" >0.217966</td>\n",
       "      <td id=\"T_d88a6_row1_col8\" class=\"data row1 col8\" >-0.215259</td>\n",
       "      <td id=\"T_d88a6_row1_col9\" class=\"data row1 col9\" >0.210404</td>\n",
       "      <td id=\"T_d88a6_row1_col10\" class=\"data row1 col10\" >-0.561199</td>\n",
       "      <td id=\"T_d88a6_row1_col11\" class=\"data row1 col11\" >-0.360611</td>\n",
       "      <td id=\"T_d88a6_row1_col12\" class=\"data row1 col12\" >-0.201228</td>\n",
       "    </tr>\n",
       "    <tr>\n",
       "      <th id=\"T_d88a6_level0_row2\" class=\"row_heading level0 row2\" >ash</th>\n",
       "      <td id=\"T_d88a6_row2_col0\" class=\"data row2 col0\" >0.288015</td>\n",
       "      <td id=\"T_d88a6_row2_col1\" class=\"data row2 col1\" >0.154892</td>\n",
       "      <td id=\"T_d88a6_row2_col2\" class=\"data row2 col2\" >1.000000</td>\n",
       "      <td id=\"T_d88a6_row2_col3\" class=\"data row2 col3\" >0.442529</td>\n",
       "      <td id=\"T_d88a6_row2_col4\" class=\"data row2 col4\" >0.235842</td>\n",
       "      <td id=\"T_d88a6_row2_col5\" class=\"data row2 col5\" >0.133245</td>\n",
       "      <td id=\"T_d88a6_row2_col6\" class=\"data row2 col6\" >0.080593</td>\n",
       "      <td id=\"T_d88a6_row2_col7\" class=\"data row2 col7\" >0.188777</td>\n",
       "      <td id=\"T_d88a6_row2_col8\" class=\"data row2 col8\" >-0.012200</td>\n",
       "      <td id=\"T_d88a6_row2_col9\" class=\"data row2 col9\" >0.271603</td>\n",
       "      <td id=\"T_d88a6_row2_col10\" class=\"data row2 col10\" >-0.075389</td>\n",
       "      <td id=\"T_d88a6_row2_col11\" class=\"data row2 col11\" >-0.053457</td>\n",
       "      <td id=\"T_d88a6_row2_col12\" class=\"data row2 col12\" >0.229329</td>\n",
       "    </tr>\n",
       "    <tr>\n",
       "      <th id=\"T_d88a6_level0_row3\" class=\"row_heading level0 row3\" >alk_ash</th>\n",
       "      <td id=\"T_d88a6_row3_col0\" class=\"data row3 col0\" >-0.286914</td>\n",
       "      <td id=\"T_d88a6_row3_col1\" class=\"data row3 col1\" >0.275699</td>\n",
       "      <td id=\"T_d88a6_row3_col2\" class=\"data row3 col2\" >0.442529</td>\n",
       "      <td id=\"T_d88a6_row3_col3\" class=\"data row3 col3\" >1.000000</td>\n",
       "      <td id=\"T_d88a6_row3_col4\" class=\"data row3 col4\" >-0.090453</td>\n",
       "      <td id=\"T_d88a6_row3_col5\" class=\"data row3 col5\" >-0.291692</td>\n",
       "      <td id=\"T_d88a6_row3_col6\" class=\"data row3 col6\" >-0.372614</td>\n",
       "      <td id=\"T_d88a6_row3_col7\" class=\"data row3 col7\" >0.329221</td>\n",
       "      <td id=\"T_d88a6_row3_col8\" class=\"data row3 col8\" >-0.173944</td>\n",
       "      <td id=\"T_d88a6_row3_col9\" class=\"data row3 col9\" >-0.016130</td>\n",
       "      <td id=\"T_d88a6_row3_col10\" class=\"data row3 col10\" >-0.251954</td>\n",
       "      <td id=\"T_d88a6_row3_col11\" class=\"data row3 col11\" >-0.285893</td>\n",
       "      <td id=\"T_d88a6_row3_col12\" class=\"data row3 col12\" >-0.462029</td>\n",
       "    </tr>\n",
       "    <tr>\n",
       "      <th id=\"T_d88a6_level0_row4\" class=\"row_heading level0 row4\" >magnesium</th>\n",
       "      <td id=\"T_d88a6_row4_col0\" class=\"data row4 col0\" >0.268460</td>\n",
       "      <td id=\"T_d88a6_row4_col1\" class=\"data row4 col1\" >-0.045455</td>\n",
       "      <td id=\"T_d88a6_row4_col2\" class=\"data row4 col2\" >0.235842</td>\n",
       "      <td id=\"T_d88a6_row4_col3\" class=\"data row4 col3\" >-0.090453</td>\n",
       "      <td id=\"T_d88a6_row4_col4\" class=\"data row4 col4\" >1.000000</td>\n",
       "      <td id=\"T_d88a6_row4_col5\" class=\"data row4 col5\" >0.200909</td>\n",
       "      <td id=\"T_d88a6_row4_col6\" class=\"data row4 col6\" >0.161697</td>\n",
       "      <td id=\"T_d88a6_row4_col7\" class=\"data row4 col7\" >-0.277451</td>\n",
       "      <td id=\"T_d88a6_row4_col8\" class=\"data row4 col8\" >0.256439</td>\n",
       "      <td id=\"T_d88a6_row4_col9\" class=\"data row4 col9\" >0.189974</td>\n",
       "      <td id=\"T_d88a6_row4_col10\" class=\"data row4 col10\" >0.052314</td>\n",
       "      <td id=\"T_d88a6_row4_col11\" class=\"data row4 col11\" >0.032602</td>\n",
       "      <td id=\"T_d88a6_row4_col12\" class=\"data row4 col12\" >0.401703</td>\n",
       "    </tr>\n",
       "    <tr>\n",
       "      <th id=\"T_d88a6_level0_row5\" class=\"row_heading level0 row5\" >total_phenols</th>\n",
       "      <td id=\"T_d88a6_row5_col0\" class=\"data row5 col0\" >0.311278</td>\n",
       "      <td id=\"T_d88a6_row5_col1\" class=\"data row5 col1\" >-0.317934</td>\n",
       "      <td id=\"T_d88a6_row5_col2\" class=\"data row5 col2\" >0.133245</td>\n",
       "      <td id=\"T_d88a6_row5_col3\" class=\"data row5 col3\" >-0.291692</td>\n",
       "      <td id=\"T_d88a6_row5_col4\" class=\"data row5 col4\" >0.200909</td>\n",
       "      <td id=\"T_d88a6_row5_col5\" class=\"data row5 col5\" >1.000000</td>\n",
       "      <td id=\"T_d88a6_row5_col6\" class=\"data row5 col6\" >0.858793</td>\n",
       "      <td id=\"T_d88a6_row5_col7\" class=\"data row5 col7\" >-0.407187</td>\n",
       "      <td id=\"T_d88a6_row5_col8\" class=\"data row5 col8\" >0.592119</td>\n",
       "      <td id=\"T_d88a6_row5_col9\" class=\"data row5 col9\" >-0.053982</td>\n",
       "      <td id=\"T_d88a6_row5_col10\" class=\"data row5 col10\" >0.434608</td>\n",
       "      <td id=\"T_d88a6_row5_col11\" class=\"data row5 col11\" >0.695982</td>\n",
       "      <td id=\"T_d88a6_row5_col12\" class=\"data row5 col12\" >0.496940</td>\n",
       "    </tr>\n",
       "    <tr>\n",
       "      <th id=\"T_d88a6_level0_row6\" class=\"row_heading level0 row6\" >flavanoids</th>\n",
       "      <td id=\"T_d88a6_row6_col0\" class=\"data row6 col0\" >0.287921</td>\n",
       "      <td id=\"T_d88a6_row6_col1\" class=\"data row6 col1\" >-0.375415</td>\n",
       "      <td id=\"T_d88a6_row6_col2\" class=\"data row6 col2\" >0.080593</td>\n",
       "      <td id=\"T_d88a6_row6_col3\" class=\"data row6 col3\" >-0.372614</td>\n",
       "      <td id=\"T_d88a6_row6_col4\" class=\"data row6 col4\" >0.161697</td>\n",
       "      <td id=\"T_d88a6_row6_col5\" class=\"data row6 col5\" >0.858793</td>\n",
       "      <td id=\"T_d88a6_row6_col6\" class=\"data row6 col6\" >1.000000</td>\n",
       "      <td id=\"T_d88a6_row6_col7\" class=\"data row6 col7\" >-0.511695</td>\n",
       "      <td id=\"T_d88a6_row6_col8\" class=\"data row6 col8\" >0.653958</td>\n",
       "      <td id=\"T_d88a6_row6_col9\" class=\"data row6 col9\" >-0.185480</td>\n",
       "      <td id=\"T_d88a6_row6_col10\" class=\"data row6 col10\" >0.557284</td>\n",
       "      <td id=\"T_d88a6_row6_col11\" class=\"data row6 col11\" >0.784959</td>\n",
       "      <td id=\"T_d88a6_row6_col12\" class=\"data row6 col12\" >0.502657</td>\n",
       "    </tr>\n",
       "    <tr>\n",
       "      <th id=\"T_d88a6_level0_row7\" class=\"row_heading level0 row7\" >nonfl_phen</th>\n",
       "      <td id=\"T_d88a6_row7_col0\" class=\"data row7 col0\" >-0.147389</td>\n",
       "      <td id=\"T_d88a6_row7_col1\" class=\"data row7 col1\" >0.217966</td>\n",
       "      <td id=\"T_d88a6_row7_col2\" class=\"data row7 col2\" >0.188777</td>\n",
       "      <td id=\"T_d88a6_row7_col3\" class=\"data row7 col3\" >0.329221</td>\n",
       "      <td id=\"T_d88a6_row7_col4\" class=\"data row7 col4\" >-0.277451</td>\n",
       "      <td id=\"T_d88a6_row7_col5\" class=\"data row7 col5\" >-0.407187</td>\n",
       "      <td id=\"T_d88a6_row7_col6\" class=\"data row7 col6\" >-0.511695</td>\n",
       "      <td id=\"T_d88a6_row7_col7\" class=\"data row7 col7\" >1.000000</td>\n",
       "      <td id=\"T_d88a6_row7_col8\" class=\"data row7 col8\" >-0.325089</td>\n",
       "      <td id=\"T_d88a6_row7_col9\" class=\"data row7 col9\" >0.119873</td>\n",
       "      <td id=\"T_d88a6_row7_col10\" class=\"data row7 col10\" >-0.231407</td>\n",
       "      <td id=\"T_d88a6_row7_col11\" class=\"data row7 col11\" >-0.490324</td>\n",
       "      <td id=\"T_d88a6_row7_col12\" class=\"data row7 col12\" >-0.298110</td>\n",
       "    </tr>\n",
       "    <tr>\n",
       "      <th id=\"T_d88a6_level0_row8\" class=\"row_heading level0 row8\" >pr_an_cyan</th>\n",
       "      <td id=\"T_d88a6_row8_col0\" class=\"data row8 col0\" >0.095828</td>\n",
       "      <td id=\"T_d88a6_row8_col1\" class=\"data row8 col1\" >-0.215259</td>\n",
       "      <td id=\"T_d88a6_row8_col2\" class=\"data row8 col2\" >-0.012200</td>\n",
       "      <td id=\"T_d88a6_row8_col3\" class=\"data row8 col3\" >-0.173944</td>\n",
       "      <td id=\"T_d88a6_row8_col4\" class=\"data row8 col4\" >0.256439</td>\n",
       "      <td id=\"T_d88a6_row8_col5\" class=\"data row8 col5\" >0.592119</td>\n",
       "      <td id=\"T_d88a6_row8_col6\" class=\"data row8 col6\" >0.653958</td>\n",
       "      <td id=\"T_d88a6_row8_col7\" class=\"data row8 col7\" >-0.325089</td>\n",
       "      <td id=\"T_d88a6_row8_col8\" class=\"data row8 col8\" >1.000000</td>\n",
       "      <td id=\"T_d88a6_row8_col9\" class=\"data row8 col9\" >-0.068963</td>\n",
       "      <td id=\"T_d88a6_row8_col10\" class=\"data row8 col10\" >0.333344</td>\n",
       "      <td id=\"T_d88a6_row8_col11\" class=\"data row8 col11\" >0.508270</td>\n",
       "      <td id=\"T_d88a6_row8_col12\" class=\"data row8 col12\" >0.294190</td>\n",
       "    </tr>\n",
       "    <tr>\n",
       "      <th id=\"T_d88a6_level0_row9\" class=\"row_heading level0 row9\" >color_int</th>\n",
       "      <td id=\"T_d88a6_row9_col0\" class=\"data row9 col0\" >0.526565</td>\n",
       "      <td id=\"T_d88a6_row9_col1\" class=\"data row9 col1\" >0.210404</td>\n",
       "      <td id=\"T_d88a6_row9_col2\" class=\"data row9 col2\" >0.271603</td>\n",
       "      <td id=\"T_d88a6_row9_col3\" class=\"data row9 col3\" >-0.016130</td>\n",
       "      <td id=\"T_d88a6_row9_col4\" class=\"data row9 col4\" >0.189974</td>\n",
       "      <td id=\"T_d88a6_row9_col5\" class=\"data row9 col5\" >-0.053982</td>\n",
       "      <td id=\"T_d88a6_row9_col6\" class=\"data row9 col6\" >-0.185480</td>\n",
       "      <td id=\"T_d88a6_row9_col7\" class=\"data row9 col7\" >0.119873</td>\n",
       "      <td id=\"T_d88a6_row9_col8\" class=\"data row9 col8\" >-0.068963</td>\n",
       "      <td id=\"T_d88a6_row9_col9\" class=\"data row9 col9\" >1.000000</td>\n",
       "      <td id=\"T_d88a6_row9_col10\" class=\"data row9 col10\" >-0.553938</td>\n",
       "      <td id=\"T_d88a6_row9_col11\" class=\"data row9 col11\" >-0.433048</td>\n",
       "      <td id=\"T_d88a6_row9_col12\" class=\"data row9 col12\" >0.302882</td>\n",
       "    </tr>\n",
       "    <tr>\n",
       "      <th id=\"T_d88a6_level0_row10\" class=\"row_heading level0 row10\" >hue</th>\n",
       "      <td id=\"T_d88a6_row10_col0\" class=\"data row10 col0\" >-0.067012</td>\n",
       "      <td id=\"T_d88a6_row10_col1\" class=\"data row10 col1\" >-0.561199</td>\n",
       "      <td id=\"T_d88a6_row10_col2\" class=\"data row10 col2\" >-0.075389</td>\n",
       "      <td id=\"T_d88a6_row10_col3\" class=\"data row10 col3\" >-0.251954</td>\n",
       "      <td id=\"T_d88a6_row10_col4\" class=\"data row10 col4\" >0.052314</td>\n",
       "      <td id=\"T_d88a6_row10_col5\" class=\"data row10 col5\" >0.434608</td>\n",
       "      <td id=\"T_d88a6_row10_col6\" class=\"data row10 col6\" >0.557284</td>\n",
       "      <td id=\"T_d88a6_row10_col7\" class=\"data row10 col7\" >-0.231407</td>\n",
       "      <td id=\"T_d88a6_row10_col8\" class=\"data row10 col8\" >0.333344</td>\n",
       "      <td id=\"T_d88a6_row10_col9\" class=\"data row10 col9\" >-0.553938</td>\n",
       "      <td id=\"T_d88a6_row10_col10\" class=\"data row10 col10\" >1.000000</td>\n",
       "      <td id=\"T_d88a6_row10_col11\" class=\"data row10 col11\" >0.582937</td>\n",
       "      <td id=\"T_d88a6_row10_col12\" class=\"data row10 col12\" >0.220330</td>\n",
       "    </tr>\n",
       "    <tr>\n",
       "      <th id=\"T_d88a6_level0_row11\" class=\"row_heading level0 row11\" >od280_od315</th>\n",
       "      <td id=\"T_d88a6_row11_col0\" class=\"data row11 col0\" >0.097818</td>\n",
       "      <td id=\"T_d88a6_row11_col1\" class=\"data row11 col1\" >-0.360611</td>\n",
       "      <td id=\"T_d88a6_row11_col2\" class=\"data row11 col2\" >-0.053457</td>\n",
       "      <td id=\"T_d88a6_row11_col3\" class=\"data row11 col3\" >-0.285893</td>\n",
       "      <td id=\"T_d88a6_row11_col4\" class=\"data row11 col4\" >0.032602</td>\n",
       "      <td id=\"T_d88a6_row11_col5\" class=\"data row11 col5\" >0.695982</td>\n",
       "      <td id=\"T_d88a6_row11_col6\" class=\"data row11 col6\" >0.784959</td>\n",
       "      <td id=\"T_d88a6_row11_col7\" class=\"data row11 col7\" >-0.490324</td>\n",
       "      <td id=\"T_d88a6_row11_col8\" class=\"data row11 col8\" >0.508270</td>\n",
       "      <td id=\"T_d88a6_row11_col9\" class=\"data row11 col9\" >-0.433048</td>\n",
       "      <td id=\"T_d88a6_row11_col10\" class=\"data row11 col10\" >0.582937</td>\n",
       "      <td id=\"T_d88a6_row11_col11\" class=\"data row11 col11\" >1.000000</td>\n",
       "      <td id=\"T_d88a6_row11_col12\" class=\"data row11 col12\" >0.328245</td>\n",
       "    </tr>\n",
       "    <tr>\n",
       "      <th id=\"T_d88a6_level0_row12\" class=\"row_heading level0 row12\" >proline</th>\n",
       "      <td id=\"T_d88a6_row12_col0\" class=\"data row12 col0\" >0.646587</td>\n",
       "      <td id=\"T_d88a6_row12_col1\" class=\"data row12 col1\" >-0.201228</td>\n",
       "      <td id=\"T_d88a6_row12_col2\" class=\"data row12 col2\" >0.229329</td>\n",
       "      <td id=\"T_d88a6_row12_col3\" class=\"data row12 col3\" >-0.462029</td>\n",
       "      <td id=\"T_d88a6_row12_col4\" class=\"data row12 col4\" >0.401703</td>\n",
       "      <td id=\"T_d88a6_row12_col5\" class=\"data row12 col5\" >0.496940</td>\n",
       "      <td id=\"T_d88a6_row12_col6\" class=\"data row12 col6\" >0.502657</td>\n",
       "      <td id=\"T_d88a6_row12_col7\" class=\"data row12 col7\" >-0.298110</td>\n",
       "      <td id=\"T_d88a6_row12_col8\" class=\"data row12 col8\" >0.294190</td>\n",
       "      <td id=\"T_d88a6_row12_col9\" class=\"data row12 col9\" >0.302882</td>\n",
       "      <td id=\"T_d88a6_row12_col10\" class=\"data row12 col10\" >0.220330</td>\n",
       "      <td id=\"T_d88a6_row12_col11\" class=\"data row12 col11\" >0.328245</td>\n",
       "      <td id=\"T_d88a6_row12_col12\" class=\"data row12 col12\" >1.000000</td>\n",
       "    </tr>\n",
       "  </tbody>\n",
       "</table>\n"
      ],
      "text/plain": [
       "<pandas.io.formats.style.Styler at 0x1c3b8ad92d0>"
      ]
     },
     "execution_count": 12,
     "metadata": {},
     "output_type": "execute_result"
    }
   ],
   "source": [
    "corr = X_train.corr()\n",
    "corr.style.background_gradient(cmap='coolwarm')"
   ]
  },
  {
   "cell_type": "markdown",
   "metadata": {},
   "source": [
    "Имеет место достаточно сильная корреляция между признаками `'total_phenols'` и `'flavanoids'`. На практике, если значение коэффициента корреляции больше 0.9, то рекомендуют один из признаков удалить (хотя в некоторых задачах, например, связанных с кредитным скорингом, порог значительно ниже). В данном случае коэффициент корреляции 0.86, так что пока что оставим оба признака."
   ]
  },
  {
   "cell_type": "markdown",
   "metadata": {},
   "source": [
    "Проверим распределение величин, чтобы визуально оценить наличие выбросов"
   ]
  },
  {
   "cell_type": "code",
   "execution_count": 13,
   "metadata": {},
   "outputs": [
    {
     "data": {
      "image/png": "[encoded data removed]",
      "text/plain": [
       "<Figure size 1200x1200 with 16 Axes>"
      ]
     },
     "metadata": {},
     "output_type": "display_data"
    }
   ],
   "source": [
    "from matplotlib import pyplot as plt\n",
    "\n",
    "fig, a = plt.subplots(4, 4, figsize=(12, 12))\n",
    "plt.subplots_adjust(wspace=0.2, hspace=0.3)\n",
    "\n",
    "for i in range(4):\n",
    "    for j in range(4):\n",
    "        if i*4+j < 13:\n",
    "            a[i, j].set_title(X_train.columns[i*4+j])\n",
    "            a[i, j].hist(X_train[X_train.columns[i*4+j]], bins=20, \n",
    "                         density=True, \n",
    "                         stacked=True, \n",
    "                         edgecolor=\"#6A9662\",\n",
    "                         color=\"#DDFFDD\")"
   ]
  },
  {
   "cell_type": "markdown",
   "metadata": {},
   "source": [
    "Из графиков видим, что есть единичные отдельно стоящие объекты по признакам `hue`, `ash`, `pr_an_cyan`. Посмтрим, что это за объекты"
   ]
  },
  {
   "cell_type": "code",
   "execution_count": 14,
   "metadata": {},
   "outputs": [
    {
     "data": {
      "text/html": [
       "<div>\n",
       "<style scoped>\n",
       "    .dataframe tbody tr th:only-of-type {\n",
       "        vertical-align: middle;\n",
       "    }\n",
       "\n",
       "    .dataframe tbody tr th {\n",
       "        vertical-align: top;\n",
       "    }\n",
       "\n",
       "    .dataframe thead th {\n",
       "        text-align: right;\n",
       "    }\n",
       "</style>\n",
       "<table border=\"1\" class=\"dataframe\">\n",
       "  <thead>\n",
       "    <tr style=\"text-align: right;\">\n",
       "      <th></th>\n",
       "      <th>alcohol</th>\n",
       "      <th>malic_acid</th>\n",
       "      <th>ash</th>\n",
       "      <th>alk_ash</th>\n",
       "      <th>magnesium</th>\n",
       "      <th>total_phenols</th>\n",
       "      <th>flavanoids</th>\n",
       "      <th>nonfl_phen</th>\n",
       "      <th>pr_an_cyan</th>\n",
       "      <th>color_int</th>\n",
       "      <th>hue</th>\n",
       "      <th>od280_od315</th>\n",
       "      <th>proline</th>\n",
       "    </tr>\n",
       "  </thead>\n",
       "  <tbody>\n",
       "    <tr>\n",
       "      <th>115</th>\n",
       "      <td>11.03</td>\n",
       "      <td>1.51</td>\n",
       "      <td>2.2</td>\n",
       "      <td>21.5</td>\n",
       "      <td>85.0</td>\n",
       "      <td>2.46</td>\n",
       "      <td>2.17</td>\n",
       "      <td>0.52</td>\n",
       "      <td>2.01</td>\n",
       "      <td>1.9</td>\n",
       "      <td>1.71</td>\n",
       "      <td>2.87</td>\n",
       "      <td>407.0</td>\n",
       "    </tr>\n",
       "  </tbody>\n",
       "</table>\n",
       "</div>"
      ],
      "text/plain": [
       "     alcohol  malic_acid  ash  alk_ash  magnesium  total_phenols  flavanoids  \\\n",
       "115    11.03        1.51  2.2     21.5       85.0           2.46        2.17   \n",
       "\n",
       "     nonfl_phen  pr_an_cyan  color_int   hue  od280_od315  proline  \n",
       "115        0.52        2.01        1.9  1.71         2.87    407.0  "
      ]
     },
     "execution_count": 14,
     "metadata": {},
     "output_type": "execute_result"
    }
   ],
   "source": [
    "X_train[X_train.hue>1.5]"
   ]
  },
  {
   "cell_type": "code",
   "execution_count": 15,
   "metadata": {},
   "outputs": [
    {
     "data": {
      "text/html": [
       "<div>\n",
       "<style scoped>\n",
       "    .dataframe tbody tr th:only-of-type {\n",
       "        vertical-align: middle;\n",
       "    }\n",
       "\n",
       "    .dataframe tbody tr th {\n",
       "        vertical-align: top;\n",
       "    }\n",
       "\n",
       "    .dataframe thead th {\n",
       "        text-align: right;\n",
       "    }\n",
       "</style>\n",
       "<table border=\"1\" class=\"dataframe\">\n",
       "  <thead>\n",
       "    <tr style=\"text-align: right;\">\n",
       "      <th></th>\n",
       "      <th>alcohol</th>\n",
       "      <th>malic_acid</th>\n",
       "      <th>ash</th>\n",
       "      <th>alk_ash</th>\n",
       "      <th>magnesium</th>\n",
       "      <th>total_phenols</th>\n",
       "      <th>flavanoids</th>\n",
       "      <th>nonfl_phen</th>\n",
       "      <th>pr_an_cyan</th>\n",
       "      <th>color_int</th>\n",
       "      <th>hue</th>\n",
       "      <th>od280_od315</th>\n",
       "      <th>proline</th>\n",
       "    </tr>\n",
       "  </thead>\n",
       "  <tbody>\n",
       "    <tr>\n",
       "      <th>25</th>\n",
       "      <td>13.05</td>\n",
       "      <td>2.05</td>\n",
       "      <td>3.22</td>\n",
       "      <td>25.0</td>\n",
       "      <td>124.0</td>\n",
       "      <td>2.63</td>\n",
       "      <td>2.68</td>\n",
       "      <td>0.47</td>\n",
       "      <td>1.92</td>\n",
       "      <td>3.58</td>\n",
       "      <td>1.13</td>\n",
       "      <td>3.20</td>\n",
       "      <td>830.0</td>\n",
       "    </tr>\n",
       "    <tr>\n",
       "      <th>59</th>\n",
       "      <td>12.37</td>\n",
       "      <td>0.94</td>\n",
       "      <td>1.36</td>\n",
       "      <td>10.6</td>\n",
       "      <td>88.0</td>\n",
       "      <td>1.98</td>\n",
       "      <td>0.57</td>\n",
       "      <td>0.28</td>\n",
       "      <td>0.42</td>\n",
       "      <td>1.95</td>\n",
       "      <td>1.05</td>\n",
       "      <td>1.82</td>\n",
       "      <td>520.0</td>\n",
       "    </tr>\n",
       "  </tbody>\n",
       "</table>\n",
       "</div>"
      ],
      "text/plain": [
       "    alcohol  malic_acid   ash  alk_ash  magnesium  total_phenols  flavanoids  \\\n",
       "25    13.05        2.05  3.22     25.0      124.0           2.63        2.68   \n",
       "59    12.37        0.94  1.36     10.6       88.0           1.98        0.57   \n",
       "\n",
       "    nonfl_phen  pr_an_cyan  color_int   hue  od280_od315  proline  \n",
       "25        0.47        1.92       3.58  1.13         3.20    830.0  \n",
       "59        0.28        0.42       1.95  1.05         1.82    520.0  "
      ]
     },
     "execution_count": 15,
     "metadata": {},
     "output_type": "execute_result"
    }
   ],
   "source": [
    "X_train[(X_train.ash<1.5) | (X_train.ash>3)]"
   ]
  },
  {
   "cell_type": "code",
   "execution_count": 16,
   "metadata": {},
   "outputs": [
    {
     "data": {
      "text/html": [
       "<div>\n",
       "<style scoped>\n",
       "    .dataframe tbody tr th:only-of-type {\n",
       "        vertical-align: middle;\n",
       "    }\n",
       "\n",
       "    .dataframe tbody tr th {\n",
       "        vertical-align: top;\n",
       "    }\n",
       "\n",
       "    .dataframe thead th {\n",
       "        text-align: right;\n",
       "    }\n",
       "</style>\n",
       "<table border=\"1\" class=\"dataframe\">\n",
       "  <thead>\n",
       "    <tr style=\"text-align: right;\">\n",
       "      <th></th>\n",
       "      <th>alcohol</th>\n",
       "      <th>malic_acid</th>\n",
       "      <th>ash</th>\n",
       "      <th>alk_ash</th>\n",
       "      <th>magnesium</th>\n",
       "      <th>total_phenols</th>\n",
       "      <th>flavanoids</th>\n",
       "      <th>nonfl_phen</th>\n",
       "      <th>pr_an_cyan</th>\n",
       "      <th>color_int</th>\n",
       "      <th>hue</th>\n",
       "      <th>od280_od315</th>\n",
       "      <th>proline</th>\n",
       "    </tr>\n",
       "  </thead>\n",
       "  <tbody>\n",
       "    <tr>\n",
       "      <th>95</th>\n",
       "      <td>12.47</td>\n",
       "      <td>1.52</td>\n",
       "      <td>2.20</td>\n",
       "      <td>19.0</td>\n",
       "      <td>162.0</td>\n",
       "      <td>2.50</td>\n",
       "      <td>2.27</td>\n",
       "      <td>0.32</td>\n",
       "      <td>3.28</td>\n",
       "      <td>2.6</td>\n",
       "      <td>1.16</td>\n",
       "      <td>2.63</td>\n",
       "      <td>937.0</td>\n",
       "    </tr>\n",
       "    <tr>\n",
       "      <th>110</th>\n",
       "      <td>11.46</td>\n",
       "      <td>3.74</td>\n",
       "      <td>1.82</td>\n",
       "      <td>19.5</td>\n",
       "      <td>107.0</td>\n",
       "      <td>3.18</td>\n",
       "      <td>2.58</td>\n",
       "      <td>0.24</td>\n",
       "      <td>3.58</td>\n",
       "      <td>2.9</td>\n",
       "      <td>0.75</td>\n",
       "      <td>2.81</td>\n",
       "      <td>562.0</td>\n",
       "    </tr>\n",
       "  </tbody>\n",
       "</table>\n",
       "</div>"
      ],
      "text/plain": [
       "     alcohol  malic_acid   ash  alk_ash  magnesium  total_phenols  flavanoids  \\\n",
       "95     12.47        1.52  2.20     19.0      162.0           2.50        2.27   \n",
       "110    11.46        3.74  1.82     19.5      107.0           3.18        2.58   \n",
       "\n",
       "     nonfl_phen  pr_an_cyan  color_int   hue  od280_od315  proline  \n",
       "95         0.32        3.28        2.6  1.16         2.63    937.0  \n",
       "110        0.24        3.58        2.9  0.75         2.81    562.0  "
      ]
     },
     "execution_count": 16,
     "metadata": {},
     "output_type": "execute_result"
    }
   ],
   "source": [
    "X_train[X_train.pr_an_cyan>3]"
   ]
  },
  {
   "cell_type": "markdown",
   "metadata": {},
   "source": [
    "Видим, что специфическими свойствами обладают разные объекты, при этом хотя свойства этих объектов и отличаются от общей совокупности, но не сильно. Проверим дополнительно статистические характеристики признаков"
   ]
  },
  {
   "cell_type": "code",
   "execution_count": 17,
   "metadata": {
    "id": "VTOG8ggByUSZ"
   },
   "outputs": [
    {
     "data": {
      "text/html": [
       "<div>\n",
       "<style scoped>\n",
       "    .dataframe tbody tr th:only-of-type {\n",
       "        vertical-align: middle;\n",
       "    }\n",
       "\n",
       "    .dataframe tbody tr th {\n",
       "        vertical-align: top;\n",
       "    }\n",
       "\n",
       "    .dataframe thead th {\n",
       "        text-align: right;\n",
       "    }\n",
       "</style>\n",
       "<table border=\"1\" class=\"dataframe\">\n",
       "  <thead>\n",
       "    <tr style=\"text-align: right;\">\n",
       "      <th></th>\n",
       "      <th>count</th>\n",
       "      <th>mean</th>\n",
       "      <th>std</th>\n",
       "      <th>min</th>\n",
       "      <th>25%</th>\n",
       "      <th>50%</th>\n",
       "      <th>75%</th>\n",
       "      <th>max</th>\n",
       "    </tr>\n",
       "  </thead>\n",
       "  <tbody>\n",
       "    <tr>\n",
       "      <th>alcohol</th>\n",
       "      <td>133.0</td>\n",
       "      <td>12.968271</td>\n",
       "      <td>0.801903</td>\n",
       "      <td>11.03</td>\n",
       "      <td>12.37</td>\n",
       "      <td>12.99</td>\n",
       "      <td>13.56</td>\n",
       "      <td>14.83</td>\n",
       "    </tr>\n",
       "    <tr>\n",
       "      <th>malic_acid</th>\n",
       "      <td>133.0</td>\n",
       "      <td>2.332932</td>\n",
       "      <td>1.090271</td>\n",
       "      <td>0.74</td>\n",
       "      <td>1.61</td>\n",
       "      <td>1.81</td>\n",
       "      <td>3.12</td>\n",
       "      <td>5.80</td>\n",
       "    </tr>\n",
       "    <tr>\n",
       "      <th>ash</th>\n",
       "      <td>133.0</td>\n",
       "      <td>2.367744</td>\n",
       "      <td>0.266693</td>\n",
       "      <td>1.36</td>\n",
       "      <td>2.20</td>\n",
       "      <td>2.36</td>\n",
       "      <td>2.56</td>\n",
       "      <td>3.22</td>\n",
       "    </tr>\n",
       "    <tr>\n",
       "      <th>alk_ash</th>\n",
       "      <td>133.0</td>\n",
       "      <td>19.701504</td>\n",
       "      <td>3.366389</td>\n",
       "      <td>10.60</td>\n",
       "      <td>17.20</td>\n",
       "      <td>20.00</td>\n",
       "      <td>21.50</td>\n",
       "      <td>30.00</td>\n",
       "    </tr>\n",
       "    <tr>\n",
       "      <th>magnesium</th>\n",
       "      <td>133.0</td>\n",
       "      <td>100.000000</td>\n",
       "      <td>14.982313</td>\n",
       "      <td>70.00</td>\n",
       "      <td>88.00</td>\n",
       "      <td>98.00</td>\n",
       "      <td>108.00</td>\n",
       "      <td>162.00</td>\n",
       "    </tr>\n",
       "    <tr>\n",
       "      <th>total_phenols</th>\n",
       "      <td>133.0</td>\n",
       "      <td>2.282481</td>\n",
       "      <td>0.630004</td>\n",
       "      <td>0.98</td>\n",
       "      <td>1.70</td>\n",
       "      <td>2.40</td>\n",
       "      <td>2.80</td>\n",
       "      <td>3.88</td>\n",
       "    </tr>\n",
       "    <tr>\n",
       "      <th>flavanoids</th>\n",
       "      <td>133.0</td>\n",
       "      <td>1.993383</td>\n",
       "      <td>0.958150</td>\n",
       "      <td>0.34</td>\n",
       "      <td>1.22</td>\n",
       "      <td>2.14</td>\n",
       "      <td>2.78</td>\n",
       "      <td>3.74</td>\n",
       "    </tr>\n",
       "    <tr>\n",
       "      <th>nonfl_phen</th>\n",
       "      <td>133.0</td>\n",
       "      <td>0.361429</td>\n",
       "      <td>0.118534</td>\n",
       "      <td>0.13</td>\n",
       "      <td>0.27</td>\n",
       "      <td>0.34</td>\n",
       "      <td>0.43</td>\n",
       "      <td>0.63</td>\n",
       "    </tr>\n",
       "    <tr>\n",
       "      <th>pr_an_cyan</th>\n",
       "      <td>133.0</td>\n",
       "      <td>1.604586</td>\n",
       "      <td>0.585901</td>\n",
       "      <td>0.42</td>\n",
       "      <td>1.25</td>\n",
       "      <td>1.57</td>\n",
       "      <td>1.95</td>\n",
       "      <td>3.58</td>\n",
       "    </tr>\n",
       "    <tr>\n",
       "      <th>color_int</th>\n",
       "      <td>133.0</td>\n",
       "      <td>5.007820</td>\n",
       "      <td>2.365661</td>\n",
       "      <td>1.28</td>\n",
       "      <td>3.05</td>\n",
       "      <td>4.68</td>\n",
       "      <td>6.25</td>\n",
       "      <td>13.00</td>\n",
       "    </tr>\n",
       "    <tr>\n",
       "      <th>hue</th>\n",
       "      <td>133.0</td>\n",
       "      <td>0.949744</td>\n",
       "      <td>0.225866</td>\n",
       "      <td>0.48</td>\n",
       "      <td>0.78</td>\n",
       "      <td>0.96</td>\n",
       "      <td>1.09</td>\n",
       "      <td>1.71</td>\n",
       "    </tr>\n",
       "    <tr>\n",
       "      <th>od280_od315</th>\n",
       "      <td>133.0</td>\n",
       "      <td>2.594737</td>\n",
       "      <td>0.685365</td>\n",
       "      <td>1.27</td>\n",
       "      <td>1.96</td>\n",
       "      <td>2.78</td>\n",
       "      <td>3.14</td>\n",
       "      <td>3.92</td>\n",
       "    </tr>\n",
       "    <tr>\n",
       "      <th>proline</th>\n",
       "      <td>133.0</td>\n",
       "      <td>747.406015</td>\n",
       "      <td>304.904854</td>\n",
       "      <td>278.00</td>\n",
       "      <td>500.00</td>\n",
       "      <td>675.00</td>\n",
       "      <td>985.00</td>\n",
       "      <td>1515.00</td>\n",
       "    </tr>\n",
       "  </tbody>\n",
       "</table>\n",
       "</div>"
      ],
      "text/plain": [
       "               count        mean         std     min     25%     50%     75%  \\\n",
       "alcohol        133.0   12.968271    0.801903   11.03   12.37   12.99   13.56   \n",
       "malic_acid     133.0    2.332932    1.090271    0.74    1.61    1.81    3.12   \n",
       "ash            133.0    2.367744    0.266693    1.36    2.20    2.36    2.56   \n",
       "alk_ash        133.0   19.701504    3.366389   10.60   17.20   20.00   21.50   \n",
       "magnesium      133.0  100.000000   14.982313   70.00   88.00   98.00  108.00   \n",
       "total_phenols  133.0    2.282481    0.630004    0.98    1.70    2.40    2.80   \n",
       "flavanoids     133.0    1.993383    0.958150    0.34    1.22    2.14    2.78   \n",
       "nonfl_phen     133.0    0.361429    0.118534    0.13    0.27    0.34    0.43   \n",
       "pr_an_cyan     133.0    1.604586    0.585901    0.42    1.25    1.57    1.95   \n",
       "color_int      133.0    5.007820    2.365661    1.28    3.05    4.68    6.25   \n",
       "hue            133.0    0.949744    0.225866    0.48    0.78    0.96    1.09   \n",
       "od280_od315    133.0    2.594737    0.685365    1.27    1.96    2.78    3.14   \n",
       "proline        133.0  747.406015  304.904854  278.00  500.00  675.00  985.00   \n",
       "\n",
       "                   max  \n",
       "alcohol          14.83  \n",
       "malic_acid        5.80  \n",
       "ash               3.22  \n",
       "alk_ash          30.00  \n",
       "magnesium       162.00  \n",
       "total_phenols     3.88  \n",
       "flavanoids        3.74  \n",
       "nonfl_phen        0.63  \n",
       "pr_an_cyan        3.58  \n",
       "color_int        13.00  \n",
       "hue               1.71  \n",
       "od280_od315       3.92  \n",
       "proline        1515.00  "
      ]
     },
     "execution_count": 17,
     "metadata": {},
     "output_type": "execute_result"
    }
   ],
   "source": [
    "X_train.describe().T"
   ]
  },
  {
   "cell_type": "markdown",
   "metadata": {},
   "source": [
    "В целом видим, что необходимости в дополнительной очистке данных нет."
   ]
  },
  {
   "cell_type": "markdown",
   "metadata": {},
   "source": [
    "Вместе с тем для некоторых моделей необходимо выполнить масштабирование данных (в частности, это актуально для линейных моделей и KNN)"
   ]
  },
  {
   "cell_type": "code",
   "execution_count": 18,
   "metadata": {},
   "outputs": [],
   "source": [
    "scaler = StandardScaler()\n",
    "X_train_scaled = pd.DataFrame(scaler.fit_transform(X_train), columns=X_train.columns, index=X_train.index)\n",
    "X_test_scaled = pd.DataFrame(scaler.transform(X_test), columns=X_test.columns, index=X_test.index)"
   ]
  },
  {
   "cell_type": "markdown",
   "metadata": {},
   "source": [
    "# 3. Построение модели"
   ]
  },
  {
   "cell_type": "markdown",
   "metadata": {},
   "source": [
    "В рамках данного проекта будем рассматривать 4 модели: логистическую регрессию, метод опорных векторов, KNN и дерево решений."
   ]
  },
  {
   "cell_type": "markdown",
   "metadata": {},
   "source": [
    "## 3.1 Логистическая регрессия"
   ]
  },
  {
   "cell_type": "markdown",
   "metadata": {},
   "source": [
    "В `scikit-learn` многоклассовая классификация для логистической регрессии реализована через атрибут `multi_class`, который может принимать значения `ovr` (One-versus-rest подход для перехода к совокупности задач бинарной классификации), `multinomial` (прямое решение задачи многоклассовой классификации, где в качестве функции потерь применяется кросс-энтропия).\n",
    "\n",
    "Сравним качество двух соответствующих моделей посредством кросс-валидации. Поскольку есть дисбаланс классов, то задаем атрибут модели `class_weight='balanced'` (устраняет дисбалланс классов путем присвоения классам весов, обратно пропорциональных долям этих классов), а в качестве метрики возьмем `f1_weighted`, то есть взвешенную метрику f1. Для разбиения по кросс-валидации выбираем опцию `StratifiedKFold()`, поскольку она позволяет сохранить баланс классов в фолдах"
   ]
  },
  {
   "cell_type": "code",
   "execution_count": 19,
   "metadata": {},
   "outputs": [
    {
     "name": "stdout",
     "output_type": "stream",
     "text": [
      "[CV] END .................................................... total time=   0.0s\n",
      "[CV] END .................................................... total time=   0.0s\n",
      "[CV] END .................................................... total time=   0.0s\n",
      "[CV] END .................................................... total time=   0.0s\n",
      "[CV] END .................................................... total time=   0.0s\n"
     ]
    },
    {
     "data": {
      "text/plain": [
       "0.9772812372812373"
      ]
     },
     "execution_count": 19,
     "metadata": {},
     "output_type": "execute_result"
    }
   ],
   "source": [
    "cross_val_score(LogisticRegression(multi_class='ovr', class_weight='balanced'), \n",
    "                X_train_scaled, y_train, cv=StratifiedKFold(n_splits=5), scoring='f1_weighted', verbose=2).mean()"
   ]
  },
  {
   "cell_type": "code",
   "execution_count": 20,
   "metadata": {},
   "outputs": [
    {
     "name": "stdout",
     "output_type": "stream",
     "text": [
      "[CV] END .................................................... total time=   0.0s\n",
      "[CV] END .................................................... total time=   0.0s\n",
      "[CV] END .................................................... total time=   0.0s\n",
      "[CV] END .................................................... total time=   0.0s\n",
      "[CV] END .................................................... total time=   0.0s\n"
     ]
    },
    {
     "data": {
      "text/plain": [
       "0.9772812372812373"
      ]
     },
     "execution_count": 20,
     "metadata": {},
     "output_type": "execute_result"
    }
   ],
   "source": [
    "cross_val_score(LogisticRegression(multi_class='multinomial', class_weight='balanced'), \n",
    "                X_train_scaled, y_train, cv=StratifiedKFold(n_splits=5), scoring='f1_weighted', verbose=2).mean()"
   ]
  },
  {
   "cell_type": "markdown",
   "metadata": {},
   "source": [
    " Выполним подбор коэффициента регуляризации `С` с помощью `GridSearchCV`"
   ]
  },
  {
   "cell_type": "code",
   "execution_count": 21,
   "metadata": {},
   "outputs": [
    {
     "name": "stdout",
     "output_type": "stream",
     "text": [
      "0.9773041704311055\n",
      "{'C': 0.060000000000000005}\n"
     ]
    }
   ],
   "source": [
    "params = {'C' : np.arange(0.01, 1, 0.05)} \n",
    "\n",
    "gs_logreg = GridSearchCV(LogisticRegression(multi_class='ovr', class_weight='balanced'), \n",
    "                         params, cv=StratifiedKFold(n_splits=5), scoring='f1_weighted')\n",
    "\n",
    "gs_logreg.fit(X_train_scaled, y_train)\n",
    "\n",
    "print(gs_logreg.best_score_) \n",
    "print(gs_logreg.best_params_) "
   ]
  },
  {
   "cell_type": "markdown",
   "metadata": {},
   "source": [
    "Значение целевой метрики чуть улучшилось\n",
    "\n",
    "Возьмем в качестве конечной модели - лучшую модель, обученную при GridSearchCV. Посчитаем для нее значение целевой метрики на тестовой выборке"
   ]
  },
  {
   "cell_type": "code",
   "execution_count": 22,
   "metadata": {},
   "outputs": [
    {
     "data": {
      "text/html": [
       "<style>#sk-container-id-1 {color: black;}#sk-container-id-1 pre{padding: 0;}#sk-container-id-1 div.sk-toggleable {background-color: white;}#sk-container-id-1 label.sk-toggleable__label {cursor: pointer;display: block;width: 100%;margin-bottom: 0;padding: 0.3em;box-sizing: border-box;text-align: center;}#sk-container-id-1 label.sk-toggleable__label-arrow:before {content: \"▸\";float: left;margin-right: 0.25em;color: #696969;}#sk-container-id-1 label.sk-toggleable__label-arrow:hover:before {color: black;}#sk-container-id-1 div.sk-estimator:hover label.sk-toggleable__label-arrow:before {color: black;}#sk-container-id-1 div.sk-toggleable__content {max-height: 0;max-width: 0;overflow: hidden;text-align: left;background-color: #f0f8ff;}#sk-container-id-1 div.sk-toggleable__content pre {margin: 0.2em;color: black;border-radius: 0.25em;background-color: #f0f8ff;}#sk-container-id-1 input.sk-toggleable__control:checked~div.sk-toggleable__content {max-height: 200px;max-width: 100%;overflow: auto;}#sk-container-id-1 input.sk-toggleable__control:checked~label.sk-toggleable__label-arrow:before {content: \"▾\";}#sk-container-id-1 div.sk-estimator input.sk-toggleable__control:checked~label.sk-toggleable__label {background-color: #d4ebff;}#sk-container-id-1 div.sk-label input.sk-toggleable__control:checked~label.sk-toggleable__label {background-color: #d4ebff;}#sk-container-id-1 input.sk-hidden--visually {border: 0;clip: rect(1px 1px 1px 1px);clip: rect(1px, 1px, 1px, 1px);height: 1px;margin: -1px;overflow: hidden;padding: 0;position: absolute;width: 1px;}#sk-container-id-1 div.sk-estimator {font-family: monospace;background-color: #f0f8ff;border: 1px dotted black;border-radius: 0.25em;box-sizing: border-box;margin-bottom: 0.5em;}#sk-container-id-1 div.sk-estimator:hover {background-color: #d4ebff;}#sk-container-id-1 div.sk-parallel-item::after {content: \"\";width: 100%;border-bottom: 1px solid gray;flex-grow: 1;}#sk-container-id-1 div.sk-label:hover label.sk-toggleable__label {background-color: #d4ebff;}#sk-container-id-1 div.sk-serial::before {content: \"\";position: absolute;border-left: 1px solid gray;box-sizing: border-box;top: 0;bottom: 0;left: 50%;z-index: 0;}#sk-container-id-1 div.sk-serial {display: flex;flex-direction: column;align-items: center;background-color: white;padding-right: 0.2em;padding-left: 0.2em;position: relative;}#sk-container-id-1 div.sk-item {position: relative;z-index: 1;}#sk-container-id-1 div.sk-parallel {display: flex;align-items: stretch;justify-content: center;background-color: white;position: relative;}#sk-container-id-1 div.sk-item::before, #sk-container-id-1 div.sk-parallel-item::before {content: \"\";position: absolute;border-left: 1px solid gray;box-sizing: border-box;top: 0;bottom: 0;left: 50%;z-index: -1;}#sk-container-id-1 div.sk-parallel-item {display: flex;flex-direction: column;z-index: 1;position: relative;background-color: white;}#sk-container-id-1 div.sk-parallel-item:first-child::after {align-self: flex-end;width: 50%;}#sk-container-id-1 div.sk-parallel-item:last-child::after {align-self: flex-start;width: 50%;}#sk-container-id-1 div.sk-parallel-item:only-child::after {width: 0;}#sk-container-id-1 div.sk-dashed-wrapped {border: 1px dashed gray;margin: 0 0.4em 0.5em 0.4em;box-sizing: border-box;padding-bottom: 0.4em;background-color: white;}#sk-container-id-1 div.sk-label label {font-family: monospace;font-weight: bold;display: inline-block;line-height: 1.2em;}#sk-container-id-1 div.sk-label-container {text-align: center;}#sk-container-id-1 div.sk-container {/* jupyter's `normalize.less` sets `[hidden] { display: none; }` but bootstrap.min.css set `[hidden] { display: none !important; }` so we also need the `!important` here to be able to override the default hidden behavior on the sphinx rendered scikit-learn.org. See: https://github.com/scikit-learn/scikit-learn/issues/21755 */display: inline-block !important;position: relative;}#sk-container-id-1 div.sk-text-repr-fallback {display: none;}</style><div id=\"sk-container-id-1\" class=\"sk-top-container\"><div class=\"sk-text-repr-fallback\"><pre>LogisticRegression(C=0.060000000000000005, class_weight=&#x27;balanced&#x27;,\n",
       "                   multi_class=&#x27;ovr&#x27;)</pre><b>In a Jupyter environment, please rerun this cell to show the HTML representation or trust the notebook. <br />On GitHub, the HTML representation is unable to render, please try loading this page with nbviewer.org.</b></div><div class=\"sk-container\" hidden><div class=\"sk-item\"><div class=\"sk-estimator sk-toggleable\"><input class=\"sk-toggleable__control sk-hidden--visually\" id=\"sk-estimator-id-1\" type=\"checkbox\" checked><label for=\"sk-estimator-id-1\" class=\"sk-toggleable__label sk-toggleable__label-arrow\">LogisticRegression</label><div class=\"sk-toggleable__content\"><pre>LogisticRegression(C=0.060000000000000005, class_weight=&#x27;balanced&#x27;,\n",
       "                   multi_class=&#x27;ovr&#x27;)</pre></div></div></div></div></div>"
      ],
      "text/plain": [
       "LogisticRegression(C=0.060000000000000005, class_weight='balanced',\n",
       "                   multi_class='ovr')"
      ]
     },
     "execution_count": 22,
     "metadata": {},
     "output_type": "execute_result"
    }
   ],
   "source": [
    "log_reg_model = gs_logreg.best_estimator_\n",
    "log_reg_model"
   ]
  },
  {
   "cell_type": "code",
   "execution_count": 23,
   "metadata": {},
   "outputs": [
    {
     "name": "stdout",
     "output_type": "stream",
     "text": [
      "1.0\n"
     ]
    }
   ],
   "source": [
    "pred_logreg = log_reg_model.predict(X_test_scaled)\n",
    "\n",
    "f1_weighted_logreg = f1_score(y_test, pred_logreg, average='weighted')\n",
    "print(f1_weighted_logreg)"
   ]
  },
  {
   "cell_type": "markdown",
   "metadata": {},
   "source": [
    "Отличный результат! Но посмотрим, как сработают на данной задаче другие модели"
   ]
  },
  {
   "cell_type": "markdown",
   "metadata": {},
   "source": [
    "## 3.2 Метод опорных векторов (SVM)"
   ]
  },
  {
   "cell_type": "markdown",
   "metadata": {},
   "source": [
    "Метод опорных векторов работает достаточно медленно. Подключим библиотеку `sklearn intelex` для ускорения обучения SVM (в некоторых источниках говорят, что позволяет ускорить работу метода в 600 раз)"
   ]
  },
  {
   "cell_type": "code",
   "execution_count": 24,
   "metadata": {},
   "outputs": [],
   "source": [
    "# %%capture\n",
    "# !pip install --upgrade scikit-learn-intelex"
   ]
  },
  {
   "cell_type": "code",
   "execution_count": 25,
   "metadata": {},
   "outputs": [
    {
     "name": "stderr",
     "output_type": "stream",
     "text": [
      "Intel(R) Extension for Scikit-learn* enabled (https://github.com/intel/scikit-learn-intelex)\n"
     ]
    }
   ],
   "source": [
    "from sklearnex import patch_sklearn\n",
    "patch_sklearn()"
   ]
  },
  {
   "cell_type": "code",
   "execution_count": 26,
   "metadata": {},
   "outputs": [],
   "source": [
    "import sys\n",
    "import os\n",
    "import site\n",
    "\n",
    "sys.path.append(os.path.join(os.path.dirname(site.getsitepackages()[0]), \"site-packages\"))"
   ]
  },
  {
   "cell_type": "markdown",
   "metadata": {},
   "source": [
    "В `scikit-learn` метод опорных векторов для классификации реализован через класс `SVM`, в котором нет атрибута `multi_class` или его аналога. Вместе с тем метод опорных векторов можно использовать и для многоклассовой классификации, если обернуть его в один из классов `OneVsRestClassifier` или `OneVsOneClassifier` из `sklearn.multiclass`.\n",
    "Проверим на кросс-валидации, какой из подходов one-vs-rest или one-vs-one будет работать лучше, с параметрами метода опорных векторов по умолчанию. Заодно засечем время обучения модели"
   ]
  },
  {
   "cell_type": "code",
   "execution_count": 27,
   "metadata": {},
   "outputs": [
    {
     "name": "stdout",
     "output_type": "stream",
     "text": [
      "[CV] END .................................................... total time=   0.0s\n",
      "[CV] END .................................................... total time=   0.0s\n",
      "[CV] END .................................................... total time=   0.0s\n",
      "[CV] END .................................................... total time=   0.0s\n",
      "[CV] END .................................................... total time=   0.0s\n",
      "CPU times: total: 78.1 ms\n",
      "Wall time: 69.6 ms\n"
     ]
    },
    {
     "data": {
      "text/plain": [
       "0.9923809523809524"
      ]
     },
     "execution_count": 27,
     "metadata": {},
     "output_type": "execute_result"
    }
   ],
   "source": [
    "%%time\n",
    "\n",
    "cross_val_score(OneVsRestClassifier(SVC(class_weight='balanced')), X_train_scaled, y_train, \n",
    "                cv=StratifiedKFold(n_splits=5), scoring='f1_weighted', verbose=2).mean()"
   ]
  },
  {
   "cell_type": "code",
   "execution_count": 28,
   "metadata": {},
   "outputs": [
    {
     "name": "stdout",
     "output_type": "stream",
     "text": [
      "[CV] END .................................................... total time=   0.0s\n",
      "[CV] END .................................................... total time=   0.0s\n",
      "[CV] END .................................................... total time=   0.0s\n",
      "[CV] END .................................................... total time=   0.0s\n",
      "[CV] END .................................................... total time=   0.0s\n",
      "CPU times: total: 62.5 ms\n",
      "Wall time: 52.6 ms\n"
     ]
    },
    {
     "data": {
      "text/plain": [
       "0.9923809523809524"
      ]
     },
     "execution_count": 28,
     "metadata": {},
     "output_type": "execute_result"
    }
   ],
   "source": [
    "%%time\n",
    "\n",
    "cross_val_score(OneVsOneClassifier(SVC(class_weight='balanced')), X_train_scaled, y_train, \n",
    "                cv=StratifiedKFold(n_splits=5), scoring='f1_weighted', verbose=2).mean()"
   ]
  },
  {
   "cell_type": "markdown",
   "metadata": {},
   "source": [
    "Поскольку у нас небольшой датасет, модель обучилась очень быстро. И значение целевой метрики очень высокое. Разницы между тем, какой подход one-vs-rest или one-vs-one применять нет, но это достаточно ожидаемо: one-vs-rest хуже работает при большом датасете, а one-vs-one - при большом количестве классов. В рассматриваемой задаче датасет достаточно небольшой и количество классов малое."
   ]
  },
  {
   "cell_type": "markdown",
   "metadata": {},
   "source": [
    "Теперь можно подобрать оптимальные параметры, но `GridSearchCV` в данном случае не сработает, т.к. в модели, например, OneVsRestClassifier(SVC()) он будет ожидать атрибуты `OneVsRestClassifier()`, а нам необходимо подобрать параметры для `SVC()`. Сделаем это при помощи перебора в циклах, а расчет целевой метрики будем выполнять по кросс-валидации.\n",
    "\n",
    "Определим наилучшие значения:\n",
    "\n",
    "- ядра ядра из перечня ('rbf','poly','sigmoid','linear')\n",
    "- коэффициента регуляризации из диапазона (0.01 до 5.01 с шагом 0.1)\n",
    "\n",
    "Чтобы удобнее было следить за програссом, обернем итератор внешнего цикла в `tqdm`"
   ]
  },
  {
   "cell_type": "code",
   "execution_count": 29,
   "metadata": {},
   "outputs": [
    {
     "name": "stderr",
     "output_type": "stream",
     "text": [
      "100%|██████████████████████████████████████████████████████████████████████████████████| 50/50 [00:11<00:00,  4.21it/s]"
     ]
    },
    {
     "name": "stdout",
     "output_type": "stream",
     "text": [
      "best_C = 0.31000000000000005\n",
      "best_kernel = linear\n",
      "best_f1_score = 0.9925925925925926\n"
     ]
    },
    {
     "name": "stderr",
     "output_type": "stream",
     "text": [
      "\n"
     ]
    }
   ],
   "source": [
    "kernels = ['rbf', 'poly', 'sigmoid', 'linear']\n",
    "best_f1_w, best_C, best_kernel = 0, 0, 0\n",
    "\n",
    "for C in tqdm(np.arange(0.01, 5.01, 0.1)):\n",
    "    for kernel in kernels:\n",
    "        f1_w = cross_val_score(OneVsRestClassifier(SVC(class_weight='balanced', C=C, kernel=kernel)), \n",
    "                               X_train_scaled, y_train, cv=StratifiedKFold(n_splits=5), scoring='f1_weighted', verbose=1).mean()\n",
    "        if f1_w > best_f1_w:\n",
    "            best_C = C\n",
    "            best_kernel = kernel\n",
    "            best_f1_w = f1_w\n",
    "print(f'best_C = {best_C}\\nbest_kernel = {best_kernel}\\nbest_f1_score = {best_f1_w}')"
   ]
  },
  {
   "cell_type": "markdown",
   "metadata": {},
   "source": [
    "Качество модели немного улучшилось. Обучим модель с найденными лучшими параметрами и найдем предсказание на тестовой выборке"
   ]
  },
  {
   "cell_type": "code",
   "execution_count": 30,
   "metadata": {},
   "outputs": [
    {
     "data": {
      "text/html": [
       "<style>#sk-container-id-2 {color: black;}#sk-container-id-2 pre{padding: 0;}#sk-container-id-2 div.sk-toggleable {background-color: white;}#sk-container-id-2 label.sk-toggleable__label {cursor: pointer;display: block;width: 100%;margin-bottom: 0;padding: 0.3em;box-sizing: border-box;text-align: center;}#sk-container-id-2 label.sk-toggleable__label-arrow:before {content: \"▸\";float: left;margin-right: 0.25em;color: #696969;}#sk-container-id-2 label.sk-toggleable__label-arrow:hover:before {color: black;}#sk-container-id-2 div.sk-estimator:hover label.sk-toggleable__label-arrow:before {color: black;}#sk-container-id-2 div.sk-toggleable__content {max-height: 0;max-width: 0;overflow: hidden;text-align: left;background-color: #f0f8ff;}#sk-container-id-2 div.sk-toggleable__content pre {margin: 0.2em;color: black;border-radius: 0.25em;background-color: #f0f8ff;}#sk-container-id-2 input.sk-toggleable__control:checked~div.sk-toggleable__content {max-height: 200px;max-width: 100%;overflow: auto;}#sk-container-id-2 input.sk-toggleable__control:checked~label.sk-toggleable__label-arrow:before {content: \"▾\";}#sk-container-id-2 div.sk-estimator input.sk-toggleable__control:checked~label.sk-toggleable__label {background-color: #d4ebff;}#sk-container-id-2 div.sk-label input.sk-toggleable__control:checked~label.sk-toggleable__label {background-color: #d4ebff;}#sk-container-id-2 input.sk-hidden--visually {border: 0;clip: rect(1px 1px 1px 1px);clip: rect(1px, 1px, 1px, 1px);height: 1px;margin: -1px;overflow: hidden;padding: 0;position: absolute;width: 1px;}#sk-container-id-2 div.sk-estimator {font-family: monospace;background-color: #f0f8ff;border: 1px dotted black;border-radius: 0.25em;box-sizing: border-box;margin-bottom: 0.5em;}#sk-container-id-2 div.sk-estimator:hover {background-color: #d4ebff;}#sk-container-id-2 div.sk-parallel-item::after {content: \"\";width: 100%;border-bottom: 1px solid gray;flex-grow: 1;}#sk-container-id-2 div.sk-label:hover label.sk-toggleable__label {background-color: #d4ebff;}#sk-container-id-2 div.sk-serial::before {content: \"\";position: absolute;border-left: 1px solid gray;box-sizing: border-box;top: 0;bottom: 0;left: 50%;z-index: 0;}#sk-container-id-2 div.sk-serial {display: flex;flex-direction: column;align-items: center;background-color: white;padding-right: 0.2em;padding-left: 0.2em;position: relative;}#sk-container-id-2 div.sk-item {position: relative;z-index: 1;}#sk-container-id-2 div.sk-parallel {display: flex;align-items: stretch;justify-content: center;background-color: white;position: relative;}#sk-container-id-2 div.sk-item::before, #sk-container-id-2 div.sk-parallel-item::before {content: \"\";position: absolute;border-left: 1px solid gray;box-sizing: border-box;top: 0;bottom: 0;left: 50%;z-index: -1;}#sk-container-id-2 div.sk-parallel-item {display: flex;flex-direction: column;z-index: 1;position: relative;background-color: white;}#sk-container-id-2 div.sk-parallel-item:first-child::after {align-self: flex-end;width: 50%;}#sk-container-id-2 div.sk-parallel-item:last-child::after {align-self: flex-start;width: 50%;}#sk-container-id-2 div.sk-parallel-item:only-child::after {width: 0;}#sk-container-id-2 div.sk-dashed-wrapped {border: 1px dashed gray;margin: 0 0.4em 0.5em 0.4em;box-sizing: border-box;padding-bottom: 0.4em;background-color: white;}#sk-container-id-2 div.sk-label label {font-family: monospace;font-weight: bold;display: inline-block;line-height: 1.2em;}#sk-container-id-2 div.sk-label-container {text-align: center;}#sk-container-id-2 div.sk-container {/* jupyter's `normalize.less` sets `[hidden] { display: none; }` but bootstrap.min.css set `[hidden] { display: none !important; }` so we also need the `!important` here to be able to override the default hidden behavior on the sphinx rendered scikit-learn.org. See: https://github.com/scikit-learn/scikit-learn/issues/21755 */display: inline-block !important;position: relative;}#sk-container-id-2 div.sk-text-repr-fallback {display: none;}</style><div id=\"sk-container-id-2\" class=\"sk-top-container\"><div class=\"sk-text-repr-fallback\"><pre>OneVsRestClassifier(estimator=SVC(C=0.31, class_weight=&#x27;balanced&#x27;,\n",
       "                                  kernel=&#x27;linear&#x27;))</pre><b>In a Jupyter environment, please rerun this cell to show the HTML representation or trust the notebook. <br />On GitHub, the HTML representation is unable to render, please try loading this page with nbviewer.org.</b></div><div class=\"sk-container\" hidden><div class=\"sk-item sk-dashed-wrapped\"><div class=\"sk-label-container\"><div class=\"sk-label sk-toggleable\"><input class=\"sk-toggleable__control sk-hidden--visually\" id=\"sk-estimator-id-2\" type=\"checkbox\" ><label for=\"sk-estimator-id-2\" class=\"sk-toggleable__label sk-toggleable__label-arrow\">OneVsRestClassifier</label><div class=\"sk-toggleable__content\"><pre>OneVsRestClassifier(estimator=SVC(C=0.31, class_weight=&#x27;balanced&#x27;,\n",
       "                                  kernel=&#x27;linear&#x27;))</pre></div></div></div><div class=\"sk-parallel\"><div class=\"sk-parallel-item\"><div class=\"sk-item\"><div class=\"sk-label-container\"><div class=\"sk-label sk-toggleable\"><input class=\"sk-toggleable__control sk-hidden--visually\" id=\"sk-estimator-id-3\" type=\"checkbox\" ><label for=\"sk-estimator-id-3\" class=\"sk-toggleable__label sk-toggleable__label-arrow\">estimator: SVC</label><div class=\"sk-toggleable__content\"><pre>SVC(C=0.31, class_weight=&#x27;balanced&#x27;, kernel=&#x27;linear&#x27;)</pre></div></div></div><div class=\"sk-serial\"><div class=\"sk-item\"><div class=\"sk-estimator sk-toggleable\"><input class=\"sk-toggleable__control sk-hidden--visually\" id=\"sk-estimator-id-4\" type=\"checkbox\" ><label for=\"sk-estimator-id-4\" class=\"sk-toggleable__label sk-toggleable__label-arrow\">SVC</label><div class=\"sk-toggleable__content\"><pre>SVC(C=0.31, class_weight=&#x27;balanced&#x27;, kernel=&#x27;linear&#x27;)</pre></div></div></div></div></div></div></div></div></div></div>"
      ],
      "text/plain": [
       "OneVsRestClassifier(estimator=SVC(C=0.31, class_weight='balanced',\n",
       "                                  kernel='linear'))"
      ]
     },
     "execution_count": 30,
     "metadata": {},
     "output_type": "execute_result"
    }
   ],
   "source": [
    "svm_model = OneVsRestClassifier(SVC(class_weight='balanced', C=0.31, kernel='linear'))\n",
    "svm_model.fit(X_train_scaled, y_train)"
   ]
  },
  {
   "cell_type": "code",
   "execution_count": 31,
   "metadata": {},
   "outputs": [
    {
     "name": "stdout",
     "output_type": "stream",
     "text": [
      "0.955430886707184\n"
     ]
    }
   ],
   "source": [
    "pred_svm = svm_model.predict(X_test_scaled)\n",
    "\n",
    "f1_weighted_svm = f1_score(y_test, pred_svm, average='weighted')\n",
    "print(f1_weighted_svm)"
   ]
  },
  {
   "cell_type": "markdown",
   "metadata": {},
   "source": [
    "Качество построенной модели высокое, но несколько ниже, чем у модели логистической регрессии. Посмотрим, какие классы путает модель"
   ]
  },
  {
   "cell_type": "code",
   "execution_count": 32,
   "metadata": {},
   "outputs": [
    {
     "name": "stdout",
     "output_type": "stream",
     "text": [
      "[[15  0  0]\n",
      " [ 1 17  0]\n",
      " [ 0  1 11]]\n"
     ]
    }
   ],
   "source": [
    "print(confusion_matrix(y_test, pred_svm))"
   ]
  },
  {
   "cell_type": "markdown",
   "metadata": {},
   "source": [
    "Строки - реальные значения классов 0, 1, 2. Столбцы - прогноз. Из второй и третьей строк видим, что на тестовой выборке 1 объект класса 1 был ошибочно отнесен к классу 0, а также 1 объект класса 2 был отнесен к классу 1. То есть в целом модель работает неплохо, но заметно хуже, чем модель логистической регрессии"
   ]
  },
  {
   "cell_type": "markdown",
   "metadata": {},
   "source": [
    "## 3.3 KNN"
   ]
  },
  {
   "cell_type": "markdown",
   "metadata": {
    "id": "wfjxuX1hyOpd"
   },
   "source": [
    "Проверим, какое качество по кросс-валидации на обучающей выборке даст алгоритм KNN с параметрами по умолчанию"
   ]
  },
  {
   "cell_type": "code",
   "execution_count": 33,
   "metadata": {},
   "outputs": [
    {
     "name": "stdout",
     "output_type": "stream",
     "text": [
      "[CV] END .................................................... total time=   0.0s\n",
      "[CV] END .................................................... total time=   0.0s\n",
      "[CV] END .................................................... total time=   0.0s\n",
      "[CV] END .................................................... total time=   0.0s\n",
      "[CV] END .................................................... total time=   0.0s\n"
     ]
    },
    {
     "data": {
      "text/plain": [
       "0.946659433904016"
      ]
     },
     "execution_count": 33,
     "metadata": {},
     "output_type": "execute_result"
    }
   ],
   "source": [
    "cross_val_score(KNeighborsClassifier(), X_train_scaled, y_train, cv=StratifiedKFold(n_splits=5), scoring='f1_weighted', verbose=2).mean()"
   ]
  },
  {
   "cell_type": "markdown",
   "metadata": {
    "id": "BONbGWi1yVIQ"
   },
   "source": [
    "С помощью GridSearchCV подберем оптимальные параметры:\n",
    "-  количество соседей (`n_neighbors`) из диапазона (от 3 до 30 с шагом 1)\n",
    "-  параметр `weights` из `uniform`, `distance`. Таким образом определим, следует ли учитывать в модели веса объектов, рассчитаные на основе расстояния до них"
   ]
  },
  {
   "cell_type": "code",
   "execution_count": 34,
   "metadata": {
    "id": "6nM_wc6iydB-"
   },
   "outputs": [
    {
     "name": "stdout",
     "output_type": "stream",
     "text": [
      "0.9772998022120829\n",
      "{'n_neighbors': 11, 'weights': 'uniform'}\n"
     ]
    }
   ],
   "source": [
    "params = {'n_neighbors' : np.arange(3, 30, 1), 'weights': ['uniform', 'distance']} \n",
    "\n",
    "gs_knn = GridSearchCV(KNeighborsClassifier(), params, cv=StratifiedKFold(n_splits=5), scoring='f1_weighted')\n",
    "\n",
    "gs_knn.fit(X_train_scaled, y_train)\n",
    "\n",
    "print(gs_knn.best_score_) \n",
    "print(gs_knn.best_params_) "
   ]
  },
  {
   "cell_type": "markdown",
   "metadata": {
    "id": "b6mM-XXps5Af"
   },
   "source": [
    "Получаем, что оптимальное количество соседей составляет 11, а веса объектов можно не учитывать и оставить значение данного параметра по умолчанию `uniform`.\n",
    "\n",
    "Возьмем в качестве конечной модели - лучшую модель, обученную при GridSearchCV. Посчитаем для нее значение целевой метрики на тестовой выборке"
   ]
  },
  {
   "cell_type": "code",
   "execution_count": 35,
   "metadata": {
    "id": "6Sn00daNtGWd"
   },
   "outputs": [
    {
     "data": {
      "text/html": [
       "<style>#sk-container-id-3 {color: black;}#sk-container-id-3 pre{padding: 0;}#sk-container-id-3 div.sk-toggleable {background-color: white;}#sk-container-id-3 label.sk-toggleable__label {cursor: pointer;display: block;width: 100%;margin-bottom: 0;padding: 0.3em;box-sizing: border-box;text-align: center;}#sk-container-id-3 label.sk-toggleable__label-arrow:before {content: \"▸\";float: left;margin-right: 0.25em;color: #696969;}#sk-container-id-3 label.sk-toggleable__label-arrow:hover:before {color: black;}#sk-container-id-3 div.sk-estimator:hover label.sk-toggleable__label-arrow:before {color: black;}#sk-container-id-3 div.sk-toggleable__content {max-height: 0;max-width: 0;overflow: hidden;text-align: left;background-color: #f0f8ff;}#sk-container-id-3 div.sk-toggleable__content pre {margin: 0.2em;color: black;border-radius: 0.25em;background-color: #f0f8ff;}#sk-container-id-3 input.sk-toggleable__control:checked~div.sk-toggleable__content {max-height: 200px;max-width: 100%;overflow: auto;}#sk-container-id-3 input.sk-toggleable__control:checked~label.sk-toggleable__label-arrow:before {content: \"▾\";}#sk-container-id-3 div.sk-estimator input.sk-toggleable__control:checked~label.sk-toggleable__label {background-color: #d4ebff;}#sk-container-id-3 div.sk-label input.sk-toggleable__control:checked~label.sk-toggleable__label {background-color: #d4ebff;}#sk-container-id-3 input.sk-hidden--visually {border: 0;clip: rect(1px 1px 1px 1px);clip: rect(1px, 1px, 1px, 1px);height: 1px;margin: -1px;overflow: hidden;padding: 0;position: absolute;width: 1px;}#sk-container-id-3 div.sk-estimator {font-family: monospace;background-color: #f0f8ff;border: 1px dotted black;border-radius: 0.25em;box-sizing: border-box;margin-bottom: 0.5em;}#sk-container-id-3 div.sk-estimator:hover {background-color: #d4ebff;}#sk-container-id-3 div.sk-parallel-item::after {content: \"\";width: 100%;border-bottom: 1px solid gray;flex-grow: 1;}#sk-container-id-3 div.sk-label:hover label.sk-toggleable__label {background-color: #d4ebff;}#sk-container-id-3 div.sk-serial::before {content: \"\";position: absolute;border-left: 1px solid gray;box-sizing: border-box;top: 0;bottom: 0;left: 50%;z-index: 0;}#sk-container-id-3 div.sk-serial {display: flex;flex-direction: column;align-items: center;background-color: white;padding-right: 0.2em;padding-left: 0.2em;position: relative;}#sk-container-id-3 div.sk-item {position: relative;z-index: 1;}#sk-container-id-3 div.sk-parallel {display: flex;align-items: stretch;justify-content: center;background-color: white;position: relative;}#sk-container-id-3 div.sk-item::before, #sk-container-id-3 div.sk-parallel-item::before {content: \"\";position: absolute;border-left: 1px solid gray;box-sizing: border-box;top: 0;bottom: 0;left: 50%;z-index: -1;}#sk-container-id-3 div.sk-parallel-item {display: flex;flex-direction: column;z-index: 1;position: relative;background-color: white;}#sk-container-id-3 div.sk-parallel-item:first-child::after {align-self: flex-end;width: 50%;}#sk-container-id-3 div.sk-parallel-item:last-child::after {align-self: flex-start;width: 50%;}#sk-container-id-3 div.sk-parallel-item:only-child::after {width: 0;}#sk-container-id-3 div.sk-dashed-wrapped {border: 1px dashed gray;margin: 0 0.4em 0.5em 0.4em;box-sizing: border-box;padding-bottom: 0.4em;background-color: white;}#sk-container-id-3 div.sk-label label {font-family: monospace;font-weight: bold;display: inline-block;line-height: 1.2em;}#sk-container-id-3 div.sk-label-container {text-align: center;}#sk-container-id-3 div.sk-container {/* jupyter's `normalize.less` sets `[hidden] { display: none; }` but bootstrap.min.css set `[hidden] { display: none !important; }` so we also need the `!important` here to be able to override the default hidden behavior on the sphinx rendered scikit-learn.org. See: https://github.com/scikit-learn/scikit-learn/issues/21755 */display: inline-block !important;position: relative;}#sk-container-id-3 div.sk-text-repr-fallback {display: none;}</style><div id=\"sk-container-id-3\" class=\"sk-top-container\"><div class=\"sk-text-repr-fallback\"><pre>KNeighborsClassifier(n_neighbors=11)</pre><b>In a Jupyter environment, please rerun this cell to show the HTML representation or trust the notebook. <br />On GitHub, the HTML representation is unable to render, please try loading this page with nbviewer.org.</b></div><div class=\"sk-container\" hidden><div class=\"sk-item\"><div class=\"sk-estimator sk-toggleable\"><input class=\"sk-toggleable__control sk-hidden--visually\" id=\"sk-estimator-id-5\" type=\"checkbox\" checked><label for=\"sk-estimator-id-5\" class=\"sk-toggleable__label sk-toggleable__label-arrow\">KNeighborsClassifier</label><div class=\"sk-toggleable__content\"><pre>KNeighborsClassifier(n_neighbors=11)</pre></div></div></div></div></div>"
      ],
      "text/plain": [
       "KNeighborsClassifier(n_neighbors=11)"
      ]
     },
     "execution_count": 35,
     "metadata": {},
     "output_type": "execute_result"
    }
   ],
   "source": [
    "knn_model = gs_knn.best_estimator_\n",
    "knn_model"
   ]
  },
  {
   "cell_type": "code",
   "execution_count": 36,
   "metadata": {},
   "outputs": [
    {
     "name": "stdout",
     "output_type": "stream",
     "text": [
      "0.9779047619047618\n"
     ]
    }
   ],
   "source": [
    "pred_knn = knn_model.predict(X_test_scaled)\n",
    "\n",
    "f1_weighted_knn = f1_score(y_test, pred_knn, average='weighted')\n",
    "print(f1_weighted_knn)"
   ]
  },
  {
   "cell_type": "markdown",
   "metadata": {},
   "source": [
    "Качество на тестовой выборке лучше, чем у модели, построенной на базе метода опорных векторов, но чуть хуже, чем у модели логистической регрессии"
   ]
  },
  {
   "cell_type": "code",
   "execution_count": 37,
   "metadata": {
    "id": "I5u0A5a0yqge"
   },
   "outputs": [
    {
     "name": "stdout",
     "output_type": "stream",
     "text": [
      "[[15  0  0]\n",
      " [ 0 17  1]\n",
      " [ 0  0 12]]\n"
     ]
    }
   ],
   "source": [
    "print(confusion_matrix(y_test, pred_knn))"
   ]
  },
  {
   "cell_type": "markdown",
   "metadata": {},
   "source": [
    "Строки - реальные значения классов 0, 1, 2. Столбцы - прогноз. Из второй строки видим, что только 1 объект класса 1 был ошибочно отнесен к классу 2. То есть в целом модель работает хорошо.\n",
    "\n",
    "Посмотрим результаты из `classification_report`"
   ]
  },
  {
   "cell_type": "code",
   "execution_count": 38,
   "metadata": {},
   "outputs": [
    {
     "name": "stdout",
     "output_type": "stream",
     "text": [
      "              precision    recall  f1-score   support\n",
      "\n",
      "           0       1.00      1.00      1.00        15\n",
      "           1       1.00      0.94      0.97        18\n",
      "           2       0.92      1.00      0.96        12\n",
      "\n",
      "    accuracy                           0.98        45\n",
      "   macro avg       0.97      0.98      0.98        45\n",
      "weighted avg       0.98      0.98      0.98        45\n",
      "\n"
     ]
    }
   ],
   "source": [
    "print(classification_report(y_test, pred_knn))"
   ]
  },
  {
   "cell_type": "markdown",
   "metadata": {},
   "source": [
    "Из значений `precision` и `recall` видим, что для класса 1 снижено значение `recall` за счет наличия 1 *false negative* значения предсказания, а у класса 2 снижено значение `precision` за счет наличия 1 *false positive* предсказания."
   ]
  },
  {
   "cell_type": "markdown",
   "metadata": {},
   "source": [
    "## 3.4 Дерево решений"
   ]
  },
  {
   "cell_type": "markdown",
   "metadata": {},
   "source": [
    "В рамках данного проекта будем рассматривать простое дерево решений, без композиций\n",
    "\n",
    "Поскольку дерево решений склонно к переобучению, то не будем проверять качество модели с параметрами по умолчанию, а сразу с помощью `GridSearchCV` будем искать оптимальные параметры для модели "
   ]
  },
  {
   "cell_type": "code",
   "execution_count": 39,
   "metadata": {},
   "outputs": [
    {
     "name": "stdout",
     "output_type": "stream",
     "text": [
      "0.9177261229556979\n",
      "{'criterion': 'entropy', 'max_depth': 3, 'min_samples_leaf': 6, 'min_samples_split': 2}\n"
     ]
    }
   ],
   "source": [
    "params = {'max_depth' : np.arange(2,10),\n",
    "          'criterion' : ['gini', 'entropy', 'log_loss'],\n",
    "          'min_samples_split' : np.arange(2,10,1),\n",
    "          'min_samples_leaf': np.arange(2,10,1)}\n",
    "\n",
    "gs_tree = GridSearchCV(DecisionTreeClassifier(class_weight='balanced'), params, cv=StratifiedKFold(n_splits=5), scoring='f1_weighted')\n",
    "\n",
    "gs_tree.fit(X_train_scaled, y_train)\n",
    "\n",
    "print(gs_tree.best_score_) \n",
    "print(gs_tree.best_params_) "
   ]
  },
  {
   "cell_type": "markdown",
   "metadata": {},
   "source": [
    "Качество деревянной модели значительно уступает ранее рассмотренным моделям. Проверим целевую метрику лучшей модели дерева на тестовой выборке"
   ]
  },
  {
   "cell_type": "code",
   "execution_count": 40,
   "metadata": {},
   "outputs": [
    {
     "data": {
      "text/html": [
       "<style>#sk-container-id-4 {color: black;}#sk-container-id-4 pre{padding: 0;}#sk-container-id-4 div.sk-toggleable {background-color: white;}#sk-container-id-4 label.sk-toggleable__label {cursor: pointer;display: block;width: 100%;margin-bottom: 0;padding: 0.3em;box-sizing: border-box;text-align: center;}#sk-container-id-4 label.sk-toggleable__label-arrow:before {content: \"▸\";float: left;margin-right: 0.25em;color: #696969;}#sk-container-id-4 label.sk-toggleable__label-arrow:hover:before {color: black;}#sk-container-id-4 div.sk-estimator:hover label.sk-toggleable__label-arrow:before {color: black;}#sk-container-id-4 div.sk-toggleable__content {max-height: 0;max-width: 0;overflow: hidden;text-align: left;background-color: #f0f8ff;}#sk-container-id-4 div.sk-toggleable__content pre {margin: 0.2em;color: black;border-radius: 0.25em;background-color: #f0f8ff;}#sk-container-id-4 input.sk-toggleable__control:checked~div.sk-toggleable__content {max-height: 200px;max-width: 100%;overflow: auto;}#sk-container-id-4 input.sk-toggleable__control:checked~label.sk-toggleable__label-arrow:before {content: \"▾\";}#sk-container-id-4 div.sk-estimator input.sk-toggleable__control:checked~label.sk-toggleable__label {background-color: #d4ebff;}#sk-container-id-4 div.sk-label input.sk-toggleable__control:checked~label.sk-toggleable__label {background-color: #d4ebff;}#sk-container-id-4 input.sk-hidden--visually {border: 0;clip: rect(1px 1px 1px 1px);clip: rect(1px, 1px, 1px, 1px);height: 1px;margin: -1px;overflow: hidden;padding: 0;position: absolute;width: 1px;}#sk-container-id-4 div.sk-estimator {font-family: monospace;background-color: #f0f8ff;border: 1px dotted black;border-radius: 0.25em;box-sizing: border-box;margin-bottom: 0.5em;}#sk-container-id-4 div.sk-estimator:hover {background-color: #d4ebff;}#sk-container-id-4 div.sk-parallel-item::after {content: \"\";width: 100%;border-bottom: 1px solid gray;flex-grow: 1;}#sk-container-id-4 div.sk-label:hover label.sk-toggleable__label {background-color: #d4ebff;}#sk-container-id-4 div.sk-serial::before {content: \"\";position: absolute;border-left: 1px solid gray;box-sizing: border-box;top: 0;bottom: 0;left: 50%;z-index: 0;}#sk-container-id-4 div.sk-serial {display: flex;flex-direction: column;align-items: center;background-color: white;padding-right: 0.2em;padding-left: 0.2em;position: relative;}#sk-container-id-4 div.sk-item {position: relative;z-index: 1;}#sk-container-id-4 div.sk-parallel {display: flex;align-items: stretch;justify-content: center;background-color: white;position: relative;}#sk-container-id-4 div.sk-item::before, #sk-container-id-4 div.sk-parallel-item::before {content: \"\";position: absolute;border-left: 1px solid gray;box-sizing: border-box;top: 0;bottom: 0;left: 50%;z-index: -1;}#sk-container-id-4 div.sk-parallel-item {display: flex;flex-direction: column;z-index: 1;position: relative;background-color: white;}#sk-container-id-4 div.sk-parallel-item:first-child::after {align-self: flex-end;width: 50%;}#sk-container-id-4 div.sk-parallel-item:last-child::after {align-self: flex-start;width: 50%;}#sk-container-id-4 div.sk-parallel-item:only-child::after {width: 0;}#sk-container-id-4 div.sk-dashed-wrapped {border: 1px dashed gray;margin: 0 0.4em 0.5em 0.4em;box-sizing: border-box;padding-bottom: 0.4em;background-color: white;}#sk-container-id-4 div.sk-label label {font-family: monospace;font-weight: bold;display: inline-block;line-height: 1.2em;}#sk-container-id-4 div.sk-label-container {text-align: center;}#sk-container-id-4 div.sk-container {/* jupyter's `normalize.less` sets `[hidden] { display: none; }` but bootstrap.min.css set `[hidden] { display: none !important; }` so we also need the `!important` here to be able to override the default hidden behavior on the sphinx rendered scikit-learn.org. See: https://github.com/scikit-learn/scikit-learn/issues/21755 */display: inline-block !important;position: relative;}#sk-container-id-4 div.sk-text-repr-fallback {display: none;}</style><div id=\"sk-container-id-4\" class=\"sk-top-container\"><div class=\"sk-text-repr-fallback\"><pre>DecisionTreeClassifier(class_weight=&#x27;balanced&#x27;, criterion=&#x27;entropy&#x27;,\n",
       "                       max_depth=3, min_samples_leaf=6)</pre><b>In a Jupyter environment, please rerun this cell to show the HTML representation or trust the notebook. <br />On GitHub, the HTML representation is unable to render, please try loading this page with nbviewer.org.</b></div><div class=\"sk-container\" hidden><div class=\"sk-item\"><div class=\"sk-estimator sk-toggleable\"><input class=\"sk-toggleable__control sk-hidden--visually\" id=\"sk-estimator-id-6\" type=\"checkbox\" checked><label for=\"sk-estimator-id-6\" class=\"sk-toggleable__label sk-toggleable__label-arrow\">DecisionTreeClassifier</label><div class=\"sk-toggleable__content\"><pre>DecisionTreeClassifier(class_weight=&#x27;balanced&#x27;, criterion=&#x27;entropy&#x27;,\n",
       "                       max_depth=3, min_samples_leaf=6)</pre></div></div></div></div></div>"
      ],
      "text/plain": [
       "DecisionTreeClassifier(class_weight='balanced', criterion='entropy',\n",
       "                       max_depth=3, min_samples_leaf=6)"
      ]
     },
     "execution_count": 40,
     "metadata": {},
     "output_type": "execute_result"
    }
   ],
   "source": [
    "tree_model = gs_tree.best_estimator_\n",
    "tree_model"
   ]
  },
  {
   "cell_type": "code",
   "execution_count": 41,
   "metadata": {},
   "outputs": [
    {
     "name": "stdout",
     "output_type": "stream",
     "text": [
      "0.8868686868686868\n"
     ]
    }
   ],
   "source": [
    "pred_tree = tree_model.predict(X_test_scaled)\n",
    "\n",
    "f1_weighted_tree = f1_score(y_test, pred_tree, average='weighted')\n",
    "print(f1_weighted_tree)"
   ]
  },
  {
   "cell_type": "markdown",
   "metadata": {},
   "source": [
    "В целом нельзя сказать, что дерево переобучилось. Визуализируем построенное дерево"
   ]
  },
  {
   "cell_type": "code",
   "execution_count": 42,
   "metadata": {},
   "outputs": [
    {
     "data": {
      "image/png": "[encoded data removed]",
      "text/plain": [
       "<Figure size 1200x800 with 1 Axes>"
      ]
     },
     "metadata": {},
     "output_type": "display_data"
    }
   ],
   "source": [
    "from sklearn.tree import plot_tree\n",
    "\n",
    "plt.figure(figsize=(12,8))\n",
    "plot_tree(tree_model) \n",
    "None"
   ]
  },
  {
   "cell_type": "markdown",
   "metadata": {},
   "source": [
    "Как видно из представленной визуализации, полученное дерево решений достаточно компактное, возможностей для его дальнейшего улучшения (например, прунингом) не просматривается.\n",
    "Посмотрим, на каких классах ошибается модель"
   ]
  },
  {
   "cell_type": "code",
   "execution_count": 43,
   "metadata": {},
   "outputs": [
    {
     "name": "stdout",
     "output_type": "stream",
     "text": [
      "[[15  0  0]\n",
      " [ 3 14  1]\n",
      " [ 0  1 11]]\n"
     ]
    }
   ],
   "source": [
    "print(confusion_matrix(y_test, pred_tree))"
   ]
  },
  {
   "cell_type": "markdown",
   "metadata": {},
   "source": [
    "Модель определяет объекты 0-го класса безошибочно. Хуже всего она отличает объекты класса 1. Возможно, улучшить ситуацию позволил бы подбор весовых коэффициентов для классов с помощью `GridSearchCV`. Композиции деревьев также показали бы лучший результат, чем отдельное дерево, но не будем их рассматривать, принимая во внимание что в рамках данного проекта уже получена модель с максимально возможным значением целевой метрики (логистическая регрессия)."
   ]
  },
  {
   "cell_type": "markdown",
   "metadata": {},
   "source": [
    "# Выводы"
   ]
  },
  {
   "cell_type": "markdown",
   "metadata": {},
   "source": [
    "В рамках данного проекта был рассмотрен датасет с характеристиками вина `load_wine` из библиотеки `sklearn.datasets`."
   ]
  },
  {
   "cell_type": "markdown",
   "metadata": {},
   "source": [
    "Выполненный анализ датасета (EDA) показ, что наибольшая корреляция имеет место для признаков `total_phenols` и `flavanoids`. Но принимая во внимание, что коэффициент корреляции ниже 0.9 принято решение оставить для дальнейшей обработки все признаки. Выбросов в данных также не обнаружено. Выполнена стандартизация датасета."
   ]
  },
  {
   "cell_type": "markdown",
   "metadata": {},
   "source": [
    "Установлено, что рассматриваемая задача определения класса вида относится к многоклассовой классификации. Целевая переменная представлена 3 классами (0, 1, 2). Отмечено наличие дисбаланса классов. Поэтому в качестве целевой метрики принята метрика `f1_weighted` (взвешенный f1-score)."
   ]
  },
  {
   "cell_type": "markdown",
   "metadata": {},
   "source": [
    "Построена модель логистической регрессии. По кроссвалидации показано, что в рассматриваемой задаче применение подходов one-versus-rest и one-versus-one для перехода к бинарной классификации равнозначно, т.к. не дает прироста целевой метрики. На основании перебора по кроссвалидации (с применением `GridSearchCV`) получено оптимальное значение коэффициента регуляризации С=0.06. `f1_weighted` для построенной модели на тестовой выборке составил 1.\n",
    "\n",
    "Построена модель многоклассовой классификации на основе метода опорных векторов. Принимая во внимание, что в `scikit-learn` метод опорных векторов для классификации реализован через класс `SVM`, в котором нет атрибута `multi_class` или его аналога, была создана комплексная модель `OneVsRestClassifier(SVC())`. Поскольку в данном случае применнение `GridSearchCV` к модели `SVC()` невозможно, подбор по кросс-валидации параметров для созданной модели был реализован в явном виде. В результате в качестве оптимальной принята модель с линейным ядром и коэффициентом регуляризации `C=0.31`. Целевая метрика `f1_weighted` для построенной модели на тестовой выборке составила 0,96. Более детальный анализ показал, что модель неверно классифицировала по 1 объекту из класса 1 и класса 2. Объекты класса 0 тестовой выборки были классифицированы безошибочно.\n",
    "\n",
    "Построена модель многоклассовой классификации на основе алгоритма KNN. Перебором по кросс-валидации получено оптимальное количество соседей `n_neighbors=11`, а также метод определения весовых коэффициентов для соседей. Целевая метрика `f1_weighted` для построенной модели на тестовой выборке составила 0,98. Более детальный анализ показал, что модель неверно классифицировала только 1 объект класса 1 (ошибочно отнесен к классу 2). То есть в целом модель работает хорошо."
   ]
  },
  {
   "cell_type": "markdown",
   "metadata": {},
   "source": [
    "Построена модель классификации на основе дерева решений и выполнен подбор оптимальных параметров. Наибольшее значение метрики `f1_weighted`, которое было достигнуто на тестовой выборке для данной модели составило 0.89, что существенно хуже, чем у ранее рассмотренных моделей. Модель безошибочно классифицировала объекты класса 0, но сравнительно плохо определяла объекты класса 1 (true positive = 14, false negative = 4). Модель может быть улучшена путем подбора оптимальных весовых коэффициентов для классов, а также переходом к композициям деревьев. Вместе с тем обучение дерева занимает больше времени, чем логистической регрессии."
   ]
  },
  {
   "cell_type": "markdown",
   "metadata": {},
   "source": [
    "Таким образом, **в качестве окончательной модели принята модель, построенная на основе логистической регрессии с коэффициентом регуляризации С=0.06, автоматической балансировкой данных (class_weight='balanced') и one-versus-rest подходом для учета многоклассовой постановки задачи (multi_class='ovr'), безошибочно классифицировавшая все объекты тестовой выборки**."
   ]
  },
  {
   "cell_type": "markdown",
   "metadata": {},
   "source": [
    "### Дополнительные источники:\n",
    "Хорошая статья по работе с дисбалансом классов https://www.analyticsvidhya.com/blog/2020/10/improve-class-imbalance-class-weights/ "
   ]
  }
 ],
 "metadata": {
  "colab": {
   "provenance": []
  },
  "kernelspec": {
   "display_name": "Python 3 (ipykernel)",
   "language": "python",
   "name": "python3"
  },
  "language_info": {
   "codemirror_mode": {
    "name": "ipython",
    "version": 3
   },
   "file_extension": ".py",
   "mimetype": "text/x-python",
   "name": "python",
   "nbconvert_exporter": "python",
   "pygments_lexer": "ipython3",
   "version": "3.10.11"
  }
 },
 "nbformat": 4,
 "nbformat_minor": 4
}
