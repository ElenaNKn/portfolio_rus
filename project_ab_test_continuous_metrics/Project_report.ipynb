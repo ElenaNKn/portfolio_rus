{
 "cells": [
  {
   "cell_type": "markdown",
   "id": "96ac1922",
   "metadata": {
    "id": "96ac1922"
   },
   "source": [
    "# Отчет. Aнализ результатов A/B - теста для непрерывной метрики"
   ]
  },
  {
   "cell_type": "code",
   "execution_count": 1,
   "id": "2Pr7yJDCYMF2",
   "metadata": {
    "id": "2Pr7yJDCYMF2"
   },
   "outputs": [],
   "source": [
    "# необходимые импорты\n",
    "\n",
    "import pandas as pd\n",
    "from scipy.stats import norm\n",
    "from scipy.stats import ttest_ind"
   ]
  },
  {
   "cell_type": "markdown",
   "id": "667e0ea0",
   "metadata": {},
   "source": [
    "###  1.  Определение целевой метрики"
   ]
  },
  {
   "cell_type": "markdown",
   "id": "ix0XkMINnrKh",
   "metadata": {
    "id": "ix0XkMINnrKh"
   },
   "source": [
    "Согласно условию проекта, целью проводимого теста\n",
    "является снижение расходов на задание. На основании этого в качестве целевой выбираем метрику \"Расходы\" (и соответствующую графу датасета)."
   ]
  },
  {
   "cell_type": "markdown",
   "id": "b644cd0a",
   "metadata": {
    "id": "b644cd0a"
   },
   "source": [
    "### 2. Альтернатива в критерии."
   ]
  },
  {
   "cell_type": "markdown",
   "id": "M7UR29Q8ol2J",
   "metadata": {
    "id": "M7UR29Q8ol2J"
   },
   "source": [
    "Обозначим:\n",
    "f1 - тестовая выборка; f2 - контрольная выборка\n",
    "\n",
    "Нулевая гипотеза Н0: m1 >= m2 (то есть внедрение предлагаемой системы не окажет статистически значимого влияния на среднюю величину расходов либо увеличит ее)\n",
    "\n",
    "Альтернатива Н1: m1 < m2 (внедрение предлагаемой системы приведет к снижению средней величины расходов)\n",
    "\n",
    "Рассматриваем одностороннюю альтернативу, так как согласно условию проекта цель теста состоит в том, чтобы установить факт именно снижения расходов на задание."
   ]
  },
  {
   "cell_type": "markdown",
   "id": "727aefc4",
   "metadata": {
    "id": "727aefc4"
   },
   "source": [
    "### 3. Расчет размера выборки"
   ]
  },
  {
   "cell_type": "markdown",
   "id": "wlZYd5yr800q",
   "metadata": {
    "id": "wlZYd5yr800q"
   },
   "source": [
    "Размер выборки, с учетом того, что рассматриваем одностороннюю альтернативу, считаем по формуле\n",
    "\n",
    "$$ n = m = \\frac{2 \\sigma^2 (z_{1-\\alpha} - z_{\\beta})^2}{d^2} $$\n"
   ]
  },
  {
   "cell_type": "code",
   "execution_count": 2,
   "id": "fYijOurfjLNp",
   "metadata": {
    "colab": {
     "base_uri": "https://localhost:8080/"
    },
    "id": "fYijOurfjLNp",
    "outputId": "4e399c0c-1ef4-47b3-f25a-97cde2550a73"
   },
   "outputs": [
    {
     "name": "stdout",
     "output_type": "stream",
     "text": [
      "Минимальный размер выборки = 22530.66649491306\n"
     ]
    }
   ],
   "source": [
    "alpha = 0.05  # уровень значимости\n",
    "z_alpha = norm.ppf(1 - alpha)\n",
    "betta = 0.1   # по условию Мы хотели бы различать 5%-ное изменение целевой метрики с вероятностью 90%, т.е. 1-betta = 90/100\n",
    "z_betta = norm.ppf(betta)\n",
    "\n",
    "# параметры sigma и d считаем на основе исторических данных. поэтому импортируем их\n",
    "df = pd.read_csv('hist_telesales.csv', header=0, sep=',')\n",
    "\n",
    "d = 0.05 * df.Расходы.values.mean()   # равно mde, которое согласно вышеприведенному условию равно 5% от выборочного среднего целевой метрики\n",
    "sigma = df.Расходы.values.std()   # выборочная дисперсия целевой метрики (из исторических данных)\n",
    "n = 2 * (sigma**2) * ((z_alpha - z_betta)**2) / (d**2)\n",
    "print(f'Минимальный размер выборки = {n}')"
   ]
  },
  {
   "cell_type": "markdown",
   "id": "wX2fSD81EDKn",
   "metadata": {
    "id": "wX2fSD81EDKn"
   },
   "source": [
    "Принимаем размер выборки N = 22531. Именно такого размера выборки содержатся в тестовых и контрольных данных (файлы \"Test.csv\" и \"Control.csv\")"
   ]
  },
  {
   "cell_type": "markdown",
   "id": "22e2d9b0",
   "metadata": {
    "id": "22e2d9b0"
   },
   "source": [
    "### 4. Принятие решения."
   ]
  },
  {
   "cell_type": "code",
   "execution_count": 3,
   "id": "C9NO-_o3jON1",
   "metadata": {
    "id": "C9NO-_o3jON1"
   },
   "outputs": [],
   "source": [
    "# считываем данные теста и контроля\n",
    "\n",
    "df_test = pd.read_csv('test.csv', header=0, sep=',')\n",
    "df_control = pd.read_csv('control.csv', header=0, sep=',')\n",
    "\n",
    "cost_test = df_test.Расходы.values\n",
    "cost_control = df_control.Расходы.values"
   ]
  },
  {
   "cell_type": "markdown",
   "id": "amkwNL-Mqwcc",
   "metadata": {
    "id": "amkwNL-Mqwcc"
   },
   "source": [
    "Поскольку в рассматриваемой задаче мы проверяем гомогенность выборок по среднему, а дисперсии могут быть получены из данных выборок,\n",
    "то в качестве критерия используем t-test.\n",
    "\n",
    "Так как рассматриваем одностороннюю альтернативу, при которой среднее на тесте будет меньше чем среднее на контроле,\n",
    "задаем параметр alternative='less'.\n",
    "\n",
    "Устанавливаем параметр equal_var=False, так как дисперсии целевой метрики на тесте и контроле не равны.\n",
    "\n",
    "В результате расчитываем статистику критерия и p-значение."
   ]
  },
  {
   "cell_type": "code",
   "execution_count": 4,
   "id": "rmevNHhVqvTT",
   "metadata": {
    "colab": {
     "base_uri": "https://localhost:8080/"
    },
    "id": "rmevNHhVqvTT",
    "outputId": "0d2ae3c5-dfe7-42c4-9b4d-7fcd4c1125c1"
   },
   "outputs": [
    {
     "name": "stdout",
     "output_type": "stream",
     "text": [
      "Результаты расчета критерия: TtestResult(statistic=-2.30419387283739, pvalue=0.010608149523869117, df=44958.93566915675)\n"
     ]
    }
   ],
   "source": [
    "results = ttest_ind(cost_test, cost_control, equal_var=False, alternative='less')\n",
    "print(f'Результаты расчета критерия: {results}')"
   ]
  },
  {
   "cell_type": "markdown",
   "id": "y90foV-69HJG",
   "metadata": {
    "id": "y90foV-69HJG"
   },
   "source": [
    "В рассматриваемом случае величина p-значения для тестовой и контрольной выборок оказалась вне диапазона \\\\( [\\alpha, +\\infty] \\\\) (для рассматриваемой задачи уровень значимости \\\\(\\alpha = 0,05 \\\\)). Это является основнием для того, чтобы отвергнуть нулевую гиппотезу и принять альтернативную гиппотезу о том, что внедрение ситемы дозвона приведет к снижению расходов."
   ]
  },
  {
   "cell_type": "code",
   "execution_count": null,
   "id": "074af470",
   "metadata": {},
   "outputs": [],
   "source": []
  }
 ],
 "metadata": {
  "colab": {
   "provenance": []
  },
  "kernelspec": {
   "display_name": "Python 3 (ipykernel)",
   "language": "python",
   "name": "python3"
  },
  "language_info": {
   "codemirror_mode": {
    "name": "ipython",
    "version": 3
   },
   "file_extension": ".py",
   "mimetype": "text/x-python",
   "name": "python",
   "nbconvert_exporter": "python",
   "pygments_lexer": "ipython3",
   "version": "3.10.9"
  }
 },
 "nbformat": 4,
 "nbformat_minor": 5
}
