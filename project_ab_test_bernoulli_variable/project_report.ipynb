{
 "cells": [
  {
   "cell_type": "markdown",
   "id": "96ac1922",
   "metadata": {
    "id": "96ac1922"
   },
   "source": [
    "# Отчет. Aнализ результатов A/B - теста для величины, имеющей распределение Бернулли"
   ]
  },
  {
   "cell_type": "code",
   "execution_count": 1,
   "id": "2Pr7yJDCYMF2",
   "metadata": {
    "id": "2Pr7yJDCYMF2"
   },
   "outputs": [],
   "source": [
    "# необходимые импорты\n",
    "\n",
    "import pandas as pd\n",
    "from scipy.stats import norm\n",
    "from scipy.stats import pointbiserialr\n",
    "from scipy.stats import anderson_ksamp\n",
    "from scipy.stats import ks_2samp\n",
    "from statsmodels.stats.proportion import proportions_ztest"
   ]
  },
  {
   "cell_type": "markdown",
   "id": "0dd4c840",
   "metadata": {
    "id": "0dd4c840"
   },
   "source": [
    "### 1. Определение целевой метрики."
   ]
  },
  {
   "cell_type": "markdown",
   "id": "6D7H1hRQ0GRv",
   "metadata": {
    "id": "6D7H1hRQ0GRv"
   },
   "source": [
    "Согласно условию проекта целью проводимого теста\n",
    "является установление влияния нового процесса авторизации на частоту утилизаций счёта. Поэтому в качестве целевой метрики выберем утилизации счёта (в исторических данных они представлены столбцом \"**Флаг утилизации счёта**\").\n",
    "\n",
    "Данная метрика имеет распределение Бернулли.\n",
    "\n",
    "В качестве агрегирующей оценки целевой метрики будем использовать конверсию в утилизации счета (отношение количества утилизированных счетов к общему количеству счетов). Обозначим данную оценку как **conv**. Рассчитаем ее величину для исторических данных, то есть найдем **base_conv**, от которой далее будем отталкиваться при планировании эксперимента"
   ]
  },
  {
   "cell_type": "code",
   "execution_count": 2,
   "id": "urevEkuj9xAZ",
   "metadata": {
    "colab": {
     "base_uri": "https://localhost:8080/",
     "height": 206
    },
    "id": "urevEkuj9xAZ",
    "outputId": "d1e91e40-8f57-4335-ecaa-d0789eb689c7"
   },
   "outputs": [
    {
     "data": {
      "text/html": [
       "<div>\n",
       "<style scoped>\n",
       "    .dataframe tbody tr th:only-of-type {\n",
       "        vertical-align: middle;\n",
       "    }\n",
       "\n",
       "    .dataframe tbody tr th {\n",
       "        vertical-align: top;\n",
       "    }\n",
       "\n",
       "    .dataframe thead th {\n",
       "        text-align: right;\n",
       "    }\n",
       "</style>\n",
       "<table border=\"1\" class=\"dataframe\">\n",
       "  <thead>\n",
       "    <tr style=\"text-align: right;\">\n",
       "      <th></th>\n",
       "      <th>ID</th>\n",
       "      <th>Возраст</th>\n",
       "      <th>Доход клиента</th>\n",
       "      <th>Вероятность банкротства</th>\n",
       "      <th>Флаг утилизации счёта</th>\n",
       "      <th>Расходы</th>\n",
       "      <th>PV КК</th>\n",
       "      <th>PV услуги</th>\n",
       "      <th>NPV</th>\n",
       "    </tr>\n",
       "  </thead>\n",
       "  <tbody>\n",
       "    <tr>\n",
       "      <th>0</th>\n",
       "      <td>0</td>\n",
       "      <td>19</td>\n",
       "      <td>21620.835463</td>\n",
       "      <td>0.138061</td>\n",
       "      <td>0</td>\n",
       "      <td>102</td>\n",
       "      <td>0</td>\n",
       "      <td>0</td>\n",
       "      <td>-102</td>\n",
       "    </tr>\n",
       "    <tr>\n",
       "      <th>1</th>\n",
       "      <td>1</td>\n",
       "      <td>27</td>\n",
       "      <td>24897.990863</td>\n",
       "      <td>0.035508</td>\n",
       "      <td>1</td>\n",
       "      <td>409</td>\n",
       "      <td>11686</td>\n",
       "      <td>1754</td>\n",
       "      <td>13031</td>\n",
       "    </tr>\n",
       "    <tr>\n",
       "      <th>2</th>\n",
       "      <td>2</td>\n",
       "      <td>50</td>\n",
       "      <td>23989.526947</td>\n",
       "      <td>0.098793</td>\n",
       "      <td>0</td>\n",
       "      <td>16</td>\n",
       "      <td>0</td>\n",
       "      <td>0</td>\n",
       "      <td>-16</td>\n",
       "    </tr>\n",
       "    <tr>\n",
       "      <th>3</th>\n",
       "      <td>3</td>\n",
       "      <td>18</td>\n",
       "      <td>38442.409756</td>\n",
       "      <td>0.365661</td>\n",
       "      <td>1</td>\n",
       "      <td>788</td>\n",
       "      <td>13738</td>\n",
       "      <td>1578</td>\n",
       "      <td>14528</td>\n",
       "    </tr>\n",
       "    <tr>\n",
       "      <th>4</th>\n",
       "      <td>4</td>\n",
       "      <td>24</td>\n",
       "      <td>21291.521612</td>\n",
       "      <td>0.036909</td>\n",
       "      <td>1</td>\n",
       "      <td>1048</td>\n",
       "      <td>6594</td>\n",
       "      <td>2213</td>\n",
       "      <td>7759</td>\n",
       "    </tr>\n",
       "  </tbody>\n",
       "</table>\n",
       "</div>"
      ],
      "text/plain": [
       "   ID  Возраст  Доход клиента  Вероятность банкротства  Флаг утилизации счёта  \\\n",
       "0   0       19   21620.835463                 0.138061                      0   \n",
       "1   1       27   24897.990863                 0.035508                      1   \n",
       "2   2       50   23989.526947                 0.098793                      0   \n",
       "3   3       18   38442.409756                 0.365661                      1   \n",
       "4   4       24   21291.521612                 0.036909                      1   \n",
       "\n",
       "   Расходы  PV КК  PV услуги    NPV  \n",
       "0      102      0          0   -102  \n",
       "1      409  11686       1754  13031  \n",
       "2       16      0          0    -16  \n",
       "3      788  13738       1578  14528  \n",
       "4     1048   6594       2213   7759  "
      ]
     },
     "execution_count": 2,
     "metadata": {},
     "output_type": "execute_result"
    }
   ],
   "source": [
    "# загружаем исторические данные\n",
    "df_2 = pd.read_csv('hist_credit_card.csv', header=0, sep=',')\n",
    "df_2.head()"
   ]
  },
  {
   "cell_type": "code",
   "execution_count": 3,
   "id": "bakj_u38Fi_y",
   "metadata": {
    "colab": {
     "base_uri": "https://localhost:8080/"
    },
    "id": "bakj_u38Fi_y",
    "outputId": "83d5a543-df06-4ede-c157-640a4a36b6ee"
   },
   "outputs": [
    {
     "name": "stdout",
     "output_type": "stream",
     "text": [
      "Конверсия в утилизации счета на исторических данных = 74.2 %\n"
     ]
    }
   ],
   "source": [
    "# рассчитываем baseline conversion\n",
    "base_conv = round(df_2['Флаг утилизации счёта'].sum() / df_2['Флаг утилизации счёта'].count(), 3) * 100\n",
    "print(f'Конверсия в утилизации счета на исторических данных = {base_conv} %')"
   ]
  },
  {
   "cell_type": "markdown",
   "id": "e36b594c",
   "metadata": {
    "id": "e36b594c"
   },
   "source": [
    "### 2. Нулевая гиппотеза и альтернатива."
   ]
  },
  {
   "cell_type": "markdown",
   "id": "JBB0AB5Z9CYW",
   "metadata": {
    "id": "JBB0AB5Z9CYW"
   },
   "source": [
    "Введем обозначения: р1 - частота утилизации счета на тестовой выборке, р2 - частота утилизации счета на контрольной выборке.\n",
    "\n",
    "Нулевая гипотеза Н0: p1 = p2 (то есть внедрение нового процесса авторизации не окажет статистически значимого влияния на частоту утилизации счёта)\n",
    "\n",
    "Альтернатива Н1: p1 != р2 (внедрение нового процесса авторизации повлияет на частоту утилизации счёта)\n",
    "\n",
    "Рассмотрим в данном случае двустороннюю альтернативу, так как нет однозначной уверенности, каким будет (и будет ли оно) влияние нового процесса авторизации на утилизации счёта. В случае, если нулевая гиппотеза будет отклонена, направление влияния (уменьшение/увеличение) нового процесса авторизации на утилизации счета может быть оценено на основании статистических характеристик контрольной и тестовой выборок"
   ]
  },
  {
   "cell_type": "markdown",
   "id": "692b97f3",
   "metadata": {
    "id": "692b97f3"
   },
   "source": [
    "### 3. Определение параметров, влияющих на целевую метрику"
   ]
  },
  {
   "cell_type": "markdown",
   "id": "G-XGNt94GPSc",
   "metadata": {
    "id": "G-XGNt94GPSc"
   },
   "source": [
    "Поскольку в рассматриваемом проекте мы ищем связь между бинарным ('Флаг утилизации счёта') и непрерывными ('Вероятность банкротства', 'Расходы', 'Возраст') показателями, то будем рассчитывать **точечно-биссериальный коэффициент корреляции**. Он представляет собой частный случай коэффициента корреляции Пирсона и позволяет установить связь между переменными вышеуказанного типа."
   ]
  },
  {
   "cell_type": "code",
   "execution_count": 4,
   "id": "z8L2sSx3U2H8",
   "metadata": {
    "colab": {
     "base_uri": "https://localhost:8080/"
    },
    "id": "z8L2sSx3U2H8",
    "outputId": "35aafa7b-0d37-4009-f33c-bf3d4751bb1e"
   },
   "outputs": [
    {
     "name": "stdout",
     "output_type": "stream",
     "text": [
      "Коэффициент корреляции с 'Возраст' = 0.00728\n",
      "Коэффициент корреляции с 'Доход клиента' = 0.00071\n",
      "Коэффициент корреляции с 'Вероятность банкротства' = -0.2154\n"
     ]
    }
   ],
   "source": [
    "properties = ['Возраст', 'Доход клиента', 'Вероятность банкротства']\n",
    "for i in properties:\n",
    "  a = round(pointbiserialr(df_2['Флаг утилизации счёта'].values, df_2[i].values)[0], 5)\n",
    "  print(f'Коэффициент корреляции с \\'{i}\\' = {a}')"
   ]
  },
  {
   "cell_type": "markdown",
   "id": "k4t6dySUVtIU",
   "metadata": {
    "id": "k4t6dySUVtIU"
   },
   "source": [
    "Из полученных результатов видно, что корредяция целевой метрики с переменными 'Возраст' и 'Доход клиента' практически отсутствует. Принимая во внимание достаточно большой размер выборки исторических данных, на котором исследовалась корреляция переменных, можем отметить значимую обратную корреляцию целевой метрики с величиной 'Вероятность банкротства'."
   ]
  },
  {
   "cell_type": "markdown",
   "id": "9b40ecbb",
   "metadata": {
    "id": "9b40ecbb"
   },
   "source": [
    "### 4. Расчет размера выборки"
   ]
  },
  {
   "cell_type": "markdown",
   "id": "5c2j8CR-ZE5F",
   "metadata": {
    "id": "5c2j8CR-ZE5F"
   },
   "source": [
    "Размер выборки считаем по формуле\n",
    "\n",
    "$$ n = m = \\frac{2 p_{0} (1 - p_{0}) (z_{1-\\alpha} - z_{\\beta})^2}{d^2} $$"
   ]
  },
  {
   "cell_type": "code",
   "execution_count": 5,
   "id": "tk7WBLvmjSnM",
   "metadata": {
    "colab": {
     "base_uri": "https://localhost:8080/"
    },
    "id": "tk7WBLvmjSnM",
    "outputId": "c53e0839-6a2d-4ae3-ff6c-0e2d622d46fe"
   },
   "outputs": [
    {
     "name": "stdout",
     "output_type": "stream",
     "text": [
      "Минимальный размер выборки = 8372.435417125778\n"
     ]
    }
   ],
   "source": [
    "p0 = base_conv / 100\n",
    "\n",
    "alpha = 0.05\n",
    "z_alpha = norm.ppf(1 - alpha)\n",
    "betta = 0.05   # по условию мы хотели бы различать 3%-ное изменение целевой метрики с вероятностью 95%, т.е. 1- betta = 95/100\n",
    "z_betta = norm.ppf(betta)\n",
    "d = 0.03 * df_2['Флаг утилизации счёта'].values.mean()  # mde, равное uplift(3% из условия), умноженное на среднее(из исторических данных)\n",
    "\n",
    "n = 2*p0*(1-p0)*((z_alpha - z_betta)**2) / (d**2)\n",
    "print(f'Минимальный размер выборки = {n}')"
   ]
  },
  {
   "cell_type": "markdown",
   "id": "Ycusu1KKLgqE",
   "metadata": {
    "id": "Ycusu1KKLgqE"
   },
   "source": [
    "Задаем размер выборки N = 8373"
   ]
  },
  {
   "cell_type": "markdown",
   "id": "f6945c8f",
   "metadata": {
    "id": "f6945c8f"
   },
   "source": [
    "### 5. Анализ результатов A/B теста"
   ]
  },
  {
   "cell_type": "markdown",
   "id": "4524bae8",
   "metadata": {},
   "source": [
    "### 5.1. Проверка однородности контрольной и тестовой выборок"
   ]
  },
  {
   "cell_type": "markdown",
   "id": "foPKXqtwTjUb",
   "metadata": {
    "id": "foPKXqtwTjUb"
   },
   "source": [
    "Проверяем однородность тестовой и контрольной выборок по параметру \"Вероятность банкротства\" (как параметру, с которым установленая обратная корреляция целевой метрики). Для проверки однородности используем двухвыборочный критерий Андерсона-Дарлинга."
   ]
  },
  {
   "cell_type": "code",
   "execution_count": 6,
   "id": "LVlEnA4DjWp5",
   "metadata": {
    "colab": {
     "base_uri": "https://localhost:8080/"
    },
    "id": "LVlEnA4DjWp5",
    "outputId": "b1c393cd-0e16-48c8-f9fa-f8561ca4cedb"
   },
   "outputs": [
    {
     "name": "stdout",
     "output_type": "stream",
     "text": [
      "Anderson_ksampResult(statistic=-0.36404574150101787, critical_values=array([0.325, 1.226, 1.961, 2.718, 3.752, 4.592, 6.546]), pvalue=0.25)\n"
     ]
    },
    {
     "name": "stderr",
     "output_type": "stream",
     "text": [
      "C:\\Users\\alena\\AppData\\Local\\Temp\\ipykernel_15256\\833448056.py:9: UserWarning: p-value capped: true value larger than 0.25\n",
      "  p1 = anderson_ksamp([bankrupcy_test, bankrupcy_control])\n"
     ]
    }
   ],
   "source": [
    "# загружаем контрольную и тестовую выборки а формируем вектора из величин столбцов \"Вероятность банкротства\"\n",
    "df_control = pd.read_csv('control.csv', header=0, sep=',')\n",
    "df_test = pd.read_csv('test.csv', header=0, sep=',')\n",
    "\n",
    "bankrupcy_control = df_control['Вероятность банкротства'].values\n",
    "bankrupcy_test = df_test['Вероятность банкротства'].values\n",
    "\n",
    "# рассчитываем показатели критерия\n",
    "p1 = anderson_ksamp([bankrupcy_test, bankrupcy_control])\n",
    "print(p1)"
   ]
  },
  {
   "cell_type": "markdown",
   "id": "3tXMeZZxZ4Yq",
   "metadata": {
    "id": "3tXMeZZxZ4Yq"
   },
   "source": [
    "Для нашего случая данный критерий не сработал. Он выдал предупреждение, что p-значение (25%) было ограничено и может быть не очень точным. Поэтому воспользуемся для оценки однородности контрольной и тестовой выборок (быть может не таким эффективным, но вполне применимым) критерием Колмагорова-Смирнова"
   ]
  },
  {
   "cell_type": "code",
   "execution_count": 7,
   "id": "6VL4-8YvXiGR",
   "metadata": {
    "colab": {
     "base_uri": "https://localhost:8080/"
    },
    "id": "6VL4-8YvXiGR",
    "outputId": "f3fedd8e-9186-40bd-ced1-494f630dca1d"
   },
   "outputs": [
    {
     "name": "stdout",
     "output_type": "stream",
     "text": [
      "Результаты расчета критерия: \n",
      "статистика = 0.014092917711692344, р-значение = 0.37658779385844954\n"
     ]
    }
   ],
   "source": [
    "p1 = ks_2samp(bankrupcy_control, bankrupcy_test)\n",
    "print(f'Результаты расчета критерия: \\nстатистика = {p1[0]}, р-значение = {p1[1]}')\n"
   ]
  },
  {
   "cell_type": "markdown",
   "id": "Cblf4q-IbMcW",
   "metadata": {
    "id": "Cblf4q-IbMcW"
   },
   "source": [
    "Нулевая гиппотеза для критерия однородности состоит в том, что выборки однородны. Она может быть отклонена, если р-значение, полученное в результате расчета критерия, выйдет за границы интервала [alpha/2, 1 - alpha/2], где alpha - уровень значимости. Согласно условию проекта, проверка однородности выбранного параметра осуществяется с уровнем значимости 2%. Таким образом, оснований для отклонения гипотезы об однородности тестовой и контрольной выборок нет.\n"
   ]
  },
  {
   "cell_type": "markdown",
   "id": "c174deac",
   "metadata": {},
   "source": [
    "### 5.2. Принятие решения "
   ]
  },
  {
   "cell_type": "markdown",
   "id": "lZJIuIUncjzy",
   "metadata": {
    "id": "lZJIuIUncjzy"
   },
   "source": [
    "Поскольку в данном задании мы проверяем, соотношение частот для тестовой и контрольной выборок, то используем критерий proportions_ztest"
   ]
  },
  {
   "cell_type": "code",
   "execution_count": 8,
   "id": "HB9cDM1ISUNE",
   "metadata": {
    "colab": {
     "base_uri": "https://localhost:8080/"
    },
    "id": "HB9cDM1ISUNE",
    "outputId": "62f0117f-6cf2-4a5f-915f-2d655fbcc437"
   },
   "outputs": [
    {
     "name": "stdout",
     "output_type": "stream",
     "text": [
      "Результаты расчета критерия: \n",
      "статистика = -0.6341302274915823, р-значение = 0.5259958373299385\n"
     ]
    }
   ],
   "source": [
    "# формируем массивы из данных об утилизации счета для тестовой и контрольной выборок\n",
    "ut_test = df_test['Флаг утилизации счёта'].values\n",
    "ut_control = df_control['Флаг утилизации счёта'].values\n",
    "\n",
    "# подсчитываем количество утилизаций счета для тестовой и контрольной выборок\n",
    "test_success = ut_test.sum()\n",
    "control_success = ut_control.sum()\n",
    "\n",
    "# количество элементов в выборках\n",
    "n = ut_test.shape[0]    \n",
    "\n",
    "# расчитываем статистику и р-значение критерия\n",
    "p = proportions_ztest([test_success, control_success],[n, n], alternative='two-sided')\n",
    "print(f'Результаты расчета критерия: \\nстатистика = {p[0]}, р-значение = {p[1]}')"
   ]
  },
  {
   "cell_type": "markdown",
   "id": "Q4eNoejfjcmQ",
   "metadata": {
    "id": "Q4eNoejfjcmQ"
   },
   "source": [
    "Из полученных результатов расчета z-теста видим, что р-значение попало в интервал [alpha/2, 1-alpha/2], где уровень значимости alpha=0.05.\n",
    "\n",
    "Таким образом, при статистических вводных, заданных в условии теста, у нас нет оснований отклонять нулевую гиппотезу о том, что внедрение нового процесса авторизации не окажет статистически значимого влияния на частоту утилизации счёта."
   ]
  },
  {
   "cell_type": "code",
   "execution_count": null,
   "id": "hN6KHm8ujaaL",
   "metadata": {
    "id": "hN6KHm8ujaaL"
   },
   "outputs": [],
   "source": []
  }
 ],
 "metadata": {
  "colab": {
   "provenance": []
  },
  "kernelspec": {
   "display_name": "Python 3 (ipykernel)",
   "language": "python",
   "name": "python3"
  },
  "language_info": {
   "codemirror_mode": {
    "name": "ipython",
    "version": 3
   },
   "file_extension": ".py",
   "mimetype": "text/x-python",
   "name": "python",
   "nbconvert_exporter": "python",
   "pygments_lexer": "ipython3",
   "version": "3.10.9"
  }
 },
 "nbformat": 4,
 "nbformat_minor": 5
}
